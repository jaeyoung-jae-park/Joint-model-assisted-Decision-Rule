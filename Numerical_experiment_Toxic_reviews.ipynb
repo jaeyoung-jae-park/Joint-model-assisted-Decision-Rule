{
  "nbformat": 4,
  "nbformat_minor": 0,
  "metadata": {
    "colab": {
      "name": "Numerical experiment - Toxic reviews.ipynb",
      "provenance": [],
      "collapsed_sections": [],
      "toc_visible": true,
      "machine_shape": "hm",
      "authorship_tag": "ABX9TyM+oCx4cImu5Yyr4CsvY/ma",
      "include_colab_link": true
    },
    "kernelspec": {
      "display_name": "Python 3",
      "name": "python3"
    },
    "language_info": {
      "name": "python"
    },
    "accelerator": "GPU"
  },
  "cells": [
    {
      "cell_type": "markdown",
      "metadata": {
        "id": "view-in-github",
        "colab_type": "text"
      },
      "source": [
        "<a href=\"https://colab.research.google.com/github/jaeyoung-jae-park/Joint-model-assisted-Decision-Rule/blob/main/Numerical_experiment_Toxic_reviews.ipynb\" target=\"_parent\"><img src=\"https://colab.research.google.com/assets/colab-badge.svg\" alt=\"Open In Colab\"/></a>"
      ]
    },
    {
      "cell_type": "markdown",
      "metadata": {
        "id": "LMLxzsIkfBD4"
      },
      "source": [
        "# Data preparation"
      ]
    },
    {
      "cell_type": "markdown",
      "metadata": {
        "id": "Ka7lS0dffK1H"
      },
      "source": [
        "We mount google drive and load the dataset from Kaggle. If you "
      ]
    },
    {
      "cell_type": "code",
      "metadata": {
        "id": "nmRegPsnfAJq"
      },
      "source": [
        ""
      ],
      "execution_count": null,
      "outputs": []
    },
    {
      "cell_type": "code",
      "metadata": {
        "colab": {
          "base_uri": "https://localhost:8080/"
        },
        "id": "P4ItzJJs7fZh",
        "outputId": "23773e0d-8b2c-49de-ef8a-c9065b787bd0"
      },
      "source": [
        "from google.colab import drive\n",
        "drive.mount('/content/drive')"
      ],
      "execution_count": null,
      "outputs": [
        {
          "output_type": "stream",
          "text": [
            "Mounted at /content/drive\n"
          ],
          "name": "stdout"
        }
      ]
    },
    {
      "cell_type": "code",
      "metadata": {
        "colab": {
          "resources": {
            "http://localhost:8080/nbextensions/google.colab/files.js": {
              "data": "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",
              "ok": true,
              "headers": [
                [
                  "content-type",
                  "application/javascript"
                ]
              ],
              "status": 200,
              "status_text": ""
            }
          },
          "base_uri": "https://localhost:8080/",
          "height": 89
        },
        "id": "B3HQBYuf7pX8",
        "outputId": "48f4926e-f40e-4828-d832-bc7ad4b8f24d"
      },
      "source": [
        "from google.colab import files\n",
        "files.upload()"
      ],
      "execution_count": null,
      "outputs": [
        {
          "output_type": "display_data",
          "data": {
            "text/html": [
              "\n",
              "     <input type=\"file\" id=\"files-f8122db0-e6d7-40b6-a84b-f7c3e159eaf3\" name=\"files[]\" multiple disabled\n",
              "        style=\"border:none\" />\n",
              "     <output id=\"result-f8122db0-e6d7-40b6-a84b-f7c3e159eaf3\">\n",
              "      Upload widget is only available when the cell has been executed in the\n",
              "      current browser session. Please rerun this cell to enable.\n",
              "      </output>\n",
              "      <script src=\"/nbextensions/google.colab/files.js\"></script> "
            ],
            "text/plain": [
              "<IPython.core.display.HTML object>"
            ]
          },
          "metadata": {
            "tags": []
          }
        },
        {
          "output_type": "stream",
          "text": [
            "Saving kaggle.json to kaggle.json\n"
          ],
          "name": "stdout"
        },
        {
          "output_type": "execute_result",
          "data": {
            "text/plain": [
              "{'kaggle.json': b'{\"username\":\"jaeyoungpark\",\"key\":\"0560c108cef0bdd5c48cc2c16db24253\"}'}"
            ]
          },
          "metadata": {
            "tags": []
          },
          "execution_count": 2
        }
      ]
    },
    {
      "cell_type": "code",
      "metadata": {
        "id": "P8TF8kjL7vKs"
      },
      "source": [
        "!mkdir ~/.kaggle\n",
        "!cp kaggle.json ~/.kaggle/"
      ],
      "execution_count": null,
      "outputs": []
    },
    {
      "cell_type": "code",
      "metadata": {
        "id": "inhPPkFl7w40"
      },
      "source": [
        "!chmod 600 ~/.kaggle/kaggle.json"
      ],
      "execution_count": null,
      "outputs": []
    },
    {
      "cell_type": "code",
      "metadata": {
        "colab": {
          "base_uri": "https://localhost:8080/"
        },
        "id": "rv9RECes7ySV",
        "outputId": "44f51475-a551-4ea7-dd63-4d21e41dedcb"
      },
      "source": [
        "!kaggle competitions download -c jigsaw-toxic-comment-classification-challenge"
      ],
      "execution_count": null,
      "outputs": [
        {
          "output_type": "stream",
          "text": [
            "Warning: Looks like you're using an outdated API Version, please consider updating (server 1.5.12 / client 1.5.4)\n",
            "Downloading test_labels.csv.zip to /content\n",
            "  0% 0.00/1.46M [00:00<?, ?B/s]\n",
            "100% 1.46M/1.46M [00:00<00:00, 99.2MB/s]\n",
            "Downloading sample_submission.csv.zip to /content\n",
            "  0% 0.00/1.39M [00:00<?, ?B/s]\n",
            "100% 1.39M/1.39M [00:00<00:00, 93.6MB/s]\n",
            "Downloading test.csv.zip to /content\n",
            " 73% 17.0M/23.4M [00:00<00:00, 30.3MB/s]\n",
            "100% 23.4M/23.4M [00:00<00:00, 59.3MB/s]\n",
            "Downloading train.csv.zip to /content\n",
            " 34% 9.00M/26.3M [00:00<00:00, 27.4MB/s]\n",
            "100% 26.3M/26.3M [00:00<00:00, 59.4MB/s]\n"
          ],
          "name": "stdout"
        }
      ]
    },
    {
      "cell_type": "code",
      "metadata": {
        "colab": {
          "base_uri": "https://localhost:8080/"
        },
        "id": "xhH_xojS74Do",
        "outputId": "59d68da2-1ca5-48c9-f07a-7f7d01bba568"
      },
      "source": [
        "!ls"
      ],
      "execution_count": null,
      "outputs": [
        {
          "output_type": "stream",
          "text": [
            "drive\t     sample_data\t\ttest.csv.zip\t     train.csv.zip\n",
            "kaggle.json  sample_submission.csv.zip\ttest_labels.csv.zip\n"
          ],
          "name": "stdout"
        }
      ]
    },
    {
      "cell_type": "code",
      "metadata": {
        "colab": {
          "base_uri": "https://localhost:8080/"
        },
        "id": "TN0vBYmA765j",
        "outputId": "57c9d1bf-a2aa-46a0-a586-ac8a4b617170"
      },
      "source": [
        "!mkdir toxic\n",
        "!unzip sample_submission.csv.zip -d toxic\n",
        "!unzip test_labels.csv.zip -d toxic\n",
        "!unzip test.csv.zip -d toxic\n",
        "!unzip train.csv.zip -d toxic"
      ],
      "execution_count": null,
      "outputs": [
        {
          "output_type": "stream",
          "text": [
            "Archive:  sample_submission.csv.zip\n",
            "  inflating: toxic/sample_submission.csv  \n",
            "Archive:  test_labels.csv.zip\n",
            "  inflating: toxic/test_labels.csv   \n",
            "Archive:  test.csv.zip\n",
            "  inflating: toxic/test.csv          \n",
            "Archive:  train.csv.zip\n",
            "  inflating: toxic/train.csv         \n"
          ],
          "name": "stdout"
        }
      ]
    },
    {
      "cell_type": "code",
      "metadata": {
        "id": "p2bsZX7c8NKM"
      },
      "source": [
        "import pandas as pd\n",
        "import numpy as np\n",
        "\n",
        "train = pd.read_csv(\"/content/toxic/train.csv\")\n",
        "# test = pd.read_csv(\"/content/toxic/test.csv\")"
      ],
      "execution_count": null,
      "outputs": []
    },
    {
      "cell_type": "code",
      "metadata": {
        "colab": {
          "base_uri": "https://localhost:8080/"
        },
        "id": "FrNvliWl3fJA",
        "outputId": "61e1de65-84e2-4ef2-d9ff-2fc65b82743d"
      },
      "source": [
        "np.hstack((train['toxic'].value_counts()[1], \n",
        "           train['severe_toxic'].value_counts()[1], \n",
        "           train['obscene'].value_counts()[1],\n",
        "           train['threat'].value_counts()[1],\n",
        "           train['insult'].value_counts()[1],\n",
        "           train['identity_hate'].value_counts()[1]))"
      ],
      "execution_count": null,
      "outputs": [
        {
          "output_type": "execute_result",
          "data": {
            "text/plain": [
              "array([15294,  1595,  8449,   478,  7877,  1405])"
            ]
          },
          "metadata": {
            "tags": []
          },
          "execution_count": 9
        }
      ]
    },
    {
      "cell_type": "code",
      "metadata": {
        "colab": {
          "base_uri": "https://localhost:8080/"
        },
        "id": "Tw3BeiXx8nJr",
        "outputId": "e954d056-fcf9-4ec4-fc63-6ca2242387f8"
      },
      "source": [
        "train['toxic'].value_counts()/np.sum(train['toxic'].value_counts())"
      ],
      "execution_count": null,
      "outputs": [
        {
          "output_type": "execute_result",
          "data": {
            "text/plain": [
              "0    0.904156\n",
              "1    0.095844\n",
              "Name: toxic, dtype: float64"
            ]
          },
          "metadata": {
            "tags": []
          },
          "execution_count": 62
        }
      ]
    },
    {
      "cell_type": "code",
      "metadata": {
        "colab": {
          "base_uri": "https://localhost:8080/"
        },
        "id": "ODTWLJyH8zAP",
        "outputId": "facc01d1-0c88-4c8b-c379-80791de88365"
      },
      "source": [
        "train['severe_toxic'].value_counts()/np.sum(train['severe_toxic'].value_counts())"
      ],
      "execution_count": null,
      "outputs": [
        {
          "output_type": "execute_result",
          "data": {
            "text/plain": [
              "0    0.990004\n",
              "1    0.009996\n",
              "Name: severe_toxic, dtype: float64"
            ]
          },
          "metadata": {
            "tags": []
          },
          "execution_count": 63
        }
      ]
    },
    {
      "cell_type": "code",
      "metadata": {
        "colab": {
          "base_uri": "https://localhost:8080/"
        },
        "id": "jq06pK3q83sa",
        "outputId": "cf847e11-e3a5-4403-d4b9-0fd5466f5020"
      },
      "source": [
        "train['obscene'].value_counts()/np.sum(train['obscene'].value_counts())"
      ],
      "execution_count": null,
      "outputs": [
        {
          "output_type": "execute_result",
          "data": {
            "text/plain": [
              "0    0.947052\n",
              "1    0.052948\n",
              "Name: obscene, dtype: float64"
            ]
          },
          "metadata": {
            "tags": []
          },
          "execution_count": 64
        }
      ]
    },
    {
      "cell_type": "code",
      "metadata": {
        "colab": {
          "base_uri": "https://localhost:8080/"
        },
        "id": "NYZ6vlyO86cB",
        "outputId": "c6578ade-5995-4c43-ec34-ab042ef62a22"
      },
      "source": [
        "train['threat'].value_counts()/np.sum(train['threat'].value_counts())"
      ],
      "execution_count": null,
      "outputs": [
        {
          "output_type": "execute_result",
          "data": {
            "text/plain": [
              "0    0.997004\n",
              "1    0.002996\n",
              "Name: threat, dtype: float64"
            ]
          },
          "metadata": {
            "tags": []
          },
          "execution_count": 65
        }
      ]
    },
    {
      "cell_type": "code",
      "metadata": {
        "colab": {
          "base_uri": "https://localhost:8080/"
        },
        "id": "rCPe3nSi8-Ob",
        "outputId": "184bb0c3-dd50-4ccc-bed7-14f3ee7707dd"
      },
      "source": [
        "train['insult'].value_counts()/np.sum(train['insult'].value_counts())"
      ],
      "execution_count": null,
      "outputs": [
        {
          "output_type": "execute_result",
          "data": {
            "text/plain": [
              "0    0.950636\n",
              "1    0.049364\n",
              "Name: insult, dtype: float64"
            ]
          },
          "metadata": {
            "tags": []
          },
          "execution_count": 66
        }
      ]
    },
    {
      "cell_type": "code",
      "metadata": {
        "colab": {
          "base_uri": "https://localhost:8080/"
        },
        "id": "JwCvhC2z9BeB",
        "outputId": "249183fe-90b2-4db9-f681-dd89297f3568"
      },
      "source": [
        "train['identity_hate'].value_counts()/np.sum(train['identity_hate'].value_counts())"
      ],
      "execution_count": null,
      "outputs": [
        {
          "output_type": "execute_result",
          "data": {
            "text/plain": [
              "0    0.991195\n",
              "1    0.008805\n",
              "Name: identity_hate, dtype: float64"
            ]
          },
          "metadata": {
            "tags": []
          },
          "execution_count": 67
        }
      ]
    },
    {
      "cell_type": "code",
      "metadata": {
        "colab": {
          "base_uri": "https://localhost:8080/",
          "height": 142
        },
        "id": "fQd3khaTgYkF",
        "outputId": "28637d66-8f77-41e6-aa8b-2e67a6f0d644"
      },
      "source": [
        "pd.crosstab(train['toxic'], train['obscene'])"
      ],
      "execution_count": null,
      "outputs": [
        {
          "output_type": "execute_result",
          "data": {
            "text/html": [
              "<div>\n",
              "<style scoped>\n",
              "    .dataframe tbody tr th:only-of-type {\n",
              "        vertical-align: middle;\n",
              "    }\n",
              "\n",
              "    .dataframe tbody tr th {\n",
              "        vertical-align: top;\n",
              "    }\n",
              "\n",
              "    .dataframe thead th {\n",
              "        text-align: right;\n",
              "    }\n",
              "</style>\n",
              "<table border=\"1\" class=\"dataframe\">\n",
              "  <thead>\n",
              "    <tr style=\"text-align: right;\">\n",
              "      <th>obscene</th>\n",
              "      <th>0</th>\n",
              "      <th>1</th>\n",
              "    </tr>\n",
              "    <tr>\n",
              "      <th>toxic</th>\n",
              "      <th></th>\n",
              "      <th></th>\n",
              "    </tr>\n",
              "  </thead>\n",
              "  <tbody>\n",
              "    <tr>\n",
              "      <th>0</th>\n",
              "      <td>143754</td>\n",
              "      <td>523</td>\n",
              "    </tr>\n",
              "    <tr>\n",
              "      <th>1</th>\n",
              "      <td>7368</td>\n",
              "      <td>7926</td>\n",
              "    </tr>\n",
              "  </tbody>\n",
              "</table>\n",
              "</div>"
            ],
            "text/plain": [
              "obscene       0     1\n",
              "toxic                \n",
              "0        143754   523\n",
              "1          7368  7926"
            ]
          },
          "metadata": {
            "tags": []
          },
          "execution_count": 68
        }
      ]
    },
    {
      "cell_type": "code",
      "metadata": {
        "colab": {
          "base_uri": "https://localhost:8080/",
          "height": 142
        },
        "id": "qqcONSBGgl2n",
        "outputId": "bc002799-821e-4a5b-fde9-e8d42b3fd568"
      },
      "source": [
        "pd.crosstab(train['toxic'], train['insult'])"
      ],
      "execution_count": null,
      "outputs": [
        {
          "output_type": "execute_result",
          "data": {
            "text/html": [
              "<div>\n",
              "<style scoped>\n",
              "    .dataframe tbody tr th:only-of-type {\n",
              "        vertical-align: middle;\n",
              "    }\n",
              "\n",
              "    .dataframe tbody tr th {\n",
              "        vertical-align: top;\n",
              "    }\n",
              "\n",
              "    .dataframe thead th {\n",
              "        text-align: right;\n",
              "    }\n",
              "</style>\n",
              "<table border=\"1\" class=\"dataframe\">\n",
              "  <thead>\n",
              "    <tr style=\"text-align: right;\">\n",
              "      <th>insult</th>\n",
              "      <th>0</th>\n",
              "      <th>1</th>\n",
              "    </tr>\n",
              "    <tr>\n",
              "      <th>toxic</th>\n",
              "      <th></th>\n",
              "      <th></th>\n",
              "    </tr>\n",
              "  </thead>\n",
              "  <tbody>\n",
              "    <tr>\n",
              "      <th>0</th>\n",
              "      <td>143744</td>\n",
              "      <td>533</td>\n",
              "    </tr>\n",
              "    <tr>\n",
              "      <th>1</th>\n",
              "      <td>7950</td>\n",
              "      <td>7344</td>\n",
              "    </tr>\n",
              "  </tbody>\n",
              "</table>\n",
              "</div>"
            ],
            "text/plain": [
              "insult       0     1\n",
              "toxic               \n",
              "0       143744   533\n",
              "1         7950  7344"
            ]
          },
          "metadata": {
            "tags": []
          },
          "execution_count": 70
        }
      ]
    },
    {
      "cell_type": "code",
      "metadata": {
        "colab": {
          "base_uri": "https://localhost:8080/",
          "height": 470
        },
        "id": "WjxyDgkVA3Hb",
        "outputId": "85604754-8c15-4828-8389-4b529c8d8f18"
      },
      "source": [
        "train"
      ],
      "execution_count": null,
      "outputs": [
        {
          "output_type": "execute_result",
          "data": {
            "text/html": [
              "<div>\n",
              "<style scoped>\n",
              "    .dataframe tbody tr th:only-of-type {\n",
              "        vertical-align: middle;\n",
              "    }\n",
              "\n",
              "    .dataframe tbody tr th {\n",
              "        vertical-align: top;\n",
              "    }\n",
              "\n",
              "    .dataframe thead th {\n",
              "        text-align: right;\n",
              "    }\n",
              "</style>\n",
              "<table border=\"1\" class=\"dataframe\">\n",
              "  <thead>\n",
              "    <tr style=\"text-align: right;\">\n",
              "      <th></th>\n",
              "      <th>id</th>\n",
              "      <th>comment_text</th>\n",
              "      <th>toxic</th>\n",
              "      <th>severe_toxic</th>\n",
              "      <th>obscene</th>\n",
              "      <th>threat</th>\n",
              "      <th>insult</th>\n",
              "      <th>identity_hate</th>\n",
              "    </tr>\n",
              "  </thead>\n",
              "  <tbody>\n",
              "    <tr>\n",
              "      <th>0</th>\n",
              "      <td>0000997932d777bf</td>\n",
              "      <td>Explanation\\nWhy the edits made under my usern...</td>\n",
              "      <td>0</td>\n",
              "      <td>0</td>\n",
              "      <td>0</td>\n",
              "      <td>0</td>\n",
              "      <td>0</td>\n",
              "      <td>0</td>\n",
              "    </tr>\n",
              "    <tr>\n",
              "      <th>1</th>\n",
              "      <td>000103f0d9cfb60f</td>\n",
              "      <td>D'aww! He matches this background colour I'm s...</td>\n",
              "      <td>0</td>\n",
              "      <td>0</td>\n",
              "      <td>0</td>\n",
              "      <td>0</td>\n",
              "      <td>0</td>\n",
              "      <td>0</td>\n",
              "    </tr>\n",
              "    <tr>\n",
              "      <th>2</th>\n",
              "      <td>000113f07ec002fd</td>\n",
              "      <td>Hey man, I'm really not trying to edit war. It...</td>\n",
              "      <td>0</td>\n",
              "      <td>0</td>\n",
              "      <td>0</td>\n",
              "      <td>0</td>\n",
              "      <td>0</td>\n",
              "      <td>0</td>\n",
              "    </tr>\n",
              "    <tr>\n",
              "      <th>3</th>\n",
              "      <td>0001b41b1c6bb37e</td>\n",
              "      <td>\"\\nMore\\nI can't make any real suggestions on ...</td>\n",
              "      <td>0</td>\n",
              "      <td>0</td>\n",
              "      <td>0</td>\n",
              "      <td>0</td>\n",
              "      <td>0</td>\n",
              "      <td>0</td>\n",
              "    </tr>\n",
              "    <tr>\n",
              "      <th>4</th>\n",
              "      <td>0001d958c54c6e35</td>\n",
              "      <td>You, sir, are my hero. Any chance you remember...</td>\n",
              "      <td>0</td>\n",
              "      <td>0</td>\n",
              "      <td>0</td>\n",
              "      <td>0</td>\n",
              "      <td>0</td>\n",
              "      <td>0</td>\n",
              "    </tr>\n",
              "    <tr>\n",
              "      <th>...</th>\n",
              "      <td>...</td>\n",
              "      <td>...</td>\n",
              "      <td>...</td>\n",
              "      <td>...</td>\n",
              "      <td>...</td>\n",
              "      <td>...</td>\n",
              "      <td>...</td>\n",
              "      <td>...</td>\n",
              "    </tr>\n",
              "    <tr>\n",
              "      <th>159566</th>\n",
              "      <td>ffe987279560d7ff</td>\n",
              "      <td>\":::::And for the second time of asking, when ...</td>\n",
              "      <td>0</td>\n",
              "      <td>0</td>\n",
              "      <td>0</td>\n",
              "      <td>0</td>\n",
              "      <td>0</td>\n",
              "      <td>0</td>\n",
              "    </tr>\n",
              "    <tr>\n",
              "      <th>159567</th>\n",
              "      <td>ffea4adeee384e90</td>\n",
              "      <td>You should be ashamed of yourself \\n\\nThat is ...</td>\n",
              "      <td>0</td>\n",
              "      <td>0</td>\n",
              "      <td>0</td>\n",
              "      <td>0</td>\n",
              "      <td>0</td>\n",
              "      <td>0</td>\n",
              "    </tr>\n",
              "    <tr>\n",
              "      <th>159568</th>\n",
              "      <td>ffee36eab5c267c9</td>\n",
              "      <td>Spitzer \\n\\nUmm, theres no actual article for ...</td>\n",
              "      <td>0</td>\n",
              "      <td>0</td>\n",
              "      <td>0</td>\n",
              "      <td>0</td>\n",
              "      <td>0</td>\n",
              "      <td>0</td>\n",
              "    </tr>\n",
              "    <tr>\n",
              "      <th>159569</th>\n",
              "      <td>fff125370e4aaaf3</td>\n",
              "      <td>And it looks like it was actually you who put ...</td>\n",
              "      <td>0</td>\n",
              "      <td>0</td>\n",
              "      <td>0</td>\n",
              "      <td>0</td>\n",
              "      <td>0</td>\n",
              "      <td>0</td>\n",
              "    </tr>\n",
              "    <tr>\n",
              "      <th>159570</th>\n",
              "      <td>fff46fc426af1f9a</td>\n",
              "      <td>\"\\nAnd ... I really don't think you understand...</td>\n",
              "      <td>0</td>\n",
              "      <td>0</td>\n",
              "      <td>0</td>\n",
              "      <td>0</td>\n",
              "      <td>0</td>\n",
              "      <td>0</td>\n",
              "    </tr>\n",
              "  </tbody>\n",
              "</table>\n",
              "<p>159571 rows × 8 columns</p>\n",
              "</div>"
            ],
            "text/plain": [
              "                      id  ... identity_hate\n",
              "0       0000997932d777bf  ...             0\n",
              "1       000103f0d9cfb60f  ...             0\n",
              "2       000113f07ec002fd  ...             0\n",
              "3       0001b41b1c6bb37e  ...             0\n",
              "4       0001d958c54c6e35  ...             0\n",
              "...                  ...  ...           ...\n",
              "159566  ffe987279560d7ff  ...             0\n",
              "159567  ffea4adeee384e90  ...             0\n",
              "159568  ffee36eab5c267c9  ...             0\n",
              "159569  fff125370e4aaaf3  ...             0\n",
              "159570  fff46fc426af1f9a  ...             0\n",
              "\n",
              "[159571 rows x 8 columns]"
            ]
          },
          "metadata": {
            "tags": []
          },
          "execution_count": 24
        }
      ]
    },
    {
      "cell_type": "code",
      "metadata": {
        "colab": {
          "base_uri": "https://localhost:8080/"
        },
        "id": "c4-gv03wZvqP",
        "outputId": "65efafa8-a966-4c0c-f5c3-b3a87640313a"
      },
      "source": [
        ""
      ],
      "execution_count": null,
      "outputs": [
        {
          "output_type": "execute_result",
          "data": {
            "text/plain": [
              "7926"
            ]
          },
          "metadata": {
            "tags": []
          },
          "execution_count": 14
        }
      ]
    },
    {
      "cell_type": "code",
      "metadata": {
        "id": "u-opl1PE_ux8"
      },
      "source": [
        "X = train['comment_text']\n",
        "y = train[['toxic','severe_toxic', 'obscene', 'threat', 'insult', 'identity_hate']]\n",
        "y_aux = train[['toxic', 'obscene', 'insult']]\n",
        "# y_aux1 = train[['toxic', 'obscene']]\n",
        "# y_aux2 = train[['toxic', 'insult']]\n",
        "y_aux_agg = pd.concat([y_aux, y_aux.iloc[:,0] * y_aux.iloc[:,1],\n",
        "                        y_aux.iloc[:,0] * y_aux.iloc[:,2]], axis=1)\n",
        "# y_aux1_agg = pd.concat([y_aux1, y_aux1.iloc[:,0] * y_aux1.iloc[:,1]], axis=1)\n",
        "# y_aux2_agg = pd.concat([y_aux2, y_aux2.iloc[:,0] * y_aux2.iloc[:,1]], axis=1)\n",
        "y_tgt = train['toxic']\n",
        "# y_tgt = train['obscene']\n",
        "# y = train['insult']"
      ],
      "execution_count": null,
      "outputs": []
    },
    {
      "cell_type": "code",
      "metadata": {
        "colab": {
          "base_uri": "https://localhost:8080/",
          "height": 419
        },
        "id": "16MvhTWOaBEU",
        "outputId": "aa49ab67-ff64-459c-b52b-e02d705cd55f"
      },
      "source": [
        "y_aux_agg"
      ],
      "execution_count": null,
      "outputs": [
        {
          "output_type": "execute_result",
          "data": {
            "text/html": [
              "<div>\n",
              "<style scoped>\n",
              "    .dataframe tbody tr th:only-of-type {\n",
              "        vertical-align: middle;\n",
              "    }\n",
              "\n",
              "    .dataframe tbody tr th {\n",
              "        vertical-align: top;\n",
              "    }\n",
              "\n",
              "    .dataframe thead th {\n",
              "        text-align: right;\n",
              "    }\n",
              "</style>\n",
              "<table border=\"1\" class=\"dataframe\">\n",
              "  <thead>\n",
              "    <tr style=\"text-align: right;\">\n",
              "      <th></th>\n",
              "      <th>toxic</th>\n",
              "      <th>obscene</th>\n",
              "      <th>insult</th>\n",
              "      <th>0</th>\n",
              "      <th>1</th>\n",
              "    </tr>\n",
              "  </thead>\n",
              "  <tbody>\n",
              "    <tr>\n",
              "      <th>0</th>\n",
              "      <td>0</td>\n",
              "      <td>0</td>\n",
              "      <td>0</td>\n",
              "      <td>0</td>\n",
              "      <td>0</td>\n",
              "    </tr>\n",
              "    <tr>\n",
              "      <th>1</th>\n",
              "      <td>0</td>\n",
              "      <td>0</td>\n",
              "      <td>0</td>\n",
              "      <td>0</td>\n",
              "      <td>0</td>\n",
              "    </tr>\n",
              "    <tr>\n",
              "      <th>2</th>\n",
              "      <td>0</td>\n",
              "      <td>0</td>\n",
              "      <td>0</td>\n",
              "      <td>0</td>\n",
              "      <td>0</td>\n",
              "    </tr>\n",
              "    <tr>\n",
              "      <th>3</th>\n",
              "      <td>0</td>\n",
              "      <td>0</td>\n",
              "      <td>0</td>\n",
              "      <td>0</td>\n",
              "      <td>0</td>\n",
              "    </tr>\n",
              "    <tr>\n",
              "      <th>4</th>\n",
              "      <td>0</td>\n",
              "      <td>0</td>\n",
              "      <td>0</td>\n",
              "      <td>0</td>\n",
              "      <td>0</td>\n",
              "    </tr>\n",
              "    <tr>\n",
              "      <th>...</th>\n",
              "      <td>...</td>\n",
              "      <td>...</td>\n",
              "      <td>...</td>\n",
              "      <td>...</td>\n",
              "      <td>...</td>\n",
              "    </tr>\n",
              "    <tr>\n",
              "      <th>159566</th>\n",
              "      <td>0</td>\n",
              "      <td>0</td>\n",
              "      <td>0</td>\n",
              "      <td>0</td>\n",
              "      <td>0</td>\n",
              "    </tr>\n",
              "    <tr>\n",
              "      <th>159567</th>\n",
              "      <td>0</td>\n",
              "      <td>0</td>\n",
              "      <td>0</td>\n",
              "      <td>0</td>\n",
              "      <td>0</td>\n",
              "    </tr>\n",
              "    <tr>\n",
              "      <th>159568</th>\n",
              "      <td>0</td>\n",
              "      <td>0</td>\n",
              "      <td>0</td>\n",
              "      <td>0</td>\n",
              "      <td>0</td>\n",
              "    </tr>\n",
              "    <tr>\n",
              "      <th>159569</th>\n",
              "      <td>0</td>\n",
              "      <td>0</td>\n",
              "      <td>0</td>\n",
              "      <td>0</td>\n",
              "      <td>0</td>\n",
              "    </tr>\n",
              "    <tr>\n",
              "      <th>159570</th>\n",
              "      <td>0</td>\n",
              "      <td>0</td>\n",
              "      <td>0</td>\n",
              "      <td>0</td>\n",
              "      <td>0</td>\n",
              "    </tr>\n",
              "  </tbody>\n",
              "</table>\n",
              "<p>159571 rows × 5 columns</p>\n",
              "</div>"
            ],
            "text/plain": [
              "        toxic  obscene  insult  0  1\n",
              "0           0        0       0  0  0\n",
              "1           0        0       0  0  0\n",
              "2           0        0       0  0  0\n",
              "3           0        0       0  0  0\n",
              "4           0        0       0  0  0\n",
              "...       ...      ...     ... .. ..\n",
              "159566      0        0       0  0  0\n",
              "159567      0        0       0  0  0\n",
              "159568      0        0       0  0  0\n",
              "159569      0        0       0  0  0\n",
              "159570      0        0       0  0  0\n",
              "\n",
              "[159571 rows x 5 columns]"
            ]
          },
          "metadata": {
            "tags": []
          },
          "execution_count": 14
        }
      ]
    },
    {
      "cell_type": "code",
      "metadata": {
        "id": "UmGPHCoa_mSS"
      },
      "source": [
        "from sklearn.model_selection import train_test_split\n",
        "\n",
        "X_train, X_test, y_train, y_test = train_test_split(X, y_tgt, test_size = 0.1, random_state=1, shuffle=True)"
      ],
      "execution_count": null,
      "outputs": []
    },
    {
      "cell_type": "code",
      "metadata": {
        "colab": {
          "base_uri": "https://localhost:8080/",
          "height": 232
        },
        "id": "dLCayH4N_KeK",
        "outputId": "1cbc7ce5-960f-46d9-eac2-3a717984beac"
      },
      "source": [
        "from tensorflow.python.keras.preprocessing.text import Tokenizer\n",
        "from tensorflow.python.keras.preprocessing.sequence import pad_sequences\n",
        "\n",
        "vocab_size = 5000\n",
        "\n",
        "tokenizer_obj = Tokenizer(num_words = vocab_size)\n",
        "tokenizer_obj.fit_on_texts(X_train)\n",
        "\n",
        "max_length = max([len(s.split()) for s in X])\n",
        "\n",
        "# vocab_size = len(tokenizer_obj.word_index) + 1\n",
        "\n",
        "X_train_tokens = tokenizer_obj.texts_to_matrix(X_train, mode='tfidf')\n",
        "X_test_tokens = tokenizer_obj.texts_to_matrix(X_test, mode='tfidf')\n",
        "\n",
        "\n",
        "# X_train_tokens = tokenizer_obj.texts_to_sequences(X_train)\n",
        "# X_test_tokens = tokenizer_obj.texts_to_sequences(X_test)\n",
        "\n",
        "# X_train_pad = pad_sequences(X_train_tokens, maxlen=max_length, padding='post')\n",
        "# X_test_pad = pad_sequences(X_test_tokens, maxlen=max_length, padding='post')"
      ],
      "execution_count": null,
      "outputs": [
        {
          "output_type": "error",
          "ename": "NameError",
          "evalue": "ignored",
          "traceback": [
            "\u001b[0;31m---------------------------------------------------------------------------\u001b[0m",
            "\u001b[0;31mNameError\u001b[0m                                 Traceback (most recent call last)",
            "\u001b[0;32m<ipython-input-9-1a0f423d1d6a>\u001b[0m in \u001b[0;36m<module>\u001b[0;34m()\u001b[0m\n\u001b[1;32m      5\u001b[0m \u001b[0;34m\u001b[0m\u001b[0m\n\u001b[1;32m      6\u001b[0m \u001b[0mtokenizer_obj\u001b[0m \u001b[0;34m=\u001b[0m \u001b[0mTokenizer\u001b[0m\u001b[0;34m(\u001b[0m\u001b[0mnum_words\u001b[0m \u001b[0;34m=\u001b[0m \u001b[0mvocab_size\u001b[0m\u001b[0;34m)\u001b[0m\u001b[0;34m\u001b[0m\u001b[0;34m\u001b[0m\u001b[0m\n\u001b[0;32m----> 7\u001b[0;31m \u001b[0mtokenizer_obj\u001b[0m\u001b[0;34m.\u001b[0m\u001b[0mfit_on_texts\u001b[0m\u001b[0;34m(\u001b[0m\u001b[0mX_train\u001b[0m\u001b[0;34m)\u001b[0m\u001b[0;34m\u001b[0m\u001b[0;34m\u001b[0m\u001b[0m\n\u001b[0m\u001b[1;32m      8\u001b[0m \u001b[0;34m\u001b[0m\u001b[0m\n\u001b[1;32m      9\u001b[0m \u001b[0mmax_length\u001b[0m \u001b[0;34m=\u001b[0m \u001b[0mmax\u001b[0m\u001b[0;34m(\u001b[0m\u001b[0;34m[\u001b[0m\u001b[0mlen\u001b[0m\u001b[0;34m(\u001b[0m\u001b[0ms\u001b[0m\u001b[0;34m.\u001b[0m\u001b[0msplit\u001b[0m\u001b[0;34m(\u001b[0m\u001b[0;34m)\u001b[0m\u001b[0;34m)\u001b[0m \u001b[0;32mfor\u001b[0m \u001b[0ms\u001b[0m \u001b[0;32min\u001b[0m \u001b[0mX\u001b[0m\u001b[0;34m]\u001b[0m\u001b[0;34m)\u001b[0m\u001b[0;34m\u001b[0m\u001b[0;34m\u001b[0m\u001b[0m\n",
            "\u001b[0;31mNameError\u001b[0m: name 'X_train' is not defined"
          ]
        }
      ]
    },
    {
      "cell_type": "code",
      "metadata": {
        "colab": {
          "base_uri": "https://localhost:8080/"
        },
        "id": "SoSjjjcaB6sH",
        "outputId": "d1f2e98b-cf8d-4d8e-bac2-041205077b1a"
      },
      "source": [
        "X_train_tokens.shape"
      ],
      "execution_count": null,
      "outputs": [
        {
          "output_type": "execute_result",
          "data": {
            "text/plain": [
              "(143613, 5000)"
            ]
          },
          "metadata": {
            "tags": []
          },
          "execution_count": 11
        }
      ]
    },
    {
      "cell_type": "code",
      "metadata": {
        "colab": {
          "base_uri": "https://localhost:8080/"
        },
        "id": "CHGTP9UwDQF1",
        "outputId": "5673426c-5e98-4af1-954d-9205cb397a27"
      },
      "source": [
        "y_train"
      ],
      "execution_count": null,
      "outputs": [
        {
          "output_type": "execute_result",
          "data": {
            "text/plain": [
              "50710     0\n",
              "70206     0\n",
              "45716     0\n",
              "93725     0\n",
              "74710     0\n",
              "         ..\n",
              "73349     0\n",
              "109259    0\n",
              "50057     0\n",
              "5192      0\n",
              "128037    1\n",
              "Name: toxic, Length: 143613, dtype: int64"
            ]
          },
          "metadata": {
            "tags": []
          },
          "execution_count": 12
        }
      ]
    },
    {
      "cell_type": "code",
      "metadata": {
        "id": "XRinpP7FxkGA"
      },
      "source": [
        ""
      ],
      "execution_count": null,
      "outputs": []
    },
    {
      "cell_type": "markdown",
      "metadata": {
        "id": "OcL4_JBWxlcU"
      },
      "source": [
        "# Vanilla"
      ]
    },
    {
      "cell_type": "code",
      "metadata": {
        "colab": {
          "base_uri": "https://localhost:8080/"
        },
        "id": "ZV1QRXX4N55q",
        "outputId": "a3f933e3-7fac-4520-85ac-4b073cf5925a"
      },
      "source": [
        "y_aux1.shape"
      ],
      "execution_count": null,
      "outputs": [
        {
          "output_type": "execute_result",
          "data": {
            "text/plain": [
              "(159571, 2)"
            ]
          },
          "metadata": {
            "tags": []
          },
          "execution_count": 56
        }
      ]
    },
    {
      "cell_type": "code",
      "metadata": {
        "id": "VRCZdF-WhLsO"
      },
      "source": [
        "from keras.models import Sequential, Model\n",
        "from keras.layers import Dense, Embedding, Dropout\n",
        "from keras.layers.embeddings import Embedding\n",
        "from keras.callbacks import EarlyStopping, ReduceLROnPlateau\n",
        "from keras.optimizers import SGD\n",
        "\n",
        "\n",
        "def define_Vanilla(output_dim):\n",
        "\n",
        "  output_dim = output_dim\n",
        "\n",
        "  model = Sequential()\n",
        "  model.add(Dense(256, input_shape=(vocab_size,), activation='relu'))\n",
        "  # model.add(Dropout(0.3))\n",
        "  model.add(Dense(128, activation='relu'))\n",
        "  model.add(Dropout(0.1))\n",
        "  # model.add(Dense(1024, activation='relu'))\n",
        "  model.add(Dense(output_dim, activation = \"sigmoid\"))\n",
        "  model.summary()\n",
        "  return model\n",
        "\n",
        "def train_Vanilla(model, X, y, epochs, batch_size):\n",
        "  if model is None:\n",
        "    if len(y.shape) == 1:\n",
        "      model = define_Vanilla(1)\n",
        "    else: model= define_Vanilla(y.shape[1])\n",
        "  es = EarlyStopping(monitor='val_loss', mode='min', verbose=1, patience=10)\n",
        "  rl = ReduceLROnPlateau(monitor='val_loss', factor=0.1, patience=5)\n",
        "  # model.compile(loss='categorical_crossentropy', optimizer='adagrad', metrics=['accuracy'])\n",
        "  # model.compile(loss='binary_crossentropy', optimizer='ada  grad', metrics=['accuracy'])\n",
        "  model.compile(loss='binary_crossentropy', optimizer=SGD(learning_rate = 0.001, momentum=0.9), metrics=['accuracy'])\n",
        "  # model.fit(X_train_tokens , y_aux_train, batch_size = 128, epochs = 50, validation_split=0.2, callbacks=[es])\n",
        "  history = model.fit(X , y, batch_size = batch_size, epochs = epochs, validation_split=0.2, callbacks=[es, rl], verbose=2)\n",
        "  # history = model.fit(X , y, batch_size = batch_size, epochs = epochs, validation_split=0.2)\n",
        "  return model, history\n"
      ],
      "execution_count": null,
      "outputs": []
    },
    {
      "cell_type": "code",
      "metadata": {
        "id": "ng5j7WPGXaAV"
      },
      "source": [
        "from keras.models import Sequential, Model\n",
        "from keras.layers import Dense, Embedding, Dropout\n",
        "from keras.layers.embeddings import Embedding\n",
        "from keras.callbacks import EarlyStopping\n",
        "\n",
        "def define_Vanilla_linear(output_dim):\n",
        "\n",
        "  output_dim = output_dim\n",
        "\n",
        "  model = Sequential()\n",
        "  model.add(Dense(output_dim, input_shape=(vocab_size,), activation = \"sigmoid\"))\n",
        "  model.summary()\n",
        "  return model\n",
        "\n",
        "def train_Vanilla_linear(model, X, y, epochs, batch_size):\n",
        "  if model is None:\n",
        "    if len(y.shape) == 1:\n",
        "      model = define_Vanilla_linear(1)\n",
        "    else: model= define_Vanilla_linear(y.shape[1])\n",
        "  es = EarlyStopping(monitor='val_loss', mode='min', verbose=1, patience=10)\n",
        "  rl = ReduceLROnPlateau(monitor='val_loss', factor=0.1, patience=5)\n",
        "\n",
        "  # model.compile(loss='categorical_crossentropy', optimizer='adagrad', metrics=['accuracy'])\n",
        "  model.compile(loss='binary_crossentropy', optimizer=SGD(learning_rate = 0.001, momentum=0.9), metrics=['accuracy'])\n",
        "  # model.fit(X_train_tokens , y_aux_train, batch_size = 128, epochs = 50, validation_split=0.2, callbacks=[es])\n",
        "  history = model.fit(X , y, batch_size = batch_size, epochs = epochs, validation_split=0.2, callbacks=[es, rl], verbose = 2)\n",
        "  # history = model.fit(X , y, batch_size = batch_size, epochs = epochs, validation_split=0.2)\n",
        "  return model, history\n"
      ],
      "execution_count": null,
      "outputs": []
    },
    {
      "cell_type": "code",
      "metadata": {
        "colab": {
          "base_uri": "https://localhost:8080/"
        },
        "id": "scrywP-yhMgO",
        "outputId": "6555e159-36b9-461f-e61b-dbec11907a0f"
      },
      "source": [
        "model, history = train_Vanilla(None, X_train_tokens, y_train, epochs=300, batch_size=128)"
      ],
      "execution_count": null,
      "outputs": [
        {
          "output_type": "stream",
          "text": [
            "Model: \"sequential_1\"\n",
            "_________________________________________________________________\n",
            "Layer (type)                 Output Shape              Param #   \n",
            "=================================================================\n",
            "dense_3 (Dense)              (None, 256)               1280256   \n",
            "_________________________________________________________________\n",
            "dense_4 (Dense)              (None, 128)               32896     \n",
            "_________________________________________________________________\n",
            "dropout_1 (Dropout)          (None, 128)               0         \n",
            "_________________________________________________________________\n",
            "dense_5 (Dense)              (None, 1)                 129       \n",
            "=================================================================\n",
            "Total params: 1,313,281\n",
            "Trainable params: 1,313,281\n",
            "Non-trainable params: 0\n",
            "_________________________________________________________________\n",
            "Epoch 1/300\n",
            "898/898 [==============================] - 6s 4ms/step - loss: 0.4066 - accuracy: 0.8849 - val_loss: 0.3021 - val_accuracy: 0.9065\n",
            "Epoch 2/300\n",
            "898/898 [==============================] - 3s 4ms/step - loss: 0.2960 - accuracy: 0.9040 - val_loss: 0.2643 - val_accuracy: 0.9085\n",
            "Epoch 3/300\n",
            "898/898 [==============================] - 3s 4ms/step - loss: 0.2580 - accuracy: 0.9083 - val_loss: 0.2307 - val_accuracy: 0.9171\n",
            "Epoch 4/300\n",
            "898/898 [==============================] - 3s 4ms/step - loss: 0.2242 - accuracy: 0.9182 - val_loss: 0.2037 - val_accuracy: 0.9282\n",
            "Epoch 5/300\n",
            "898/898 [==============================] - 3s 4ms/step - loss: 0.1982 - accuracy: 0.9285 - val_loss: 0.1854 - val_accuracy: 0.9352\n",
            "Epoch 6/300\n",
            "898/898 [==============================] - 3s 4ms/step - loss: 0.1803 - accuracy: 0.9353 - val_loss: 0.1732 - val_accuracy: 0.9397\n",
            "Epoch 7/300\n",
            "898/898 [==============================] - 3s 4ms/step - loss: 0.1652 - accuracy: 0.9413 - val_loss: 0.1646 - val_accuracy: 0.9430\n",
            "Epoch 8/300\n",
            "898/898 [==============================] - 3s 4ms/step - loss: 0.1570 - accuracy: 0.9448 - val_loss: 0.1582 - val_accuracy: 0.9451\n",
            "Epoch 9/300\n",
            "898/898 [==============================] - 3s 4ms/step - loss: 0.1506 - accuracy: 0.9465 - val_loss: 0.1534 - val_accuracy: 0.9473\n",
            "Epoch 10/300\n",
            "898/898 [==============================] - 3s 4ms/step - loss: 0.1449 - accuracy: 0.9487 - val_loss: 0.1495 - val_accuracy: 0.9489\n",
            "Epoch 11/300\n",
            "898/898 [==============================] - 3s 4ms/step - loss: 0.1372 - accuracy: 0.9519 - val_loss: 0.1464 - val_accuracy: 0.9498\n",
            "Epoch 12/300\n",
            "898/898 [==============================] - 3s 4ms/step - loss: 0.1318 - accuracy: 0.9538 - val_loss: 0.1439 - val_accuracy: 0.9512\n",
            "Epoch 13/300\n",
            "898/898 [==============================] - 3s 4ms/step - loss: 0.1285 - accuracy: 0.9541 - val_loss: 0.1418 - val_accuracy: 0.9520\n",
            "Epoch 14/300\n",
            "898/898 [==============================] - 3s 4ms/step - loss: 0.1253 - accuracy: 0.9559 - val_loss: 0.1401 - val_accuracy: 0.9528\n",
            "Epoch 15/300\n",
            "898/898 [==============================] - 3s 4ms/step - loss: 0.1202 - accuracy: 0.9575 - val_loss: 0.1386 - val_accuracy: 0.9538\n",
            "Epoch 16/300\n",
            "898/898 [==============================] - 3s 4ms/step - loss: 0.1159 - accuracy: 0.9590 - val_loss: 0.1374 - val_accuracy: 0.9541\n",
            "Epoch 17/300\n",
            "898/898 [==============================] - 3s 4ms/step - loss: 0.1166 - accuracy: 0.9587 - val_loss: 0.1364 - val_accuracy: 0.9542\n",
            "Epoch 18/300\n",
            "898/898 [==============================] - 3s 4ms/step - loss: 0.1103 - accuracy: 0.9607 - val_loss: 0.1356 - val_accuracy: 0.9545\n",
            "Epoch 19/300\n",
            "898/898 [==============================] - 3s 4ms/step - loss: 0.1102 - accuracy: 0.9602 - val_loss: 0.1349 - val_accuracy: 0.9548\n",
            "Epoch 20/300\n",
            "898/898 [==============================] - 3s 4ms/step - loss: 0.1069 - accuracy: 0.9624 - val_loss: 0.1343 - val_accuracy: 0.9551\n",
            "Epoch 21/300\n",
            "898/898 [==============================] - 4s 4ms/step - loss: 0.1057 - accuracy: 0.9625 - val_loss: 0.1339 - val_accuracy: 0.9555\n",
            "Epoch 22/300\n",
            "898/898 [==============================] - 4s 4ms/step - loss: 0.1021 - accuracy: 0.9641 - val_loss: 0.1337 - val_accuracy: 0.9557\n",
            "Epoch 23/300\n",
            "898/898 [==============================] - 4s 4ms/step - loss: 0.1025 - accuracy: 0.9634 - val_loss: 0.1335 - val_accuracy: 0.9562\n",
            "Epoch 24/300\n",
            "898/898 [==============================] - 4s 4ms/step - loss: 0.0996 - accuracy: 0.9647 - val_loss: 0.1332 - val_accuracy: 0.9563\n",
            "Epoch 25/300\n",
            "898/898 [==============================] - 4s 4ms/step - loss: 0.0965 - accuracy: 0.9657 - val_loss: 0.1331 - val_accuracy: 0.9563\n",
            "Epoch 26/300\n",
            "898/898 [==============================] - 4s 4ms/step - loss: 0.0964 - accuracy: 0.9658 - val_loss: 0.1331 - val_accuracy: 0.9565\n",
            "Epoch 27/300\n",
            "898/898 [==============================] - 4s 4ms/step - loss: 0.0954 - accuracy: 0.9658 - val_loss: 0.1330 - val_accuracy: 0.9568\n",
            "Epoch 28/300\n",
            "898/898 [==============================] - 3s 4ms/step - loss: 0.0935 - accuracy: 0.9670 - val_loss: 0.1331 - val_accuracy: 0.9570\n",
            "Epoch 29/300\n",
            "898/898 [==============================] - 3s 4ms/step - loss: 0.0921 - accuracy: 0.9667 - val_loss: 0.1331 - val_accuracy: 0.9569\n",
            "Epoch 30/300\n",
            "898/898 [==============================] - 3s 4ms/step - loss: 0.0904 - accuracy: 0.9680 - val_loss: 0.1332 - val_accuracy: 0.9571\n",
            "Epoch 31/300\n",
            "898/898 [==============================] - 3s 4ms/step - loss: 0.0896 - accuracy: 0.9679 - val_loss: 0.1333 - val_accuracy: 0.9570\n",
            "Epoch 32/300\n",
            "898/898 [==============================] - 3s 4ms/step - loss: 0.0864 - accuracy: 0.9692 - val_loss: 0.1335 - val_accuracy: 0.9570\n",
            "Epoch 00032: early stopping\n"
          ],
          "name": "stdout"
        }
      ]
    },
    {
      "cell_type": "code",
      "metadata": {
        "colab": {
          "base_uri": "https://localhost:8080/",
          "height": 142
        },
        "id": "JeCyncQHsSth",
        "outputId": "d2e51dc9-c456-4f9b-f0d7-49dca8ded8ce"
      },
      "source": [
        "pd.crosstab(y_test, ((model.predict(X_test_tokens) > 0.5)*1).reshape(-1))"
      ],
      "execution_count": null,
      "outputs": [
        {
          "output_type": "execute_result",
          "data": {
            "text/html": [
              "<div>\n",
              "<style scoped>\n",
              "    .dataframe tbody tr th:only-of-type {\n",
              "        vertical-align: middle;\n",
              "    }\n",
              "\n",
              "    .dataframe tbody tr th {\n",
              "        vertical-align: top;\n",
              "    }\n",
              "\n",
              "    .dataframe thead th {\n",
              "        text-align: right;\n",
              "    }\n",
              "</style>\n",
              "<table border=\"1\" class=\"dataframe\">\n",
              "  <thead>\n",
              "    <tr style=\"text-align: right;\">\n",
              "      <th>col_0</th>\n",
              "      <th>0</th>\n",
              "      <th>1</th>\n",
              "    </tr>\n",
              "    <tr>\n",
              "      <th>insult</th>\n",
              "      <th></th>\n",
              "      <th></th>\n",
              "    </tr>\n",
              "  </thead>\n",
              "  <tbody>\n",
              "    <tr>\n",
              "      <th>0</th>\n",
              "      <td>15011</td>\n",
              "      <td>143</td>\n",
              "    </tr>\n",
              "    <tr>\n",
              "      <th>1</th>\n",
              "      <td>331</td>\n",
              "      <td>473</td>\n",
              "    </tr>\n",
              "  </tbody>\n",
              "</table>\n",
              "</div>"
            ],
            "text/plain": [
              "col_0       0    1\n",
              "insult            \n",
              "0       15011  143\n",
              "1         331  473"
            ]
          },
          "metadata": {
            "tags": []
          },
          "execution_count": 27
        }
      ]
    },
    {
      "cell_type": "code",
      "metadata": {
        "colab": {
          "base_uri": "https://localhost:8080/"
        },
        "id": "5WgZ_FK-uX0u",
        "outputId": "24f084bc-27b7-4def-d176-778237d8b43d"
      },
      "source": [
        "(14993+491)/(14213+1038+177+530)"
      ],
      "execution_count": null,
      "outputs": [
        {
          "output_type": "execute_result",
          "data": {
            "text/plain": [
              "0.9702970297029703"
            ]
          },
          "metadata": {
            "tags": []
          },
          "execution_count": 24
        }
      ]
    },
    {
      "cell_type": "code",
      "metadata": {
        "colab": {
          "base_uri": "https://localhost:8080/"
        },
        "id": "2ZlxXyOLsULM",
        "outputId": "b7ec503b-cc2c-4771-a34b-ae9a1e4e783f"
      },
      "source": [
        "(14985+609)/(14213+1038+177+530)"
      ],
      "execution_count": null,
      "outputs": [
        {
          "output_type": "execute_result",
          "data": {
            "text/plain": [
              "0.9771901240756987"
            ]
          },
          "metadata": {
            "tags": []
          },
          "execution_count": 15
        }
      ]
    },
    {
      "cell_type": "code",
      "metadata": {
        "colab": {
          "base_uri": "https://localhost:8080/",
          "height": 142
        },
        "id": "b7EXqcqOjyt6",
        "outputId": "75b564e1-6563-49c7-c726-2be06b96e9de"
      },
      "source": [
        "pd.crosstab(y_test, ((model.predict(X_test_tokens) > 0.5)*1).reshape(-1))"
      ],
      "execution_count": null,
      "outputs": [
        {
          "output_type": "execute_result",
          "data": {
            "text/html": [
              "<div>\n",
              "<style scoped>\n",
              "    .dataframe tbody tr th:only-of-type {\n",
              "        vertical-align: middle;\n",
              "    }\n",
              "\n",
              "    .dataframe tbody tr th {\n",
              "        vertical-align: top;\n",
              "    }\n",
              "\n",
              "    .dataframe thead th {\n",
              "        text-align: right;\n",
              "    }\n",
              "</style>\n",
              "<table border=\"1\" class=\"dataframe\">\n",
              "  <thead>\n",
              "    <tr style=\"text-align: right;\">\n",
              "      <th>col_0</th>\n",
              "      <th>0</th>\n",
              "      <th>1</th>\n",
              "    </tr>\n",
              "    <tr>\n",
              "      <th>toxic</th>\n",
              "      <th></th>\n",
              "      <th></th>\n",
              "    </tr>\n",
              "  </thead>\n",
              "  <tbody>\n",
              "    <tr>\n",
              "      <th>0</th>\n",
              "      <td>14221</td>\n",
              "      <td>169</td>\n",
              "    </tr>\n",
              "    <tr>\n",
              "      <th>1</th>\n",
              "      <td>521</td>\n",
              "      <td>1047</td>\n",
              "    </tr>\n",
              "  </tbody>\n",
              "</table>\n",
              "</div>"
            ],
            "text/plain": [
              "col_0      0     1\n",
              "toxic             \n",
              "0      14221   169\n",
              "1        521  1047"
            ]
          },
          "metadata": {
            "tags": []
          },
          "execution_count": 10
        }
      ]
    },
    {
      "cell_type": "code",
      "metadata": {
        "colab": {
          "base_uri": "https://localhost:8080/"
        },
        "id": "6Uf5myjNj2Po",
        "outputId": "f5808bb8-2a23-4b81-c164-ba0948b51767"
      },
      "source": [
        "(14225+1051)/(14213+1038+177+530)"
      ],
      "execution_count": null,
      "outputs": [
        {
          "output_type": "execute_result",
          "data": {
            "text/plain": [
              "0.9572628148890838"
            ]
          },
          "metadata": {
            "tags": []
          },
          "execution_count": 9
        }
      ]
    },
    {
      "cell_type": "code",
      "metadata": {
        "colab": {
          "base_uri": "https://localhost:8080/",
          "height": 142
        },
        "id": "5_xcg-Shi7J1",
        "outputId": "efd1b0a1-fd8a-4563-84dc-50097981559c"
      },
      "source": [
        "pd.crosstab(y_test, ((model.predict(X_test_tokens) > 0.5)*1).reshape(-1))"
      ],
      "execution_count": null,
      "outputs": [
        {
          "output_type": "execute_result",
          "data": {
            "text/html": [
              "<div>\n",
              "<style scoped>\n",
              "    .dataframe tbody tr th:only-of-type {\n",
              "        vertical-align: middle;\n",
              "    }\n",
              "\n",
              "    .dataframe tbody tr th {\n",
              "        vertical-align: top;\n",
              "    }\n",
              "\n",
              "    .dataframe thead th {\n",
              "        text-align: right;\n",
              "    }\n",
              "</style>\n",
              "<table border=\"1\" class=\"dataframe\">\n",
              "  <thead>\n",
              "    <tr style=\"text-align: right;\">\n",
              "      <th>col_0</th>\n",
              "      <th>0</th>\n",
              "      <th>1</th>\n",
              "    </tr>\n",
              "    <tr>\n",
              "      <th>toxic</th>\n",
              "      <th></th>\n",
              "      <th></th>\n",
              "    </tr>\n",
              "  </thead>\n",
              "  <tbody>\n",
              "    <tr>\n",
              "      <th>0</th>\n",
              "      <td>14168</td>\n",
              "      <td>222</td>\n",
              "    </tr>\n",
              "    <tr>\n",
              "      <th>1</th>\n",
              "      <td>459</td>\n",
              "      <td>1109</td>\n",
              "    </tr>\n",
              "  </tbody>\n",
              "</table>\n",
              "</div>"
            ],
            "text/plain": [
              "col_0      0     1\n",
              "toxic             \n",
              "0      14168   222\n",
              "1        459  1109"
            ]
          },
          "metadata": {
            "tags": []
          },
          "execution_count": 24
        }
      ]
    },
    {
      "cell_type": "markdown",
      "metadata": {
        "id": "w7xR0zRMx7iz"
      },
      "source": [
        "# Auxiliary models"
      ]
    },
    {
      "cell_type": "code",
      "metadata": {
        "id": "NrPzER6Kx4dT"
      },
      "source": [
        "import tensorflow as tf\n",
        "# sample_size = y_aux1_train.shape[0]\n",
        "# CI_denom = (tf.square(tf.reduce_sum(y_aux1_train[:,2], axis=-1)/sample_size - \n",
        "#                       tf.reduce_sum(y_aux1_train[:,1], axis=-1)/sample_size * \n",
        "#                       tf.reduce_sum(y_aux1_train[:,0], axis=-1)/sample_size))\n",
        "\n",
        "def CIScore(y_true, y_pred):\n",
        "  CI_numer = []\n",
        "  CI_numer.append(tf.square((y_pred[:, 3] - y_pred[:, 1] * y_pred[:, 0])))\n",
        "  CI_numer.append(tf.square((y_pred[:, 4] - y_pred[:, 2] * y_pred[:, 0])))\n",
        "  # tf.dtypes.cast(CI_numer, dtype=tf.float64)\n",
        "  # CI_denom = tf.square((tf.reduce_mean(y_true[:, 2], axis=-1) - tf.reduce_mean(y_true[:, 1], axis=-1)* tf.reduce_mean(y_true[:, 0], axis=-1) ))  \n",
        "  \n",
        "  # tf.dtypes.cast(CI_denom, dtype=tf.float64)\n",
        "  return tf.reduce_mean(CI_numer[0], axis=-1)/CI_denom[0] + tf.reduce_mean(CI_numer[1], axis=-1)/CI_denom[1] + tf.keras.losses.binary_crossentropy(y_true[:,0], y_pred[:,0])\n",
        "  # return tf.divide(tf.reduce_mean(CI_numer, axis=-1),CI_denom) + tf.keras.losses.binary_crossentropy(y_true, y_pred)\n",
        "  # return tf.reduce_mean(CI_numer/CI_denom, axis=-1) + tf.keras.losses.binary_crossentropy(y_true, y_pred)\n",
        "  "
      ],
      "execution_count": null,
      "outputs": []
    },
    {
      "cell_type": "code",
      "metadata": {
        "id": "F0iNZwNQx-RX"
      },
      "source": [
        "from keras.models import Sequential, Model\n",
        "from keras.layers import Dense, Embedding, Dropout\n",
        "from keras.layers.embeddings import Embedding\n",
        "from keras.callbacks import EarlyStopping\n",
        "\n",
        "def define_Auxiliary(output_dim):\n",
        "\n",
        "  output_dim = output_dim\n",
        "\n",
        "  model = Sequential()\n",
        "  model.add(Dense(256, input_shape=(vocab_size,), activation='relu'))\n",
        "  # model.add(Dropout(0.3))\n",
        "  model.add(Dense(128, activation='relu'))\n",
        "  model.add(Dropout(0.1))\n",
        "  model.add(Dense(output_dim, activation = \"sigmoid\"))\n",
        "  model.summary()\n",
        "  return model\n",
        "\n",
        "def train_Auxiliary(model, X, y, epochs, batch_size):\n",
        "  if model is None:\n",
        "    model = define_Auxiliary(y.shape[1])\n",
        "\n",
        "  es = EarlyStopping(monitor='val_loss', mode='min', verbose=1, patience=10)\n",
        "  rl = ReduceLROnPlateau(monitor='val_loss', factor=0.1, patience=5)\n",
        "\n",
        "  # model.compile(loss='categorical_crossentropy', optimizer='adagrad', metrics=['accuracy'])\n",
        "  model.compile(loss=CIScore, optimizer=SGD(learning_rate = 0.001, momentum=0.9), metrics=['accuracy'])\n",
        "  # model.fit(X_train_tokens , y_aux_train, batch_size = 128, epochs = 50, validation_split=0.2, callbacks=[es])\n",
        "  history = model.fit(X , y, batch_size = batch_size, epochs = epochs, validation_split=0.2, callbacks=[es, rl], verbose=2)\n",
        "  # history = model.fit(X , y, batch_size = batch_size, epochs = epochs, validation_split=0.2)\n",
        "  return model, history\n",
        "\n",
        "def train_Auxiliary_ce_loss(model, X, y, epochs, batch_size):\n",
        "  if model is None:\n",
        "    model = define_Auxiliary(y.shape[1])\n",
        "\n",
        "  es = EarlyStopping(monitor='val_loss', mode='min', verbose=1, patience=10)\n",
        "  rl = ReduceLROnPlateau(monitor='val_loss', factor=0.1, patience=5)\n",
        "\n",
        "  # model.compile(loss='categorical_crossentropy', optimizer='adagrad', metrics=['accuracy'])\n",
        "  # model.compile(loss='binary_crossentropy', optimizer='adagrad', metrics=['accuracy'])\n",
        "  model.compile(loss='binary_crossentropy', optimizer=SGD(learning_rate = 0.001, momentum=0.9), metrics=['accuracy'])\n",
        "  \n",
        "  # model.fit(X_train_tokens , y_aux_train, batch_size = 128, epochs = 50, validation_split=0.2, callbacks=[es])\n",
        "  history = model.fit(X , y, batch_size = batch_size, epochs = epochs, validation_split=0.2, callbacks=[es, rl], verbose=2)\n",
        "  # history = model.fit(X , y, batch_size = batch_size, epochs = epochs, validation_split=0.2)\n",
        "  return model, history\n",
        "\n"
      ],
      "execution_count": null,
      "outputs": []
    },
    {
      "cell_type": "code",
      "metadata": {
        "colab": {
          "base_uri": "https://localhost:8080/",
          "height": 164
        },
        "id": "UEZU8hE6wXS_",
        "outputId": "eef9fd5c-9cf7-46e6-f8ca-9cfd414b7af3"
      },
      "source": [
        "model, history = train_Auxiliary(model=None, X = X_train_tokens, y = y_aux1_train, epochs=50, batch_size=128)"
      ],
      "execution_count": null,
      "outputs": [
        {
          "output_type": "error",
          "ename": "NameError",
          "evalue": "ignored",
          "traceback": [
            "\u001b[0;31m---------------------------------------------------------------------------\u001b[0m",
            "\u001b[0;31mNameError\u001b[0m                                 Traceback (most recent call last)",
            "\u001b[0;32m<ipython-input-14-92cd1761b8ad>\u001b[0m in \u001b[0;36m<module>\u001b[0;34m()\u001b[0m\n\u001b[0;32m----> 1\u001b[0;31m \u001b[0mmodel\u001b[0m\u001b[0;34m,\u001b[0m \u001b[0mhistory\u001b[0m \u001b[0;34m=\u001b[0m \u001b[0mtrain_Auxiliary\u001b[0m\u001b[0;34m(\u001b[0m\u001b[0mmodel\u001b[0m\u001b[0;34m=\u001b[0m\u001b[0;32mNone\u001b[0m\u001b[0;34m,\u001b[0m \u001b[0mX\u001b[0m \u001b[0;34m=\u001b[0m \u001b[0mX_train_tokens\u001b[0m\u001b[0;34m,\u001b[0m \u001b[0my\u001b[0m \u001b[0;34m=\u001b[0m \u001b[0my_aux1_train\u001b[0m\u001b[0;34m,\u001b[0m \u001b[0mepochs\u001b[0m\u001b[0;34m=\u001b[0m\u001b[0;36m50\u001b[0m\u001b[0;34m,\u001b[0m \u001b[0mbatch_size\u001b[0m\u001b[0;34m=\u001b[0m\u001b[0;36m128\u001b[0m\u001b[0;34m)\u001b[0m\u001b[0;34m\u001b[0m\u001b[0;34m\u001b[0m\u001b[0m\n\u001b[0m",
            "\u001b[0;31mNameError\u001b[0m: name 'X_train_tokens' is not defined"
          ]
        }
      ]
    },
    {
      "cell_type": "code",
      "metadata": {
        "id": "YJD-ImeWxHsr"
      },
      "source": [
        "predicted_values2 = model.predict(X_test_tokens)"
      ],
      "execution_count": null,
      "outputs": []
    },
    {
      "cell_type": "code",
      "metadata": {
        "colab": {
          "base_uri": "https://localhost:8080/"
        },
        "id": "xw44PpmVxZ78",
        "outputId": "1967516c-105b-49f8-d952-4e5cee32ad45"
      },
      "source": [
        "np.mean((predicted_values2 > 0.5)*1 == y_aux1_test)"
      ],
      "execution_count": null,
      "outputs": [
        {
          "output_type": "execute_result",
          "data": {
            "text/plain": [
              "0.9540640471266528"
            ]
          },
          "metadata": {
            "tags": []
          },
          "execution_count": 24
        }
      ]
    },
    {
      "cell_type": "code",
      "metadata": {
        "colab": {
          "base_uri": "https://localhost:8080/"
        },
        "id": "j07ai7RQxL-O",
        "outputId": "95a159b7-392b-4ad2-cf59-fcb7653b0a70"
      },
      "source": [
        "np.sum((predicted_values2 > 0.5)*1)"
      ],
      "execution_count": null,
      "outputs": [
        {
          "output_type": "execute_result",
          "data": {
            "text/plain": [
              "552"
            ]
          },
          "metadata": {
            "tags": []
          },
          "execution_count": 50
        }
      ]
    },
    {
      "cell_type": "code",
      "metadata": {
        "colab": {
          "base_uri": "https://localhost:8080/"
        },
        "id": "1Bf-MRFUxTjY",
        "outputId": "4b317795-489c-41ce-880b-7377bf0f2237"
      },
      "source": [
        "np.sum(y_aux1_test)"
      ],
      "execution_count": null,
      "outputs": [
        {
          "output_type": "execute_result",
          "data": {
            "text/plain": [
              "3072"
            ]
          },
          "metadata": {
            "tags": []
          },
          "execution_count": 52
        }
      ]
    },
    {
      "cell_type": "code",
      "metadata": {
        "id": "W3sbHgVGzTDM"
      },
      "source": [
        "from keras.models import Sequential, Model\n",
        "\n",
        "extraction1 = Model(inputs=model.inputs, outputs=model.layers[-2].output)\n",
        "extracted_features1 = extraction1.predict(X_train_tokens)"
      ],
      "execution_count": null,
      "outputs": []
    },
    {
      "cell_type": "markdown",
      "metadata": {
        "id": "a9BmSfd-tzId"
      },
      "source": [
        "# Transfer learning"
      ]
    },
    {
      "cell_type": "code",
      "metadata": {
        "id": "FbJKpkCjt76J"
      },
      "source": [
        "from keras.models import Sequential, Model\n",
        "from keras.layers import Dense, Embedding, Dropout\n",
        "from keras.layers.embeddings import Embedding\n",
        "from keras.callbacks import EarlyStopping\n",
        "\n",
        "def define_Transfer(input_shape):\n",
        "\n",
        "  output_dim = 1\n",
        "\n",
        "  model = Sequential()\n",
        "  model.add(Dense(256, input_shape=(input_shape,), activation='relu'))\n",
        "  # model.add(Dropout(0.3))\n",
        "  model.add(Dense(128, activation='relu'))\n",
        "  model.add(Dropout(0.1))\n",
        "  model.add(Dense(output_dim, activation = \"sigmoid\"))\n",
        "  # model.add(Dropout(0.1), input_shape=(input_shape,))\n",
        "  # model.add(Dense(output_dim, input_dim = input_shape, activation = \"sigmoid\"))\n",
        "  model.summary()\n",
        "  return model\n",
        "\n",
        "def train_Transfer(model, X, X_extracted, y, epochs, batch_size):\n",
        "  X_transfered = np.hstack((X, X_extracted))\n",
        "\n",
        "  if model is None:\n",
        "    model = define_Transfer(X_transfered.shape[1])\n",
        "\n",
        "  es = EarlyStopping(monitor='val_loss', mode='min', verbose=1, patience=10)\n",
        "  rl = ReduceLROnPlateau(monitor='val_loss', factor=0.1, patience=5)\n",
        "\n",
        "  # model.compile(loss='categorical_crossentropy', optimizer='adagrad', metrics=['accuracy'])\n",
        "  # model.compile(loss='binary_crossentropy', optimizer='adagrad', metrics=['accuracy'])\n",
        "  model.compile(loss='binary_crossentropy', optimizer=SGD(learning_rate = 0.001, momentum=0.9), metrics=['accuracy'])\n",
        "\n",
        "  \n",
        "  # model.fit(X_train_tokens , y_aux_train, batch_size = 128, epochs = 50, validation_split=0.2, callbacks=[es])\n",
        "  history = model.fit(X_transfered , y, batch_size = batch_size, epochs = epochs, validation_split=0.2, callbacks=[es, rl], verbose = 2)\n",
        "  # history = model.fit(X , y, batch_size = batch_size, epochs = epochs, validation_split=0.2)\n",
        "  return model, history\n"
      ],
      "execution_count": null,
      "outputs": []
    },
    {
      "cell_type": "code",
      "metadata": {
        "id": "dXRY3xI6y1tG"
      },
      "source": [
        "from keras.models import Sequential, Model\n",
        "from keras.layers import Dense, Embedding, Dropout\n",
        "from keras.layers.embeddings import Embedding\n",
        "from keras.callbacks import EarlyStopping\n",
        "from tensorflow.keras import regularizers\n",
        "\n",
        "\n",
        "def define_Transfer_linear(input_shape):\n",
        "\n",
        "  output_dim = 1\n",
        "\n",
        "  model = Sequential()\n",
        "  model.add(Dense(output_dim, input_dim = input_shape, activation = \"sigmoid\"))\n",
        "  model.summary()\n",
        "  return model\n",
        "\n",
        "def train_Transfer_linear(model, X, X_extracted, y, epochs, batch_size):\n",
        "  X_transfered = np.hstack((X, X_extracted))\n",
        "\n",
        "  if model is None:\n",
        "    model = define_Transfer_linear(X_transfered.shape[1])\n",
        "\n",
        "  es = EarlyStopping(monitor='val_loss', mode='min', verbose=1, patience=10)\n",
        "  rl = ReduceLROnPlateau(monitor='val_loss', factor=0.1, patience=5)\n",
        "\n",
        "  # model.compile(loss='categorical_crossentropy', optimizer='adagrad', metrics=['accuracy'])\n",
        "  # model.compile(loss='binary_crossentropy', optimizer='adagrad', metrics=['accuracy'])\n",
        "  model.compile(loss='binary_crossentropy', optimizer=SGD(learning_rate = 0.001, momentum=0.9), metrics=['accuracy'])\n",
        "\n",
        "  # model.fit(X_train_tokens , y_aux_train, batch_size = 128, epochs = 50, validation_split=0.2, callbacks=[es])\n",
        "  history = model.fit(X_transfered , y, batch_size = batch_size, epochs = epochs, validation_split=0.2, callbacks=[es,rl], verbose = 2)\n",
        "  # history = model.fit(X , y, batch_size = batch_size, epochs = epochs, validation_split=0.2)\n",
        "  return model, history\n"
      ],
      "execution_count": null,
      "outputs": []
    },
    {
      "cell_type": "code",
      "metadata": {
        "colab": {
          "base_uri": "https://localhost:8080/"
        },
        "id": "FZWMKpw5OIyk",
        "outputId": "b98bb6af-f910-4e6f-8dd7-009f2dd0e209"
      },
      "source": [
        "model_trasnf = train_Transfer(model=None, X = X_train_tokens, X_extracted = extracted_features1, y = y_tgt_train, epochs=300, batch_size=128)"
      ],
      "execution_count": null,
      "outputs": [
        {
          "output_type": "stream",
          "text": [
            "Model: \"sequential_1\"\n",
            "_________________________________________________________________\n",
            "Layer (type)                 Output Shape              Param #   \n",
            "=================================================================\n",
            "dense_3 (Dense)              (None, 256)               1313024   \n",
            "_________________________________________________________________\n",
            "dense_4 (Dense)              (None, 128)               32896     \n",
            "_________________________________________________________________\n",
            "dense_5 (Dense)              (None, 1)                 129       \n",
            "=================================================================\n",
            "Total params: 1,346,049\n",
            "Trainable params: 1,346,049\n",
            "Non-trainable params: 0\n",
            "_________________________________________________________________\n",
            "Epoch 1/300\n",
            "898/898 [==============================] - 4s 4ms/step - loss: 0.3034 - accuracy: 0.8889 - val_loss: 0.1831 - val_accuracy: 0.9303\n",
            "Epoch 2/300\n",
            "898/898 [==============================] - 3s 4ms/step - loss: 0.1589 - accuracy: 0.9399 - val_loss: 0.1513 - val_accuracy: 0.9481\n",
            "Epoch 3/300\n",
            "898/898 [==============================] - 3s 4ms/step - loss: 0.1252 - accuracy: 0.9559 - val_loss: 0.1408 - val_accuracy: 0.9529\n",
            "Epoch 4/300\n",
            "898/898 [==============================] - 3s 4ms/step - loss: 0.1138 - accuracy: 0.9602 - val_loss: 0.1370 - val_accuracy: 0.9543\n",
            "Epoch 5/300\n",
            "898/898 [==============================] - 3s 4ms/step - loss: 0.1050 - accuracy: 0.9631 - val_loss: 0.1350 - val_accuracy: 0.9557\n",
            "Epoch 6/300\n",
            "898/898 [==============================] - 4s 4ms/step - loss: 0.1014 - accuracy: 0.9638 - val_loss: 0.1340 - val_accuracy: 0.9557\n",
            "Epoch 7/300\n",
            "898/898 [==============================] - 3s 4ms/step - loss: 0.0959 - accuracy: 0.9652 - val_loss: 0.1333 - val_accuracy: 0.9561\n",
            "Epoch 8/300\n",
            "898/898 [==============================] - 3s 4ms/step - loss: 0.0955 - accuracy: 0.9657 - val_loss: 0.1332 - val_accuracy: 0.9564\n",
            "Epoch 9/300\n",
            "898/898 [==============================] - 3s 4ms/step - loss: 0.0907 - accuracy: 0.9674 - val_loss: 0.1330 - val_accuracy: 0.9564\n",
            "Epoch 10/300\n",
            "898/898 [==============================] - 3s 4ms/step - loss: 0.0879 - accuracy: 0.9689 - val_loss: 0.1328 - val_accuracy: 0.9567\n",
            "Epoch 11/300\n",
            "898/898 [==============================] - 3s 4ms/step - loss: 0.0861 - accuracy: 0.9691 - val_loss: 0.1328 - val_accuracy: 0.9564\n",
            "Epoch 12/300\n",
            "898/898 [==============================] - 3s 4ms/step - loss: 0.0845 - accuracy: 0.9701 - val_loss: 0.1329 - val_accuracy: 0.9566\n",
            "Epoch 13/300\n",
            "898/898 [==============================] - 3s 4ms/step - loss: 0.0804 - accuracy: 0.9712 - val_loss: 0.1329 - val_accuracy: 0.9559\n",
            "Epoch 14/300\n",
            "898/898 [==============================] - 3s 4ms/step - loss: 0.0804 - accuracy: 0.9717 - val_loss: 0.1332 - val_accuracy: 0.9564\n",
            "Epoch 15/300\n",
            "898/898 [==============================] - 3s 4ms/step - loss: 0.0780 - accuracy: 0.9725 - val_loss: 0.1333 - val_accuracy: 0.9562\n",
            "Epoch 16/300\n",
            "898/898 [==============================] - 3s 4ms/step - loss: 0.0762 - accuracy: 0.9727 - val_loss: 0.1338 - val_accuracy: 0.9566\n",
            "Epoch 00016: early stopping\n"
          ],
          "name": "stdout"
        }
      ]
    },
    {
      "cell_type": "code",
      "metadata": {
        "id": "he0ohlQxYfcK"
      },
      "source": [
        ""
      ],
      "execution_count": null,
      "outputs": []
    },
    {
      "cell_type": "markdown",
      "metadata": {
        "id": "TverzfRaX-Ju"
      },
      "source": [
        "# Experiments"
      ]
    },
    {
      "cell_type": "code",
      "metadata": {
        "id": "a1QKVGXXX9Uo"
      },
      "source": [
        "X = np.array(X)\n",
        "y_aux_agg = np.array(y_aux_agg)\n",
        "# y_aux1_agg = np.array(y_aux1_agg)\n",
        "# y_aux2_agg = np.array(y_aux2_agg)\n",
        "y_tgt = np.array(y_tgt)\n",
        "# y_aux1 = np.array(y_aux1)\n",
        "y_aux = np.array(y_aux)\n",
        "np.random.seed(42)\n",
        "fold_idx = np.random.choice(np.hstack((np.repeat(np.arange(10), int(X.shape[0]/10)), np.arange(X.shape[0] % 10))), size=X.shape[0], replace=False)\n",
        "\n",
        "def split_data(X, y, fold_no):\n",
        "  X_train, X_test, y_train, y_test = X[fold_idx != fold_no], X[fold_idx == fold_no], y[fold_idx != fold_no], y[fold_idx == fold_no]\n",
        "  np.random.seed(fold_no)\n",
        "  shuffle_train = np.random.choice(X_train.shape[0], X_train.shape[0], replace=False)\n",
        "  shuffle_test = np.random.choice(X_test.shape[0], X_test.shape[0], replace=False)\n",
        "  return X_train[shuffle_train], X_test[shuffle_test], y_train[shuffle_train], y_test[shuffle_test]\n",
        "\n",
        "# X_train, X_test, y_tgt_train, y_tgt_test = train_test_split(X, y_tgt, test_size = 0.1, random_state=1, shuffle=True)"
      ],
      "execution_count": null,
      "outputs": []
    },
    {
      "cell_type": "code",
      "metadata": {
        "colab": {
          "base_uri": "https://localhost:8080/"
        },
        "id": "IZebW0Rr2ar6",
        "outputId": "2d822ed1-7f8f-46a7-8fd6-9483fdfd0d77"
      },
      "source": [
        "pd.DataFrame(fold_idx).value_counts()"
      ],
      "execution_count": null,
      "outputs": [
        {
          "output_type": "execute_result",
          "data": {
            "text/plain": [
              "0    15958\n",
              "9    15957\n",
              "8    15957\n",
              "7    15957\n",
              "6    15957\n",
              "5    15957\n",
              "4    15957\n",
              "3    15957\n",
              "2    15957\n",
              "1    15957\n",
              "dtype: int64"
            ]
          },
          "metadata": {
            "tags": []
          },
          "execution_count": 54
        }
      ]
    },
    {
      "cell_type": "code",
      "metadata": {
        "id": "UCoaGIEEYJQM",
        "colab": {
          "base_uri": "https://localhost:8080/"
        },
        "outputId": "be5c6cf2-4b03-4277-8e24-3610845d3814"
      },
      "source": [
        "from tensorflow.python.keras.preprocessing.text import Tokenizer\n",
        "from tensorflow.python.keras.preprocessing.sequence import pad_sequences\n",
        "from sklearn.preprocessing import StandardScaler\n",
        "import keras\n",
        "\n",
        "for fold_no in np.arange(1):\n",
        "  X_train, X_test, y_aux1_train, y_aux1_test = split_data(X, y_aux_agg, fold_no)\n",
        "  # X_train, X_test, y_aux1_train, y_aux1_test = split_data(X, y_aux1_agg, fold_no)\n",
        "  # X_train, X_test, y_aux2_train, y_aux2_test = split_data(X, y_aux2_agg, fold_no)\n",
        "  X_train, X_test, y_tgt_train, y_tgt_test = split_data(X, y_tgt, fold_no)\n",
        "  # X_train, X_test, y_joint_train, y_joint_test = split_data(X, y_aux1, fold_no)\n",
        "  y_aux1_train = np.array(y_aux1_train, dtype='float32')\n",
        "\n",
        "  vocab_size = 5000\n",
        "\n",
        "  tokenizer_obj = Tokenizer(num_words = vocab_size)\n",
        "  tokenizer_obj.fit_on_texts(X_train)\n",
        "\n",
        "  max_length = max([len(s.split()) for s in X])\n",
        "\n",
        "  X_train_tokens = tokenizer_obj.texts_to_matrix(X_train, mode='tfidf')\n",
        "  X_test_tokens = tokenizer_obj.texts_to_matrix(X_test, mode='tfidf')\n",
        "\n",
        "  # model_Vanilla, history_Vanilla = train_Vanilla(model = None, X= X_train_tokens, y = y_tgt_train, epochs = 300, batch_size = 256)\n",
        "  # model_Vanilla.save(\"/content/drive/MyDrive/Transfer_learning/Toxic_SGD/model_Vanilla_\"+str(fold_no))\n",
        "  # del model_Vanilla\n",
        "  # keras.backend.clear_session()\n",
        "\n",
        "  # model_linear, history_linear = train_Vanilla_linear(model = None, X= X_train_tokens, y = y_tgt_train, epochs = 300, batch_size = 256)\n",
        "  # model_linear.save(\"/content/drive/MyDrive/Transfer_learning/Toxic_SGD/model_Vanilla_linear_\"+str(fold_no))\n",
        "  # del model_linear\n",
        "  # keras.backend.clear_session()\n",
        "\n",
        "  # model_joint, history_joint = train_Vanilla(model = None, X= X_train_tokens, y = y_aux1_train[:,0:3], epochs = 300, batch_size = 256)\n",
        "  # model_joint.save(\"/content/drive/MyDrive/Transfer_learning/Toxic_SGD/model_Vanilla_joint_\"+str(fold_no))\n",
        "  # del model_joint\n",
        "  # keras.backend.clear_session()\n",
        "\n",
        "\n",
        "  # # Auxiliary 1\n",
        "\n",
        "  sample_size = y_aux1_train.shape[0]\n",
        "  CI_denom = []\n",
        "  CI_denom.append((tf.square(tf.reduce_sum(y_aux1_train[:,3], axis=-1)/sample_size - \n",
        "                          tf.reduce_sum(y_aux1_train[:,1], axis=-1)/sample_size * \n",
        "                          tf.reduce_sum(y_aux1_train[:,0], axis=-1)/sample_size)))\n",
        "  CI_denom.append((tf.square(tf.reduce_sum(y_aux1_train[:,4], axis=-1)/sample_size - \n",
        "                          tf.reduce_sum(y_aux1_train[:,2], axis=-1)/sample_size * \n",
        "                          tf.reduce_sum(y_aux1_train[:,0], axis=-1)/sample_size)))\n",
        "\n",
        "  model_Aux1, history_Aux1 = train_Auxiliary(model = None, X = X_train_tokens, y = y_aux1_train, epochs=300, batch_size = 256)\n",
        "  # model_Aux1.save(\"/content/drive/MyDrive/Transfer_learning/Toxic_SGD2/model_Aux1_\"+str(fold_no))\n",
        "  # del model_Aux1\n",
        "\n",
        "\n",
        "  # CIDNN\n",
        "  # model_Aux1 = keras.models.load_model('/content/drive/MyDrive/Transfer_learning/Toxic_SGD2/model_Aux1_'+str(fold_no), compile=False)\n",
        "  extraction1 = Model(inputs=model_Aux1.inputs, outputs=model_Aux1.layers[-2].output)\n",
        "  extracted_features1 = extraction1.predict(X_train_tokens)\n",
        "  del model_Aux1, extraction1\n",
        "  keras.backend.clear_session()\n",
        "  \n",
        "  model_transf_linear1, history_transf_linear1 = train_Transfer_linear(model = None, X= X_train_tokens, X_extracted = extracted_features1, y = y_tgt_train, epochs= 300, batch_size = 256)\n",
        "  # model_transf_linear1.save(\"/content/drive/MyDrive/Transfer_learning/Toxic_SGD2/model_transf_linear1_\"+str(fold_no))\n",
        "  del model_transf_linear1\n",
        "  keras.backend.clear_session()\n",
        "\n",
        "  model_transf1, history_transf1 = train_Transfer(model = None, X= X_train_tokens, X_extracted = extracted_features1, y = y_tgt_train, epochs= 300, batch_size = 256)\n",
        "  # model_transf1.save(\"/content/drive/MyDrive/Transfer_learning/Toxic_SGD2/model_transf1_\"+str(fold_no))\n",
        "  del model_transf1, extracted_features1\n",
        "  keras.backend.clear_session()\n",
        "\n",
        "  \n",
        "  # Conventional\n",
        "  # model_Aux_ce1 = keras.models.load_model('/content/drive/MyDrive/Transfer_learning/Toxic_SGD/model_Vanilla_joint_'+str(fold_no), compile=False)\n",
        "  # extraction_ce1 = Model(inputs=model_Aux_ce1.inputs, outputs=model_Aux_ce1.layers[-2].output)\n",
        "  # extracted_features_ce1 = extraction_ce1.predict(X_train_tokens)\n",
        "  # del model_Aux_ce1, extraction_ce1\n",
        "  # keras.backend.clear_session()\n",
        "\n",
        "  # model_transf_ce_linear1, history_transf_ce_linear1 = train_Transfer_linear(model = None, X= X_train_tokens, X_extracted = extracted_features_ce1, y = y_tgt_train, epochs= 300, batch_size = 256)\n",
        "  # model_transf_ce_linear1.save(\"/content/drive/MyDrive/Transfer_learning/Toxic_SGD/model_transf_ce_linear1_revised_\"+str(fold_no))\n",
        "  # del model_transf_ce_linear1\n",
        "  # keras.backend.clear_session()\n",
        "\n",
        "  # model_transf_ce1, history_transf_ce1 = train_Transfer(model = None, X = X_train_tokens, X_extracted = extracted_features_ce1, y = y_tgt_train, epochs = 300, batch_size = 256)\n",
        "  # model_transf_ce1.save(\"/content/drive/MyDrive/Transfer_learning/Toxic_SGD/model_transf_ce1_revised_\"+str(fold_no))\n",
        "  # del model_transf_ce1\n",
        "  # keras.backend.clear_session()\n",
        "\n",
        " \n",
        "\n",
        "  # del X_train, X_test, y_aux1_train, y_aux1_test, y_aux2_train, y_aux2_test, y_tgt_train, y_tgt_test, tokenizer_obj, X_train_tokens, X_test_tokens\n",
        "  del X_train, X_test, y_aux1_train, y_aux1_test, y_tgt_train, y_tgt_test, tokenizer_obj, X_train_tokens, X_test_tokens"
      ],
      "execution_count": null,
      "outputs": [
        {
          "output_type": "stream",
          "text": [
            "Model: \"sequential\"\n",
            "_________________________________________________________________\n",
            "Layer (type)                 Output Shape              Param #   \n",
            "=================================================================\n",
            "dense (Dense)                (None, 256)               1280256   \n",
            "_________________________________________________________________\n",
            "dense_1 (Dense)              (None, 128)               32896     \n",
            "_________________________________________________________________\n",
            "dropout (Dropout)            (None, 128)               0         \n",
            "_________________________________________________________________\n",
            "dense_2 (Dense)              (None, 5)                 645       \n",
            "=================================================================\n",
            "Total params: 1,313,797\n",
            "Trainable params: 1,313,797\n",
            "Non-trainable params: 0\n",
            "_________________________________________________________________\n",
            "Epoch 1/300\n",
            "449/449 - 3s - loss: 1.6879 - accuracy: 0.9162 - val_loss: 0.4152 - val_accuracy: 0.8336\n",
            "Epoch 2/300\n",
            "449/449 - 2s - loss: 0.4218 - accuracy: 0.6186 - val_loss: 0.3697 - val_accuracy: 0.5443\n",
            "Epoch 3/300\n",
            "449/449 - 2s - loss: 0.3869 - accuracy: 0.4918 - val_loss: 0.3524 - val_accuracy: 0.4930\n",
            "Epoch 4/300\n",
            "449/449 - 2s - loss: 0.3698 - accuracy: 0.4926 - val_loss: 0.3404 - val_accuracy: 0.5387\n",
            "Epoch 5/300\n",
            "449/449 - 2s - loss: 0.3563 - accuracy: 0.5418 - val_loss: 0.3305 - val_accuracy: 0.6113\n",
            "Epoch 6/300\n",
            "449/449 - 2s - loss: 0.3454 - accuracy: 0.5989 - val_loss: 0.3219 - val_accuracy: 0.6788\n",
            "Epoch 7/300\n",
            "449/449 - 2s - loss: 0.3352 - accuracy: 0.6320 - val_loss: 0.3142 - val_accuracy: 0.7305\n",
            "Epoch 8/300\n",
            "449/449 - 2s - loss: 0.3271 - accuracy: 0.6751 - val_loss: 0.3071 - val_accuracy: 0.7680\n",
            "Epoch 9/300\n",
            "449/449 - 2s - loss: 0.3193 - accuracy: 0.7018 - val_loss: 0.3004 - val_accuracy: 0.7877\n",
            "Epoch 10/300\n",
            "449/449 - 2s - loss: 0.3121 - accuracy: 0.7193 - val_loss: 0.2942 - val_accuracy: 0.7978\n",
            "Epoch 11/300\n",
            "449/449 - 2s - loss: 0.3049 - accuracy: 0.7308 - val_loss: 0.2883 - val_accuracy: 0.8009\n",
            "Epoch 12/300\n",
            "449/449 - 2s - loss: 0.2987 - accuracy: 0.7365 - val_loss: 0.2826 - val_accuracy: 0.8032\n",
            "Epoch 13/300\n",
            "449/449 - 2s - loss: 0.2927 - accuracy: 0.7367 - val_loss: 0.2770 - val_accuracy: 0.8058\n",
            "Epoch 14/300\n",
            "449/449 - 2s - loss: 0.2865 - accuracy: 0.7441 - val_loss: 0.2716 - val_accuracy: 0.8021\n",
            "Epoch 15/300\n",
            "449/449 - 2s - loss: 0.2805 - accuracy: 0.7463 - val_loss: 0.2662 - val_accuracy: 0.7974\n",
            "Epoch 16/300\n",
            "449/449 - 2s - loss: 0.2739 - accuracy: 0.7426 - val_loss: 0.2609 - val_accuracy: 0.7908\n",
            "Epoch 17/300\n",
            "449/449 - 2s - loss: 0.2685 - accuracy: 0.7411 - val_loss: 0.2557 - val_accuracy: 0.7858\n",
            "Epoch 18/300\n",
            "449/449 - 2s - loss: 0.2631 - accuracy: 0.7359 - val_loss: 0.2505 - val_accuracy: 0.7781\n",
            "Epoch 19/300\n",
            "449/449 - 2s - loss: 0.2574 - accuracy: 0.7325 - val_loss: 0.2453 - val_accuracy: 0.7730\n",
            "Epoch 20/300\n",
            "449/449 - 2s - loss: 0.2517 - accuracy: 0.7268 - val_loss: 0.2402 - val_accuracy: 0.7601\n",
            "Epoch 21/300\n",
            "449/449 - 2s - loss: 0.2464 - accuracy: 0.7222 - val_loss: 0.2352 - val_accuracy: 0.7535\n",
            "Epoch 22/300\n",
            "449/449 - 2s - loss: 0.2409 - accuracy: 0.7172 - val_loss: 0.2303 - val_accuracy: 0.7417\n",
            "Epoch 23/300\n",
            "449/449 - 2s - loss: 0.2358 - accuracy: 0.7064 - val_loss: 0.2256 - val_accuracy: 0.7328\n",
            "Epoch 24/300\n",
            "449/449 - 2s - loss: 0.2307 - accuracy: 0.6983 - val_loss: 0.2211 - val_accuracy: 0.7209\n",
            "Epoch 25/300\n",
            "449/449 - 2s - loss: 0.2261 - accuracy: 0.6925 - val_loss: 0.2168 - val_accuracy: 0.7127\n",
            "Epoch 26/300\n",
            "449/449 - 2s - loss: 0.2214 - accuracy: 0.6846 - val_loss: 0.2128 - val_accuracy: 0.7022\n",
            "Epoch 27/300\n",
            "449/449 - 2s - loss: 0.2171 - accuracy: 0.6753 - val_loss: 0.2090 - val_accuracy: 0.6927\n",
            "Epoch 28/300\n",
            "449/449 - 2s - loss: 0.2133 - accuracy: 0.6683 - val_loss: 0.2054 - val_accuracy: 0.6868\n",
            "Epoch 29/300\n",
            "449/449 - 2s - loss: 0.2095 - accuracy: 0.6638 - val_loss: 0.2021 - val_accuracy: 0.6772\n",
            "Epoch 30/300\n",
            "449/449 - 2s - loss: 0.2060 - accuracy: 0.6550 - val_loss: 0.1989 - val_accuracy: 0.6735\n",
            "Epoch 31/300\n",
            "449/449 - 2s - loss: 0.2030 - accuracy: 0.6536 - val_loss: 0.1959 - val_accuracy: 0.6691\n",
            "Epoch 32/300\n",
            "449/449 - 2s - loss: 0.1995 - accuracy: 0.6496 - val_loss: 0.1932 - val_accuracy: 0.6589\n",
            "Epoch 33/300\n",
            "449/449 - 2s - loss: 0.1970 - accuracy: 0.6422 - val_loss: 0.1905 - val_accuracy: 0.6637\n",
            "Epoch 34/300\n",
            "449/449 - 2s - loss: 0.1942 - accuracy: 0.6442 - val_loss: 0.1881 - val_accuracy: 0.6579\n",
            "Epoch 35/300\n",
            "449/449 - 2s - loss: 0.1913 - accuracy: 0.6443 - val_loss: 0.1857 - val_accuracy: 0.6573\n",
            "Epoch 36/300\n",
            "449/449 - 2s - loss: 0.1887 - accuracy: 0.6446 - val_loss: 0.1834 - val_accuracy: 0.6610\n",
            "Epoch 37/300\n",
            "449/449 - 2s - loss: 0.1862 - accuracy: 0.6444 - val_loss: 0.1813 - val_accuracy: 0.6594\n",
            "Epoch 38/300\n",
            "449/449 - 2s - loss: 0.1840 - accuracy: 0.6462 - val_loss: 0.1793 - val_accuracy: 0.6554\n",
            "Epoch 39/300\n",
            "449/449 - 2s - loss: 0.1820 - accuracy: 0.6436 - val_loss: 0.1773 - val_accuracy: 0.6575\n",
            "Epoch 40/300\n",
            "449/449 - 2s - loss: 0.1798 - accuracy: 0.6458 - val_loss: 0.1754 - val_accuracy: 0.6589\n",
            "Epoch 41/300\n",
            "449/449 - 2s - loss: 0.1775 - accuracy: 0.6446 - val_loss: 0.1736 - val_accuracy: 0.6637\n",
            "Epoch 42/300\n",
            "449/449 - 2s - loss: 0.1759 - accuracy: 0.6485 - val_loss: 0.1719 - val_accuracy: 0.6690\n",
            "Epoch 43/300\n",
            "449/449 - 2s - loss: 0.1736 - accuracy: 0.6523 - val_loss: 0.1702 - val_accuracy: 0.6711\n",
            "Epoch 44/300\n",
            "449/449 - 2s - loss: 0.1718 - accuracy: 0.6553 - val_loss: 0.1686 - val_accuracy: 0.6721\n",
            "Epoch 45/300\n",
            "449/449 - 2s - loss: 0.1703 - accuracy: 0.6582 - val_loss: 0.1672 - val_accuracy: 0.6709\n",
            "Epoch 46/300\n",
            "449/449 - 2s - loss: 0.1686 - accuracy: 0.6590 - val_loss: 0.1657 - val_accuracy: 0.6759\n",
            "Epoch 47/300\n",
            "449/449 - 2s - loss: 0.1669 - accuracy: 0.6621 - val_loss: 0.1642 - val_accuracy: 0.6792\n",
            "Epoch 48/300\n",
            "449/449 - 2s - loss: 0.1650 - accuracy: 0.6649 - val_loss: 0.1629 - val_accuracy: 0.6822\n",
            "Epoch 49/300\n",
            "449/449 - 2s - loss: 0.1633 - accuracy: 0.6652 - val_loss: 0.1616 - val_accuracy: 0.6836\n",
            "Epoch 50/300\n",
            "449/449 - 2s - loss: 0.1620 - accuracy: 0.6683 - val_loss: 0.1603 - val_accuracy: 0.6849\n",
            "Epoch 51/300\n",
            "449/449 - 2s - loss: 0.1605 - accuracy: 0.6688 - val_loss: 0.1591 - val_accuracy: 0.6890\n",
            "Epoch 52/300\n",
            "449/449 - 2s - loss: 0.1588 - accuracy: 0.6739 - val_loss: 0.1580 - val_accuracy: 0.6894\n",
            "Epoch 53/300\n",
            "449/449 - 2s - loss: 0.1579 - accuracy: 0.6734 - val_loss: 0.1568 - val_accuracy: 0.6963\n",
            "Epoch 54/300\n",
            "449/449 - 2s - loss: 0.1558 - accuracy: 0.6775 - val_loss: 0.1557 - val_accuracy: 0.6931\n",
            "Epoch 55/300\n",
            "449/449 - 2s - loss: 0.1548 - accuracy: 0.6802 - val_loss: 0.1547 - val_accuracy: 0.6949\n",
            "Epoch 56/300\n",
            "449/449 - 2s - loss: 0.1534 - accuracy: 0.6779 - val_loss: 0.1536 - val_accuracy: 0.6995\n",
            "Epoch 57/300\n",
            "449/449 - 2s - loss: 0.1521 - accuracy: 0.6823 - val_loss: 0.1526 - val_accuracy: 0.7030\n",
            "Epoch 58/300\n",
            "449/449 - 2s - loss: 0.1511 - accuracy: 0.6856 - val_loss: 0.1517 - val_accuracy: 0.7028\n",
            "Epoch 59/300\n",
            "449/449 - 2s - loss: 0.1496 - accuracy: 0.6841 - val_loss: 0.1508 - val_accuracy: 0.7043\n",
            "Epoch 60/300\n",
            "449/449 - 2s - loss: 0.1487 - accuracy: 0.6853 - val_loss: 0.1499 - val_accuracy: 0.7060\n",
            "Epoch 61/300\n",
            "449/449 - 2s - loss: 0.1476 - accuracy: 0.6877 - val_loss: 0.1491 - val_accuracy: 0.7039\n",
            "Epoch 62/300\n",
            "449/449 - 2s - loss: 0.1464 - accuracy: 0.6887 - val_loss: 0.1482 - val_accuracy: 0.7101\n",
            "Epoch 63/300\n",
            "449/449 - 2s - loss: 0.1456 - accuracy: 0.6918 - val_loss: 0.1475 - val_accuracy: 0.7065\n",
            "Epoch 64/300\n",
            "449/449 - 2s - loss: 0.1443 - accuracy: 0.6922 - val_loss: 0.1468 - val_accuracy: 0.7078\n",
            "Epoch 65/300\n",
            "449/449 - 2s - loss: 0.1429 - accuracy: 0.6930 - val_loss: 0.1459 - val_accuracy: 0.7141\n",
            "Epoch 66/300\n",
            "449/449 - 2s - loss: 0.1423 - accuracy: 0.6957 - val_loss: 0.1453 - val_accuracy: 0.7135\n",
            "Epoch 67/300\n",
            "449/449 - 2s - loss: 0.1414 - accuracy: 0.6952 - val_loss: 0.1446 - val_accuracy: 0.7132\n",
            "Epoch 68/300\n",
            "449/449 - 2s - loss: 0.1407 - accuracy: 0.6945 - val_loss: 0.1439 - val_accuracy: 0.7148\n",
            "Epoch 69/300\n",
            "449/449 - 2s - loss: 0.1394 - accuracy: 0.6999 - val_loss: 0.1433 - val_accuracy: 0.7158\n",
            "Epoch 70/300\n",
            "449/449 - 2s - loss: 0.1385 - accuracy: 0.6981 - val_loss: 0.1426 - val_accuracy: 0.7168\n",
            "Epoch 71/300\n",
            "449/449 - 2s - loss: 0.1375 - accuracy: 0.6990 - val_loss: 0.1420 - val_accuracy: 0.7181\n",
            "Epoch 72/300\n",
            "449/449 - 2s - loss: 0.1374 - accuracy: 0.7002 - val_loss: 0.1415 - val_accuracy: 0.7151\n",
            "Epoch 73/300\n",
            "449/449 - 2s - loss: 0.1362 - accuracy: 0.7006 - val_loss: 0.1409 - val_accuracy: 0.7176\n",
            "Epoch 74/300\n",
            "449/449 - 2s - loss: 0.1353 - accuracy: 0.7009 - val_loss: 0.1404 - val_accuracy: 0.7157\n",
            "Epoch 75/300\n",
            "449/449 - 2s - loss: 0.1343 - accuracy: 0.6989 - val_loss: 0.1398 - val_accuracy: 0.7183\n",
            "Epoch 76/300\n",
            "449/449 - 2s - loss: 0.1333 - accuracy: 0.7007 - val_loss: 0.1393 - val_accuracy: 0.7211\n",
            "Epoch 77/300\n",
            "449/449 - 2s - loss: 0.1326 - accuracy: 0.7022 - val_loss: 0.1388 - val_accuracy: 0.7190\n",
            "Epoch 78/300\n",
            "449/449 - 2s - loss: 0.1321 - accuracy: 0.7055 - val_loss: 0.1383 - val_accuracy: 0.7236\n",
            "Epoch 79/300\n",
            "449/449 - 2s - loss: 0.1314 - accuracy: 0.7059 - val_loss: 0.1378 - val_accuracy: 0.7220\n",
            "Epoch 80/300\n",
            "449/449 - 2s - loss: 0.1308 - accuracy: 0.7028 - val_loss: 0.1373 - val_accuracy: 0.7221\n",
            "Epoch 81/300\n",
            "449/449 - 2s - loss: 0.1301 - accuracy: 0.7047 - val_loss: 0.1369 - val_accuracy: 0.7239\n",
            "Epoch 82/300\n",
            "449/449 - 2s - loss: 0.1291 - accuracy: 0.7054 - val_loss: 0.1365 - val_accuracy: 0.7237\n",
            "Epoch 83/300\n",
            "449/449 - 2s - loss: 0.1288 - accuracy: 0.7058 - val_loss: 0.1361 - val_accuracy: 0.7234\n",
            "Epoch 84/300\n",
            "449/449 - 2s - loss: 0.1283 - accuracy: 0.7072 - val_loss: 0.1357 - val_accuracy: 0.7201\n",
            "Epoch 85/300\n",
            "449/449 - 2s - loss: 0.1274 - accuracy: 0.7053 - val_loss: 0.1353 - val_accuracy: 0.7214\n",
            "Epoch 86/300\n",
            "449/449 - 2s - loss: 0.1269 - accuracy: 0.7011 - val_loss: 0.1349 - val_accuracy: 0.7236\n",
            "Epoch 87/300\n",
            "449/449 - 2s - loss: 0.1263 - accuracy: 0.7071 - val_loss: 0.1345 - val_accuracy: 0.7219\n",
            "Epoch 88/300\n",
            "449/449 - 2s - loss: 0.1252 - accuracy: 0.7066 - val_loss: 0.1342 - val_accuracy: 0.7225\n",
            "Epoch 89/300\n",
            "449/449 - 2s - loss: 0.1251 - accuracy: 0.7054 - val_loss: 0.1339 - val_accuracy: 0.7208\n",
            "Epoch 90/300\n",
            "449/449 - 2s - loss: 0.1250 - accuracy: 0.7059 - val_loss: 0.1335 - val_accuracy: 0.7224\n",
            "Epoch 91/300\n",
            "449/449 - 2s - loss: 0.1236 - accuracy: 0.7043 - val_loss: 0.1331 - val_accuracy: 0.7258\n",
            "Epoch 92/300\n",
            "449/449 - 2s - loss: 0.1230 - accuracy: 0.7082 - val_loss: 0.1329 - val_accuracy: 0.7228\n",
            "Epoch 93/300\n",
            "449/449 - 2s - loss: 0.1228 - accuracy: 0.7073 - val_loss: 0.1326 - val_accuracy: 0.7187\n",
            "Epoch 94/300\n",
            "449/449 - 2s - loss: 0.1219 - accuracy: 0.7025 - val_loss: 0.1322 - val_accuracy: 0.7270\n",
            "Epoch 95/300\n",
            "449/449 - 2s - loss: 0.1218 - accuracy: 0.7068 - val_loss: 0.1320 - val_accuracy: 0.7213\n",
            "Epoch 96/300\n",
            "449/449 - 2s - loss: 0.1212 - accuracy: 0.7052 - val_loss: 0.1317 - val_accuracy: 0.7221\n",
            "Epoch 97/300\n",
            "449/449 - 2s - loss: 0.1204 - accuracy: 0.7063 - val_loss: 0.1314 - val_accuracy: 0.7246\n",
            "Epoch 98/300\n",
            "449/449 - 2s - loss: 0.1200 - accuracy: 0.7076 - val_loss: 0.1312 - val_accuracy: 0.7201\n",
            "Epoch 99/300\n",
            "449/449 - 2s - loss: 0.1193 - accuracy: 0.7062 - val_loss: 0.1309 - val_accuracy: 0.7225\n",
            "Epoch 100/300\n",
            "449/449 - 2s - loss: 0.1188 - accuracy: 0.7064 - val_loss: 0.1306 - val_accuracy: 0.7222\n",
            "Epoch 101/300\n",
            "449/449 - 2s - loss: 0.1184 - accuracy: 0.7069 - val_loss: 0.1304 - val_accuracy: 0.7202\n",
            "Epoch 102/300\n",
            "449/449 - 2s - loss: 0.1182 - accuracy: 0.7044 - val_loss: 0.1302 - val_accuracy: 0.7203\n",
            "Epoch 103/300\n",
            "449/449 - 2s - loss: 0.1179 - accuracy: 0.7061 - val_loss: 0.1299 - val_accuracy: 0.7220\n",
            "Epoch 104/300\n",
            "449/449 - 2s - loss: 0.1171 - accuracy: 0.7040 - val_loss: 0.1297 - val_accuracy: 0.7197\n",
            "Epoch 105/300\n",
            "449/449 - 2s - loss: 0.1167 - accuracy: 0.7035 - val_loss: 0.1294 - val_accuracy: 0.7221\n",
            "Epoch 106/300\n",
            "449/449 - 2s - loss: 0.1162 - accuracy: 0.7049 - val_loss: 0.1293 - val_accuracy: 0.7196\n",
            "Epoch 107/300\n",
            "449/449 - 2s - loss: 0.1157 - accuracy: 0.7046 - val_loss: 0.1291 - val_accuracy: 0.7169\n",
            "Epoch 108/300\n",
            "449/449 - 2s - loss: 0.1149 - accuracy: 0.7041 - val_loss: 0.1288 - val_accuracy: 0.7214\n",
            "Epoch 109/300\n",
            "449/449 - 2s - loss: 0.1146 - accuracy: 0.7061 - val_loss: 0.1287 - val_accuracy: 0.7148\n",
            "Epoch 110/300\n",
            "449/449 - 2s - loss: 0.1144 - accuracy: 0.7022 - val_loss: 0.1285 - val_accuracy: 0.7190\n",
            "Epoch 111/300\n",
            "449/449 - 2s - loss: 0.1137 - accuracy: 0.7046 - val_loss: 0.1283 - val_accuracy: 0.7157\n",
            "Epoch 112/300\n",
            "449/449 - 2s - loss: 0.1139 - accuracy: 0.7004 - val_loss: 0.1282 - val_accuracy: 0.7139\n",
            "Epoch 113/300\n",
            "449/449 - 2s - loss: 0.1128 - accuracy: 0.7002 - val_loss: 0.1279 - val_accuracy: 0.7185\n",
            "Epoch 114/300\n",
            "449/449 - 2s - loss: 0.1125 - accuracy: 0.7022 - val_loss: 0.1278 - val_accuracy: 0.7157\n",
            "Epoch 115/300\n",
            "449/449 - 2s - loss: 0.1125 - accuracy: 0.7008 - val_loss: 0.1276 - val_accuracy: 0.7163\n",
            "Epoch 116/300\n",
            "449/449 - 2s - loss: 0.1118 - accuracy: 0.7004 - val_loss: 0.1275 - val_accuracy: 0.7157\n",
            "Epoch 117/300\n",
            "449/449 - 2s - loss: 0.1116 - accuracy: 0.6998 - val_loss: 0.1273 - val_accuracy: 0.7137\n",
            "Epoch 118/300\n",
            "449/449 - 2s - loss: 0.1111 - accuracy: 0.6990 - val_loss: 0.1272 - val_accuracy: 0.7148\n",
            "Epoch 119/300\n",
            "449/449 - 2s - loss: 0.1113 - accuracy: 0.7003 - val_loss: 0.1271 - val_accuracy: 0.7090\n",
            "Epoch 120/300\n",
            "449/449 - 2s - loss: 0.1107 - accuracy: 0.6990 - val_loss: 0.1269 - val_accuracy: 0.7105\n",
            "Epoch 121/300\n",
            "449/449 - 2s - loss: 0.1104 - accuracy: 0.6973 - val_loss: 0.1268 - val_accuracy: 0.7105\n",
            "Epoch 122/300\n",
            "449/449 - 2s - loss: 0.1094 - accuracy: 0.6961 - val_loss: 0.1266 - val_accuracy: 0.7112\n",
            "Epoch 123/300\n",
            "449/449 - 2s - loss: 0.1092 - accuracy: 0.6968 - val_loss: 0.1265 - val_accuracy: 0.7113\n",
            "Epoch 124/300\n",
            "449/449 - 2s - loss: 0.1088 - accuracy: 0.6978 - val_loss: 0.1264 - val_accuracy: 0.7081\n",
            "Epoch 125/300\n",
            "449/449 - 2s - loss: 0.1087 - accuracy: 0.6932 - val_loss: 0.1263 - val_accuracy: 0.7081\n",
            "Epoch 126/300\n",
            "449/449 - 2s - loss: 0.1082 - accuracy: 0.6944 - val_loss: 0.1261 - val_accuracy: 0.7120\n",
            "Epoch 127/300\n",
            "449/449 - 2s - loss: 0.1078 - accuracy: 0.6953 - val_loss: 0.1260 - val_accuracy: 0.7078\n",
            "Epoch 128/300\n",
            "449/449 - 2s - loss: 0.1077 - accuracy: 0.6939 - val_loss: 0.1259 - val_accuracy: 0.7050\n",
            "Epoch 129/300\n",
            "449/449 - 2s - loss: 0.1074 - accuracy: 0.6930 - val_loss: 0.1258 - val_accuracy: 0.7081\n",
            "Epoch 130/300\n",
            "449/449 - 2s - loss: 0.1069 - accuracy: 0.6914 - val_loss: 0.1257 - val_accuracy: 0.7059\n",
            "Epoch 131/300\n",
            "449/449 - 2s - loss: 0.1067 - accuracy: 0.6925 - val_loss: 0.1256 - val_accuracy: 0.7067\n",
            "Epoch 132/300\n",
            "449/449 - 2s - loss: 0.1062 - accuracy: 0.6911 - val_loss: 0.1256 - val_accuracy: 0.7012\n",
            "Epoch 133/300\n",
            "449/449 - 2s - loss: 0.1062 - accuracy: 0.6903 - val_loss: 0.1255 - val_accuracy: 0.6998\n",
            "Epoch 134/300\n",
            "449/449 - 2s - loss: 0.1053 - accuracy: 0.6886 - val_loss: 0.1253 - val_accuracy: 0.7045\n",
            "Epoch 135/300\n",
            "449/449 - 2s - loss: 0.1050 - accuracy: 0.6895 - val_loss: 0.1253 - val_accuracy: 0.6995\n",
            "Epoch 136/300\n",
            "449/449 - 2s - loss: 0.1046 - accuracy: 0.6875 - val_loss: 0.1252 - val_accuracy: 0.7019\n",
            "Epoch 137/300\n",
            "449/449 - 2s - loss: 0.1046 - accuracy: 0.6878 - val_loss: 0.1251 - val_accuracy: 0.7006\n",
            "Epoch 138/300\n",
            "449/449 - 2s - loss: 0.1044 - accuracy: 0.6854 - val_loss: 0.1250 - val_accuracy: 0.6980\n",
            "Epoch 139/300\n",
            "449/449 - 2s - loss: 0.1036 - accuracy: 0.6841 - val_loss: 0.1250 - val_accuracy: 0.6960\n",
            "Epoch 140/300\n",
            "449/449 - 2s - loss: 0.1034 - accuracy: 0.6836 - val_loss: 0.1249 - val_accuracy: 0.6949\n",
            "Epoch 141/300\n",
            "449/449 - 2s - loss: 0.1032 - accuracy: 0.6833 - val_loss: 0.1248 - val_accuracy: 0.6976\n",
            "Epoch 142/300\n",
            "449/449 - 2s - loss: 0.1029 - accuracy: 0.6851 - val_loss: 0.1248 - val_accuracy: 0.6943\n",
            "Epoch 143/300\n",
            "449/449 - 2s - loss: 0.1022 - accuracy: 0.6835 - val_loss: 0.1247 - val_accuracy: 0.6921\n",
            "Epoch 144/300\n",
            "449/449 - 2s - loss: 0.1024 - accuracy: 0.6820 - val_loss: 0.1247 - val_accuracy: 0.6908\n",
            "Epoch 145/300\n",
            "449/449 - 2s - loss: 0.1018 - accuracy: 0.6786 - val_loss: 0.1246 - val_accuracy: 0.6936\n",
            "Epoch 146/300\n",
            "449/449 - 2s - loss: 0.1016 - accuracy: 0.6831 - val_loss: 0.1245 - val_accuracy: 0.6912\n",
            "Epoch 147/300\n",
            "449/449 - 2s - loss: 0.1018 - accuracy: 0.6779 - val_loss: 0.1244 - val_accuracy: 0.6931\n",
            "Epoch 148/300\n",
            "449/449 - 2s - loss: 0.1013 - accuracy: 0.6801 - val_loss: 0.1244 - val_accuracy: 0.6917\n",
            "Epoch 149/300\n",
            "449/449 - 2s - loss: 0.1008 - accuracy: 0.6779 - val_loss: 0.1245 - val_accuracy: 0.6830\n",
            "Epoch 150/300\n",
            "449/449 - 2s - loss: 0.1005 - accuracy: 0.6767 - val_loss: 0.1244 - val_accuracy: 0.6859\n",
            "Epoch 151/300\n",
            "449/449 - 2s - loss: 0.1005 - accuracy: 0.6762 - val_loss: 0.1243 - val_accuracy: 0.6866\n",
            "Epoch 152/300\n",
            "449/449 - 2s - loss: 0.0998 - accuracy: 0.6757 - val_loss: 0.1243 - val_accuracy: 0.6853\n",
            "Epoch 153/300\n",
            "449/449 - 2s - loss: 0.0992 - accuracy: 0.6750 - val_loss: 0.1243 - val_accuracy: 0.6820\n",
            "Epoch 154/300\n",
            "449/449 - 2s - loss: 0.0993 - accuracy: 0.6724 - val_loss: 0.1241 - val_accuracy: 0.6853\n",
            "Epoch 155/300\n",
            "449/449 - 2s - loss: 0.0994 - accuracy: 0.6716 - val_loss: 0.1241 - val_accuracy: 0.6855\n",
            "Epoch 156/300\n",
            "449/449 - 2s - loss: 0.0993 - accuracy: 0.6725 - val_loss: 0.1241 - val_accuracy: 0.6841\n",
            "Epoch 157/300\n",
            "449/449 - 2s - loss: 0.0983 - accuracy: 0.6714 - val_loss: 0.1241 - val_accuracy: 0.6776\n",
            "Epoch 158/300\n",
            "449/449 - 2s - loss: 0.0985 - accuracy: 0.6686 - val_loss: 0.1240 - val_accuracy: 0.6808\n",
            "Epoch 159/300\n",
            "449/449 - 2s - loss: 0.0981 - accuracy: 0.6678 - val_loss: 0.1240 - val_accuracy: 0.6791\n",
            "Epoch 160/300\n",
            "449/449 - 2s - loss: 0.0977 - accuracy: 0.6695 - val_loss: 0.1240 - val_accuracy: 0.6779\n",
            "Epoch 161/300\n",
            "449/449 - 2s - loss: 0.0976 - accuracy: 0.6666 - val_loss: 0.1240 - val_accuracy: 0.6764\n",
            "Epoch 162/300\n",
            "449/449 - 2s - loss: 0.0972 - accuracy: 0.6656 - val_loss: 0.1239 - val_accuracy: 0.6783\n",
            "Epoch 163/300\n",
            "449/449 - 2s - loss: 0.0971 - accuracy: 0.6662 - val_loss: 0.1239 - val_accuracy: 0.6746\n",
            "Epoch 164/300\n",
            "449/449 - 2s - loss: 0.0966 - accuracy: 0.6672 - val_loss: 0.1240 - val_accuracy: 0.6691\n",
            "Epoch 165/300\n",
            "449/449 - 2s - loss: 0.0966 - accuracy: 0.6636 - val_loss: 0.1239 - val_accuracy: 0.6745\n",
            "Epoch 166/300\n",
            "449/449 - 2s - loss: 0.0961 - accuracy: 0.6631 - val_loss: 0.1239 - val_accuracy: 0.6730\n",
            "Epoch 167/300\n",
            "449/449 - 2s - loss: 0.0961 - accuracy: 0.6626 - val_loss: 0.1239 - val_accuracy: 0.6692\n",
            "Epoch 168/300\n",
            "449/449 - 2s - loss: 0.0959 - accuracy: 0.6597 - val_loss: 0.1239 - val_accuracy: 0.6690\n",
            "Epoch 169/300\n",
            "449/449 - 2s - loss: 0.0957 - accuracy: 0.6600 - val_loss: 0.1239 - val_accuracy: 0.6697\n",
            "Epoch 170/300\n",
            "449/449 - 2s - loss: 0.0957 - accuracy: 0.6615 - val_loss: 0.1239 - val_accuracy: 0.6694\n",
            "Epoch 171/300\n",
            "449/449 - 2s - loss: 0.0958 - accuracy: 0.6614 - val_loss: 0.1239 - val_accuracy: 0.6693\n",
            "Epoch 172/300\n",
            "449/449 - 2s - loss: 0.0956 - accuracy: 0.6618 - val_loss: 0.1239 - val_accuracy: 0.6701\n",
            "Epoch 173/300\n",
            "449/449 - 2s - loss: 0.0957 - accuracy: 0.6616 - val_loss: 0.1239 - val_accuracy: 0.6700\n",
            "Epoch 174/300\n",
            "449/449 - 2s - loss: 0.0952 - accuracy: 0.6603 - val_loss: 0.1239 - val_accuracy: 0.6700\n",
            "Epoch 175/300\n",
            "449/449 - 2s - loss: 0.0957 - accuracy: 0.6610 - val_loss: 0.1239 - val_accuracy: 0.6700\n",
            "Epoch 176/300\n",
            "449/449 - 2s - loss: 0.0957 - accuracy: 0.6601 - val_loss: 0.1239 - val_accuracy: 0.6700\n",
            "Epoch 00176: early stopping\n",
            "INFO:tensorflow:Assets written to: /content/drive/MyDrive/Transfer_learning/Toxic_SGD3/model_Aux1_0/assets\n",
            "Model: \"sequential\"\n",
            "_________________________________________________________________\n",
            "Layer (type)                 Output Shape              Param #   \n",
            "=================================================================\n",
            "dense (Dense)                (None, 1)                 5129      \n",
            "=================================================================\n",
            "Total params: 5,129\n",
            "Trainable params: 5,129\n",
            "Non-trainable params: 0\n",
            "_________________________________________________________________\n",
            "Epoch 1/300\n",
            "449/449 - 3s - loss: 0.3068 - accuracy: 0.8869 - val_loss: 0.2433 - val_accuracy: 0.9107\n",
            "Epoch 2/300\n",
            "449/449 - 2s - loss: 0.2223 - accuracy: 0.9143 - val_loss: 0.2081 - val_accuracy: 0.9250\n",
            "Epoch 3/300\n",
            "449/449 - 2s - loss: 0.1913 - accuracy: 0.9296 - val_loss: 0.1867 - val_accuracy: 0.9368\n",
            "Epoch 4/300\n",
            "449/449 - 2s - loss: 0.1717 - accuracy: 0.9387 - val_loss: 0.1728 - val_accuracy: 0.9429\n",
            "Epoch 5/300\n",
            "449/449 - 2s - loss: 0.1583 - accuracy: 0.9443 - val_loss: 0.1632 - val_accuracy: 0.9473\n",
            "Epoch 6/300\n",
            "449/449 - 2s - loss: 0.1487 - accuracy: 0.9480 - val_loss: 0.1563 - val_accuracy: 0.9496\n",
            "Epoch 7/300\n",
            "449/449 - 2s - loss: 0.1415 - accuracy: 0.9508 - val_loss: 0.1510 - val_accuracy: 0.9511\n",
            "Epoch 8/300\n",
            "449/449 - 2s - loss: 0.1359 - accuracy: 0.9524 - val_loss: 0.1470 - val_accuracy: 0.9525\n",
            "Epoch 9/300\n",
            "449/449 - 2s - loss: 0.1315 - accuracy: 0.9537 - val_loss: 0.1439 - val_accuracy: 0.9531\n",
            "Epoch 10/300\n",
            "449/449 - 2s - loss: 0.1279 - accuracy: 0.9550 - val_loss: 0.1413 - val_accuracy: 0.9534\n",
            "Epoch 11/300\n",
            "449/449 - 2s - loss: 0.1248 - accuracy: 0.9559 - val_loss: 0.1392 - val_accuracy: 0.9538\n",
            "Epoch 12/300\n",
            "449/449 - 2s - loss: 0.1223 - accuracy: 0.9567 - val_loss: 0.1375 - val_accuracy: 0.9539\n",
            "Epoch 13/300\n",
            "449/449 - 2s - loss: 0.1201 - accuracy: 0.9574 - val_loss: 0.1361 - val_accuracy: 0.9541\n",
            "Epoch 14/300\n",
            "449/449 - 2s - loss: 0.1182 - accuracy: 0.9578 - val_loss: 0.1349 - val_accuracy: 0.9543\n",
            "Epoch 15/300\n",
            "449/449 - 2s - loss: 0.1166 - accuracy: 0.9582 - val_loss: 0.1338 - val_accuracy: 0.9546\n",
            "Epoch 16/300\n",
            "449/449 - 2s - loss: 0.1151 - accuracy: 0.9587 - val_loss: 0.1329 - val_accuracy: 0.9549\n",
            "Epoch 17/300\n",
            "449/449 - 2s - loss: 0.1138 - accuracy: 0.9591 - val_loss: 0.1321 - val_accuracy: 0.9553\n",
            "Epoch 18/300\n",
            "449/449 - 2s - loss: 0.1127 - accuracy: 0.9595 - val_loss: 0.1315 - val_accuracy: 0.9554\n",
            "Epoch 19/300\n",
            "449/449 - 2s - loss: 0.1116 - accuracy: 0.9598 - val_loss: 0.1309 - val_accuracy: 0.9555\n",
            "Epoch 20/300\n",
            "449/449 - 2s - loss: 0.1107 - accuracy: 0.9600 - val_loss: 0.1304 - val_accuracy: 0.9555\n",
            "Epoch 21/300\n",
            "449/449 - 2s - loss: 0.1098 - accuracy: 0.9602 - val_loss: 0.1299 - val_accuracy: 0.9556\n",
            "Epoch 22/300\n",
            "449/449 - 2s - loss: 0.1090 - accuracy: 0.9605 - val_loss: 0.1295 - val_accuracy: 0.9556\n",
            "Epoch 23/300\n",
            "449/449 - 2s - loss: 0.1083 - accuracy: 0.9607 - val_loss: 0.1291 - val_accuracy: 0.9557\n",
            "Epoch 24/300\n",
            "449/449 - 2s - loss: 0.1076 - accuracy: 0.9610 - val_loss: 0.1288 - val_accuracy: 0.9557\n",
            "Epoch 25/300\n",
            "449/449 - 2s - loss: 0.1070 - accuracy: 0.9612 - val_loss: 0.1285 - val_accuracy: 0.9558\n",
            "Epoch 26/300\n",
            "449/449 - 2s - loss: 0.1064 - accuracy: 0.9614 - val_loss: 0.1282 - val_accuracy: 0.9559\n",
            "Epoch 27/300\n",
            "449/449 - 2s - loss: 0.1059 - accuracy: 0.9617 - val_loss: 0.1280 - val_accuracy: 0.9560\n",
            "Epoch 28/300\n",
            "449/449 - 2s - loss: 0.1054 - accuracy: 0.9619 - val_loss: 0.1278 - val_accuracy: 0.9562\n",
            "Epoch 29/300\n",
            "449/449 - 2s - loss: 0.1049 - accuracy: 0.9620 - val_loss: 0.1276 - val_accuracy: 0.9562\n",
            "Epoch 30/300\n",
            "449/449 - 2s - loss: 0.1045 - accuracy: 0.9621 - val_loss: 0.1274 - val_accuracy: 0.9561\n",
            "Epoch 31/300\n",
            "449/449 - 2s - loss: 0.1040 - accuracy: 0.9622 - val_loss: 0.1272 - val_accuracy: 0.9562\n",
            "Epoch 32/300\n",
            "449/449 - 2s - loss: 0.1036 - accuracy: 0.9624 - val_loss: 0.1271 - val_accuracy: 0.9564\n",
            "Epoch 33/300\n",
            "449/449 - 2s - loss: 0.1033 - accuracy: 0.9625 - val_loss: 0.1269 - val_accuracy: 0.9564\n",
            "Epoch 34/300\n",
            "449/449 - 2s - loss: 0.1029 - accuracy: 0.9627 - val_loss: 0.1268 - val_accuracy: 0.9564\n",
            "Epoch 35/300\n",
            "449/449 - 2s - loss: 0.1026 - accuracy: 0.9628 - val_loss: 0.1267 - val_accuracy: 0.9564\n",
            "Epoch 36/300\n",
            "449/449 - 2s - loss: 0.1023 - accuracy: 0.9630 - val_loss: 0.1266 - val_accuracy: 0.9565\n",
            "Epoch 37/300\n",
            "449/449 - 2s - loss: 0.1020 - accuracy: 0.9631 - val_loss: 0.1265 - val_accuracy: 0.9566\n",
            "Epoch 38/300\n",
            "449/449 - 2s - loss: 0.1017 - accuracy: 0.9633 - val_loss: 0.1264 - val_accuracy: 0.9565\n",
            "Epoch 39/300\n",
            "449/449 - 2s - loss: 0.1014 - accuracy: 0.9634 - val_loss: 0.1264 - val_accuracy: 0.9566\n",
            "Epoch 40/300\n",
            "449/449 - 2s - loss: 0.1011 - accuracy: 0.9635 - val_loss: 0.1263 - val_accuracy: 0.9567\n",
            "Epoch 41/300\n",
            "449/449 - 2s - loss: 0.1009 - accuracy: 0.9636 - val_loss: 0.1262 - val_accuracy: 0.9568\n",
            "Epoch 42/300\n",
            "449/449 - 2s - loss: 0.1007 - accuracy: 0.9637 - val_loss: 0.1262 - val_accuracy: 0.9568\n",
            "Epoch 43/300\n",
            "449/449 - 2s - loss: 0.1004 - accuracy: 0.9638 - val_loss: 0.1261 - val_accuracy: 0.9569\n",
            "Epoch 44/300\n",
            "449/449 - 2s - loss: 0.1002 - accuracy: 0.9638 - val_loss: 0.1261 - val_accuracy: 0.9569\n",
            "Epoch 45/300\n",
            "449/449 - 2s - loss: 0.1000 - accuracy: 0.9640 - val_loss: 0.1260 - val_accuracy: 0.9570\n",
            "Epoch 46/300\n",
            "449/449 - 2s - loss: 0.0998 - accuracy: 0.9640 - val_loss: 0.1260 - val_accuracy: 0.9571\n",
            "Epoch 47/300\n",
            "449/449 - 2s - loss: 0.0996 - accuracy: 0.9640 - val_loss: 0.1260 - val_accuracy: 0.9571\n",
            "Epoch 48/300\n",
            "449/449 - 2s - loss: 0.0994 - accuracy: 0.9641 - val_loss: 0.1259 - val_accuracy: 0.9571\n",
            "Epoch 49/300\n",
            "449/449 - 2s - loss: 0.0992 - accuracy: 0.9642 - val_loss: 0.1259 - val_accuracy: 0.9572\n",
            "Epoch 50/300\n",
            "449/449 - 2s - loss: 0.0991 - accuracy: 0.9643 - val_loss: 0.1259 - val_accuracy: 0.9573\n",
            "Epoch 51/300\n",
            "449/449 - 2s - loss: 0.0989 - accuracy: 0.9643 - val_loss: 0.1259 - val_accuracy: 0.9574\n",
            "Epoch 52/300\n",
            "449/449 - 2s - loss: 0.0987 - accuracy: 0.9643 - val_loss: 0.1259 - val_accuracy: 0.9574\n",
            "Epoch 53/300\n",
            "449/449 - 2s - loss: 0.0986 - accuracy: 0.9644 - val_loss: 0.1258 - val_accuracy: 0.9574\n",
            "Epoch 54/300\n",
            "449/449 - 2s - loss: 0.0984 - accuracy: 0.9644 - val_loss: 0.1258 - val_accuracy: 0.9574\n",
            "Epoch 55/300\n",
            "449/449 - 2s - loss: 0.0983 - accuracy: 0.9644 - val_loss: 0.1258 - val_accuracy: 0.9574\n",
            "Epoch 56/300\n",
            "449/449 - 2s - loss: 0.0982 - accuracy: 0.9645 - val_loss: 0.1258 - val_accuracy: 0.9575\n",
            "Epoch 57/300\n",
            "449/449 - 2s - loss: 0.0981 - accuracy: 0.9645 - val_loss: 0.1258 - val_accuracy: 0.9575\n",
            "Epoch 58/300\n",
            "449/449 - 2s - loss: 0.0981 - accuracy: 0.9645 - val_loss: 0.1258 - val_accuracy: 0.9575\n",
            "Epoch 59/300\n",
            "449/449 - 2s - loss: 0.0981 - accuracy: 0.9645 - val_loss: 0.1258 - val_accuracy: 0.9575\n",
            "Epoch 60/300\n",
            "449/449 - 2s - loss: 0.0981 - accuracy: 0.9645 - val_loss: 0.1258 - val_accuracy: 0.9575\n",
            "Epoch 61/300\n",
            "449/449 - 2s - loss: 0.0981 - accuracy: 0.9645 - val_loss: 0.1258 - val_accuracy: 0.9575\n",
            "Epoch 62/300\n",
            "449/449 - 2s - loss: 0.0981 - accuracy: 0.9645 - val_loss: 0.1258 - val_accuracy: 0.9575\n",
            "Epoch 63/300\n",
            "449/449 - 2s - loss: 0.0981 - accuracy: 0.9645 - val_loss: 0.1258 - val_accuracy: 0.9575\n",
            "Epoch 64/300\n",
            "449/449 - 2s - loss: 0.0981 - accuracy: 0.9645 - val_loss: 0.1258 - val_accuracy: 0.9575\n",
            "Epoch 65/300\n",
            "449/449 - 2s - loss: 0.0981 - accuracy: 0.9645 - val_loss: 0.1258 - val_accuracy: 0.9575\n",
            "Epoch 66/300\n",
            "449/449 - 2s - loss: 0.0981 - accuracy: 0.9645 - val_loss: 0.1258 - val_accuracy: 0.9575\n",
            "Epoch 67/300\n",
            "449/449 - 2s - loss: 0.0981 - accuracy: 0.9645 - val_loss: 0.1258 - val_accuracy: 0.9575\n",
            "Epoch 68/300\n",
            "449/449 - 2s - loss: 0.0981 - accuracy: 0.9645 - val_loss: 0.1258 - val_accuracy: 0.9575\n",
            "Epoch 69/300\n",
            "449/449 - 2s - loss: 0.0981 - accuracy: 0.9645 - val_loss: 0.1258 - val_accuracy: 0.9575\n",
            "Epoch 70/300\n",
            "449/449 - 2s - loss: 0.0981 - accuracy: 0.9645 - val_loss: 0.1258 - val_accuracy: 0.9575\n",
            "Epoch 71/300\n",
            "449/449 - 2s - loss: 0.0981 - accuracy: 0.9645 - val_loss: 0.1258 - val_accuracy: 0.9575\n",
            "Epoch 72/300\n",
            "449/449 - 2s - loss: 0.0981 - accuracy: 0.9645 - val_loss: 0.1258 - val_accuracy: 0.9575\n",
            "Epoch 73/300\n",
            "449/449 - 2s - loss: 0.0981 - accuracy: 0.9645 - val_loss: 0.1258 - val_accuracy: 0.9575\n",
            "Epoch 74/300\n",
            "449/449 - 2s - loss: 0.0981 - accuracy: 0.9645 - val_loss: 0.1258 - val_accuracy: 0.9575\n",
            "Epoch 75/300\n",
            "449/449 - 2s - loss: 0.0981 - accuracy: 0.9645 - val_loss: 0.1258 - val_accuracy: 0.9575\n",
            "Epoch 76/300\n",
            "449/449 - 2s - loss: 0.0981 - accuracy: 0.9645 - val_loss: 0.1258 - val_accuracy: 0.9575\n",
            "Epoch 77/300\n",
            "449/449 - 2s - loss: 0.0981 - accuracy: 0.9645 - val_loss: 0.1258 - val_accuracy: 0.9575\n",
            "Epoch 78/300\n",
            "449/449 - 2s - loss: 0.0981 - accuracy: 0.9645 - val_loss: 0.1258 - val_accuracy: 0.9575\n",
            "Epoch 79/300\n",
            "449/449 - 2s - loss: 0.0981 - accuracy: 0.9645 - val_loss: 0.1258 - val_accuracy: 0.9575\n",
            "Epoch 80/300\n",
            "449/449 - 2s - loss: 0.0981 - accuracy: 0.9645 - val_loss: 0.1258 - val_accuracy: 0.9575\n",
            "Epoch 81/300\n",
            "449/449 - 2s - loss: 0.0981 - accuracy: 0.9645 - val_loss: 0.1258 - val_accuracy: 0.9575\n",
            "Epoch 82/300\n",
            "449/449 - 2s - loss: 0.0981 - accuracy: 0.9645 - val_loss: 0.1258 - val_accuracy: 0.9575\n",
            "Epoch 00082: early stopping\n",
            "INFO:tensorflow:Assets written to: /content/drive/MyDrive/Transfer_learning/Toxic_SGD3/model_transf_linear1_0/assets\n",
            "Model: \"sequential\"\n",
            "_________________________________________________________________\n",
            "Layer (type)                 Output Shape              Param #   \n",
            "=================================================================\n",
            "dense (Dense)                (None, 256)               1313024   \n",
            "_________________________________________________________________\n",
            "dense_1 (Dense)              (None, 128)               32896     \n",
            "_________________________________________________________________\n",
            "dropout (Dropout)            (None, 128)               0         \n",
            "_________________________________________________________________\n",
            "dense_2 (Dense)              (None, 1)                 129       \n",
            "=================================================================\n",
            "Total params: 1,346,049\n",
            "Trainable params: 1,346,049\n",
            "Non-trainable params: 0\n",
            "_________________________________________________________________\n",
            "Epoch 1/300\n",
            "449/449 - 3s - loss: 0.3643 - accuracy: 0.8715 - val_loss: 0.2691 - val_accuracy: 0.9074\n",
            "Epoch 2/300\n",
            "449/449 - 2s - loss: 0.2551 - accuracy: 0.9032 - val_loss: 0.2359 - val_accuracy: 0.9076\n",
            "Epoch 3/300\n",
            "449/449 - 2s - loss: 0.2228 - accuracy: 0.9049 - val_loss: 0.2095 - val_accuracy: 0.9121\n",
            "Epoch 4/300\n",
            "449/449 - 2s - loss: 0.1954 - accuracy: 0.9145 - val_loss: 0.1877 - val_accuracy: 0.9242\n",
            "Epoch 5/300\n",
            "449/449 - 2s - loss: 0.1736 - accuracy: 0.9280 - val_loss: 0.1706 - val_accuracy: 0.9353\n",
            "Epoch 6/300\n",
            "449/449 - 2s - loss: 0.1560 - accuracy: 0.9388 - val_loss: 0.1580 - val_accuracy: 0.9433\n",
            "Epoch 7/300\n",
            "449/449 - 2s - loss: 0.1434 - accuracy: 0.9456 - val_loss: 0.1493 - val_accuracy: 0.9480\n",
            "Epoch 8/300\n",
            "449/449 - 2s - loss: 0.1343 - accuracy: 0.9501 - val_loss: 0.1433 - val_accuracy: 0.9511\n",
            "Epoch 9/300\n",
            "449/449 - 2s - loss: 0.1278 - accuracy: 0.9528 - val_loss: 0.1392 - val_accuracy: 0.9523\n",
            "Epoch 10/300\n",
            "449/449 - 2s - loss: 0.1224 - accuracy: 0.9551 - val_loss: 0.1365 - val_accuracy: 0.9531\n",
            "Epoch 11/300\n",
            "449/449 - 2s - loss: 0.1191 - accuracy: 0.9561 - val_loss: 0.1344 - val_accuracy: 0.9537\n",
            "Epoch 12/300\n",
            "449/449 - 2s - loss: 0.1159 - accuracy: 0.9577 - val_loss: 0.1330 - val_accuracy: 0.9540\n",
            "Epoch 13/300\n",
            "449/449 - 2s - loss: 0.1138 - accuracy: 0.9584 - val_loss: 0.1318 - val_accuracy: 0.9547\n",
            "Epoch 14/300\n",
            "449/449 - 2s - loss: 0.1114 - accuracy: 0.9595 - val_loss: 0.1311 - val_accuracy: 0.9550\n",
            "Epoch 15/300\n",
            "449/449 - 2s - loss: 0.1097 - accuracy: 0.9603 - val_loss: 0.1305 - val_accuracy: 0.9556\n",
            "Epoch 16/300\n",
            "449/449 - 2s - loss: 0.1088 - accuracy: 0.9606 - val_loss: 0.1302 - val_accuracy: 0.9560\n",
            "Epoch 17/300\n",
            "449/449 - 2s - loss: 0.1075 - accuracy: 0.9611 - val_loss: 0.1296 - val_accuracy: 0.9561\n",
            "Epoch 18/300\n",
            "449/449 - 2s - loss: 0.1063 - accuracy: 0.9615 - val_loss: 0.1295 - val_accuracy: 0.9563\n",
            "Epoch 19/300\n",
            "449/449 - 2s - loss: 0.1054 - accuracy: 0.9620 - val_loss: 0.1293 - val_accuracy: 0.9563\n",
            "Epoch 20/300\n",
            "449/449 - 2s - loss: 0.1048 - accuracy: 0.9621 - val_loss: 0.1291 - val_accuracy: 0.9564\n",
            "Epoch 21/300\n",
            "449/449 - 2s - loss: 0.1038 - accuracy: 0.9627 - val_loss: 0.1290 - val_accuracy: 0.9565\n",
            "Epoch 22/300\n",
            "449/449 - 2s - loss: 0.1031 - accuracy: 0.9627 - val_loss: 0.1289 - val_accuracy: 0.9567\n",
            "Epoch 23/300\n",
            "449/449 - 2s - loss: 0.1024 - accuracy: 0.9633 - val_loss: 0.1289 - val_accuracy: 0.9571\n",
            "Epoch 24/300\n",
            "449/449 - 2s - loss: 0.1018 - accuracy: 0.9634 - val_loss: 0.1288 - val_accuracy: 0.9570\n",
            "Epoch 25/300\n",
            "449/449 - 2s - loss: 0.1015 - accuracy: 0.9634 - val_loss: 0.1289 - val_accuracy: 0.9572\n",
            "Epoch 26/300\n",
            "449/449 - 2s - loss: 0.1007 - accuracy: 0.9639 - val_loss: 0.1288 - val_accuracy: 0.9574\n",
            "Epoch 27/300\n",
            "449/449 - 2s - loss: 0.1002 - accuracy: 0.9640 - val_loss: 0.1288 - val_accuracy: 0.9575\n",
            "Epoch 28/300\n",
            "449/449 - 2s - loss: 0.1001 - accuracy: 0.9638 - val_loss: 0.1288 - val_accuracy: 0.9573\n",
            "Epoch 29/300\n",
            "449/449 - 2s - loss: 0.0997 - accuracy: 0.9638 - val_loss: 0.1289 - val_accuracy: 0.9575\n",
            "Epoch 30/300\n",
            "449/449 - 2s - loss: 0.0994 - accuracy: 0.9644 - val_loss: 0.1287 - val_accuracy: 0.9575\n",
            "Epoch 31/300\n",
            "449/449 - 2s - loss: 0.0991 - accuracy: 0.9642 - val_loss: 0.1288 - val_accuracy: 0.9575\n",
            "Epoch 32/300\n",
            "449/449 - 2s - loss: 0.0987 - accuracy: 0.9646 - val_loss: 0.1288 - val_accuracy: 0.9576\n",
            "Epoch 33/300\n",
            "449/449 - 2s - loss: 0.0984 - accuracy: 0.9646 - val_loss: 0.1288 - val_accuracy: 0.9577\n",
            "Epoch 34/300\n",
            "449/449 - 2s - loss: 0.0989 - accuracy: 0.9643 - val_loss: 0.1288 - val_accuracy: 0.9576\n",
            "Epoch 35/300\n",
            "449/449 - 2s - loss: 0.0988 - accuracy: 0.9645 - val_loss: 0.1288 - val_accuracy: 0.9576\n",
            "Epoch 36/300\n",
            "449/449 - 2s - loss: 0.0986 - accuracy: 0.9647 - val_loss: 0.1288 - val_accuracy: 0.9577\n",
            "Epoch 37/300\n",
            "449/449 - 2s - loss: 0.0986 - accuracy: 0.9647 - val_loss: 0.1288 - val_accuracy: 0.9577\n",
            "Epoch 38/300\n",
            "449/449 - 2s - loss: 0.0989 - accuracy: 0.9646 - val_loss: 0.1288 - val_accuracy: 0.9577\n",
            "Epoch 39/300\n",
            "449/449 - 2s - loss: 0.0987 - accuracy: 0.9647 - val_loss: 0.1288 - val_accuracy: 0.9577\n",
            "Epoch 40/300\n",
            "449/449 - 2s - loss: 0.0989 - accuracy: 0.9645 - val_loss: 0.1288 - val_accuracy: 0.9577\n",
            "Epoch 00040: early stopping\n",
            "INFO:tensorflow:Assets written to: /content/drive/MyDrive/Transfer_learning/Toxic_SGD3/model_transf1_0/assets\n"
          ],
          "name": "stdout"
        }
      ]
    },
    {
      "cell_type": "code",
      "metadata": {
        "colab": {
          "base_uri": "https://localhost:8080/"
        },
        "id": "5LJyr68azG1d",
        "outputId": "ff42ec5c-cd93-4c16-b3ff-10c3e1d8eaa7"
      },
      "source": [
        "extracted_features2.shape"
      ],
      "execution_count": null,
      "outputs": [
        {
          "output_type": "execute_result",
          "data": {
            "text/plain": [
              "(15958, 128)"
            ]
          },
          "metadata": {
            "tags": []
          },
          "execution_count": 20
        }
      ]
    },
    {
      "cell_type": "code",
      "metadata": {
        "id": "PXVMwshZ-x1D"
      },
      "source": [
        "model_Vanilla = keras.models.load_model('/content/drive/MyDrive/Transfer_learning/Toxic_SGD/model_Vanilla_'+str(fold_no), compile=False)\n",
        "predicted_vanilla = model_Vanilla.predict(X_test_tokens)"
      ],
      "execution_count": null,
      "outputs": []
    },
    {
      "cell_type": "code",
      "metadata": {
        "colab": {
          "base_uri": "https://localhost:8080/",
          "height": 142
        },
        "id": "i2pu2Rl8-9Gn",
        "outputId": "efa629a1-3674-46e8-a012-bcf35040641f"
      },
      "source": [
        "pd.crosstab(y_tgt_test, \n",
        "            ((predicted_vanilla>0.5)*1).reshape(-1))"
      ],
      "execution_count": null,
      "outputs": [
        {
          "output_type": "execute_result",
          "data": {
            "text/html": [
              "<div>\n",
              "<style scoped>\n",
              "    .dataframe tbody tr th:only-of-type {\n",
              "        vertical-align: middle;\n",
              "    }\n",
              "\n",
              "    .dataframe tbody tr th {\n",
              "        vertical-align: top;\n",
              "    }\n",
              "\n",
              "    .dataframe thead th {\n",
              "        text-align: right;\n",
              "    }\n",
              "</style>\n",
              "<table border=\"1\" class=\"dataframe\">\n",
              "  <thead>\n",
              "    <tr style=\"text-align: right;\">\n",
              "      <th>col_0</th>\n",
              "      <th>0</th>\n",
              "      <th>1</th>\n",
              "    </tr>\n",
              "    <tr>\n",
              "      <th>row_0</th>\n",
              "      <th></th>\n",
              "      <th></th>\n",
              "    </tr>\n",
              "  </thead>\n",
              "  <tbody>\n",
              "    <tr>\n",
              "      <th>0</th>\n",
              "      <td>14280</td>\n",
              "      <td>169</td>\n",
              "    </tr>\n",
              "    <tr>\n",
              "      <th>1</th>\n",
              "      <td>511</td>\n",
              "      <td>998</td>\n",
              "    </tr>\n",
              "  </tbody>\n",
              "</table>\n",
              "</div>"
            ],
            "text/plain": [
              "col_0      0    1\n",
              "row_0            \n",
              "0      14280  169\n",
              "1        511  998"
            ]
          },
          "metadata": {
            "tags": []
          },
          "execution_count": 19
        }
      ]
    },
    {
      "cell_type": "code",
      "metadata": {
        "colab": {
          "base_uri": "https://localhost:8080/"
        },
        "id": "GcSjRIyQ_BE9",
        "outputId": "0ef4e5e6-11d6-4edf-c08a-eeb754f88d01"
      },
      "source": [
        "np.mean(y_tgt_test == ((predicted_vanilla>0.5)*1).reshape(-1))"
      ],
      "execution_count": null,
      "outputs": [
        {
          "output_type": "execute_result",
          "data": {
            "text/plain": [
              "0.9573881438776789"
            ]
          },
          "metadata": {
            "tags": []
          },
          "execution_count": 20
        }
      ]
    },
    {
      "cell_type": "code",
      "metadata": {
        "id": "nJamb7cG1Zva"
      },
      "source": [
        "model_Aux1 = keras.models.load_model('/content/drive/MyDrive/Transfer_learning/Toxic_SGD/model_Aux2_'+str(fold_no), compile=False)\n",
        "extraction1 = Model(inputs=model_Aux1.inputs, outputs=model_Aux1.layers[-2].output)\n",
        "extracted_features1 = extraction1.predict(X_test_tokens)\n"
      ],
      "execution_count": null,
      "outputs": []
    },
    {
      "cell_type": "code",
      "metadata": {
        "id": "fuz1hzEm7-l-"
      },
      "source": [
        "model_transf1 = keras.models.load_model('/content/drive/MyDrive/Transfer_learning/Toxic_SGD/model_transf2_'+str(fold_no), compile=False)\n",
        "predicted_values = model_transf1.predict(np.hstack((X_test_tokens, extracted_features1)))"
      ],
      "execution_count": null,
      "outputs": []
    },
    {
      "cell_type": "code",
      "metadata": {
        "colab": {
          "base_uri": "https://localhost:8080/",
          "height": 142
        },
        "id": "I9LvwtDa-inR",
        "outputId": "a9955ca6-55e5-445b-d164-9c92f43d1dff"
      },
      "source": [
        "pd.crosstab(y_tgt_test, \n",
        "            ((predicted_values>0.5)*1).reshape(-1))"
      ],
      "execution_count": null,
      "outputs": [
        {
          "output_type": "execute_result",
          "data": {
            "text/html": [
              "<div>\n",
              "<style scoped>\n",
              "    .dataframe tbody tr th:only-of-type {\n",
              "        vertical-align: middle;\n",
              "    }\n",
              "\n",
              "    .dataframe tbody tr th {\n",
              "        vertical-align: top;\n",
              "    }\n",
              "\n",
              "    .dataframe thead th {\n",
              "        text-align: right;\n",
              "    }\n",
              "</style>\n",
              "<table border=\"1\" class=\"dataframe\">\n",
              "  <thead>\n",
              "    <tr style=\"text-align: right;\">\n",
              "      <th>col_0</th>\n",
              "      <th>0</th>\n",
              "      <th>1</th>\n",
              "    </tr>\n",
              "    <tr>\n",
              "      <th>row_0</th>\n",
              "      <th></th>\n",
              "      <th></th>\n",
              "    </tr>\n",
              "  </thead>\n",
              "  <tbody>\n",
              "    <tr>\n",
              "      <th>0</th>\n",
              "      <td>14267</td>\n",
              "      <td>182</td>\n",
              "    </tr>\n",
              "    <tr>\n",
              "      <th>1</th>\n",
              "      <td>490</td>\n",
              "      <td>1019</td>\n",
              "    </tr>\n",
              "  </tbody>\n",
              "</table>\n",
              "</div>"
            ],
            "text/plain": [
              "col_0      0     1\n",
              "row_0             \n",
              "0      14267   182\n",
              "1        490  1019"
            ]
          },
          "metadata": {
            "tags": []
          },
          "execution_count": 25
        }
      ]
    },
    {
      "cell_type": "code",
      "metadata": {
        "colab": {
          "base_uri": "https://localhost:8080/"
        },
        "id": "UlQIBJ3S-pwZ",
        "outputId": "09f78fcd-506d-491c-b99b-9b2ecbe19a58"
      },
      "source": [
        "np.mean(y_tgt_test == ((predicted_values>0.5)*1).reshape(-1))"
      ],
      "execution_count": null,
      "outputs": [
        {
          "output_type": "execute_result",
          "data": {
            "text/plain": [
              "0.9578894598320592"
            ]
          },
          "metadata": {
            "tags": []
          },
          "execution_count": 26
        }
      ]
    },
    {
      "cell_type": "code",
      "metadata": {
        "colab": {
          "base_uri": "https://localhost:8080/"
        },
        "id": "ZKk2z_-S2HqG",
        "outputId": "31d0861e-70bb-46ae-adaf-1dd4e52ea2d3"
      },
      "source": [
        "X_test_tokens.shape"
      ],
      "execution_count": null,
      "outputs": [
        {
          "output_type": "execute_result",
          "data": {
            "text/plain": [
              "(15958, 5000)"
            ]
          },
          "metadata": {
            "tags": []
          },
          "execution_count": 45
        }
      ]
    },
    {
      "cell_type": "code",
      "metadata": {
        "colab": {
          "base_uri": "https://localhost:8080/"
        },
        "id": "N3vo8up32Jfg",
        "outputId": "e3522986-77c7-45f6-9d3e-1506aa950c88"
      },
      "source": [
        "y_aux1_test.shape"
      ],
      "execution_count": null,
      "outputs": [
        {
          "output_type": "execute_result",
          "data": {
            "text/plain": [
              "(15957, 3)"
            ]
          },
          "metadata": {
            "tags": []
          },
          "execution_count": 47
        }
      ]
    },
    {
      "cell_type": "code",
      "metadata": {
        "colab": {
          "base_uri": "https://localhost:8080/"
        },
        "id": "qUn-qor12OHb",
        "outputId": "8bf8f4e6-518f-455c-960b-2cc5a6ca5be9"
      },
      "source": [
        "X_train_tokens.shape"
      ],
      "execution_count": null,
      "outputs": [
        {
          "output_type": "execute_result",
          "data": {
            "text/plain": [
              "(143613, 5000)"
            ]
          },
          "metadata": {
            "tags": []
          },
          "execution_count": 48
        }
      ]
    },
    {
      "cell_type": "code",
      "metadata": {
        "colab": {
          "base_uri": "https://localhost:8080/"
        },
        "id": "l6lz27QE2PLB",
        "outputId": "a43e5073-d1e7-43ac-e4c9-19821fac42ee"
      },
      "source": [
        "y_aux1_train.shape"
      ],
      "execution_count": null,
      "outputs": [
        {
          "output_type": "execute_result",
          "data": {
            "text/plain": [
              "(143614, 3)"
            ]
          },
          "metadata": {
            "tags": []
          },
          "execution_count": 50
        }
      ]
    },
    {
      "cell_type": "code",
      "metadata": {
        "colab": {
          "base_uri": "https://localhost:8080/"
        },
        "id": "g0wNY7rY1td8",
        "outputId": "b3248c1e-62c6-4060-9db8-fc2f1bb4129b"
      },
      "source": [
        "y_aux1_test"
      ],
      "execution_count": null,
      "outputs": [
        {
          "output_type": "execute_result",
          "data": {
            "text/plain": [
              "array([[0, 0, 0],\n",
              "       [0, 0, 0],\n",
              "       [0, 0, 0],\n",
              "       ...,\n",
              "       [0, 0, 0],\n",
              "       [0, 0, 0],\n",
              "       [0, 0, 0]], dtype=int64)"
            ]
          },
          "metadata": {
            "tags": []
          },
          "execution_count": 35
        }
      ]
    },
    {
      "cell_type": "code",
      "metadata": {
        "colab": {
          "base_uri": "https://localhost:8080/"
        },
        "id": "CNF0SC4p1enP",
        "outputId": "49019147-7f28-41c5-f4ec-c575f8218940"
      },
      "source": [
        "((predicted_values > 0.5)*1).shape"
      ],
      "execution_count": null,
      "outputs": [
        {
          "output_type": "execute_result",
          "data": {
            "text/plain": [
              "(15958, 3)"
            ]
          },
          "metadata": {
            "tags": []
          },
          "execution_count": 41
        }
      ]
    },
    {
      "cell_type": "code",
      "metadata": {
        "colab": {
          "base_uri": "https://localhost:8080/"
        },
        "id": "5qWbOy-m2DLv",
        "outputId": "b9ea541d-f644-4b6d-f04d-371c4c0f4796"
      },
      "source": [
        "y_aux1_test.shape"
      ],
      "execution_count": null,
      "outputs": [
        {
          "output_type": "execute_result",
          "data": {
            "text/plain": [
              "(15957, 3)"
            ]
          },
          "metadata": {
            "tags": []
          },
          "execution_count": 43
        }
      ]
    },
    {
      "cell_type": "code",
      "metadata": {
        "colab": {
          "base_uri": "https://localhost:8080/"
        },
        "id": "VAiQiZIl0-ka",
        "outputId": "b52e4178-c5e4-4b20-b33e-e83adf153873"
      },
      "source": [
        "extracted_features1"
      ],
      "execution_count": null,
      "outputs": [
        {
          "output_type": "execute_result",
          "data": {
            "text/plain": [
              "array([[0.35000652, 0.        , 0.        , ..., 0.        , 0.        ,\n",
              "        0.32276964],\n",
              "       [0.173515  , 0.        , 0.        , ..., 0.        , 0.        ,\n",
              "        0.35561523],\n",
              "       [0.26332697, 0.        , 0.        , ..., 0.        , 0.        ,\n",
              "        0.6739029 ],\n",
              "       ...,\n",
              "       [0.        , 0.01729007, 0.        , ..., 0.10691443, 0.01313869,\n",
              "        0.40789366],\n",
              "       [0.        , 0.        , 0.        , ..., 0.31632534, 0.30796963,\n",
              "        0.502854  ],\n",
              "       [0.        , 0.25563458, 0.        , ..., 0.05105225, 0.18806519,\n",
              "        0.7389372 ]], dtype=float32)"
            ]
          },
          "metadata": {
            "tags": []
          },
          "execution_count": 25
        }
      ]
    },
    {
      "cell_type": "code",
      "metadata": {
        "id": "YMbbbRvCyAbE"
      },
      "source": [
        "keras.backe"
      ],
      "execution_count": null,
      "outputs": []
    },
    {
      "cell_type": "code",
      "metadata": {
        "id": "V6qf-o3fyDsE"
      },
      "source": [
        "keras.backend.clear_session()"
      ],
      "execution_count": null,
      "outputs": []
    },
    {
      "cell_type": "code",
      "metadata": {
        "colab": {
          "base_uri": "https://localhost:8080/"
        },
        "id": "bw0vebCRofw9",
        "outputId": "5b0445a3-aacb-4c67-f23c-d02a6ebd5a3e"
      },
      "source": [
        "!nvidia-smi"
      ],
      "execution_count": null,
      "outputs": [
        {
          "output_type": "stream",
          "text": [
            "Sun May  9 20:19:16 2021       \n",
            "+-----------------------------------------------------------------------------+\n",
            "| NVIDIA-SMI 465.19.01    Driver Version: 460.32.03    CUDA Version: 11.2     |\n",
            "|-------------------------------+----------------------+----------------------+\n",
            "| GPU  Name        Persistence-M| Bus-Id        Disp.A | Volatile Uncorr. ECC |\n",
            "| Fan  Temp  Perf  Pwr:Usage/Cap|         Memory-Usage | GPU-Util  Compute M. |\n",
            "|                               |                      |               MIG M. |\n",
            "|===============================+======================+======================|\n",
            "|   0  Tesla P100-PCIE...  Off  | 00000000:00:04.0 Off |                    0 |\n",
            "| N/A   49C    P0    38W / 250W |    929MiB / 16280MiB |      0%      Default |\n",
            "|                               |                      |                  N/A |\n",
            "+-------------------------------+----------------------+----------------------+\n",
            "                                                                               \n",
            "+-----------------------------------------------------------------------------+\n",
            "| Processes:                                                                  |\n",
            "|  GPU   GI   CI        PID   Type   Process name                  GPU Memory |\n",
            "|        ID   ID                                                   Usage      |\n",
            "|=============================================================================|\n",
            "+-----------------------------------------------------------------------------+\n"
          ],
          "name": "stdout"
        }
      ]
    },
    {
      "cell_type": "code",
      "metadata": {
        "colab": {
          "base_uri": "https://localhost:8080/",
          "height": 681
        },
        "id": "H6in924CtKAp",
        "outputId": "cad610b3-2bf6-400f-8e28-aa92bcf1dd70"
      },
      "source": [
        "predicted_values = model_Vanilla.predict(X_test_tokens)"
      ],
      "execution_count": null,
      "outputs": [
        {
          "output_type": "error",
          "ename": "ValueError",
          "evalue": "ignored",
          "traceback": [
            "\u001b[0;31m---------------------------------------------------------------------------\u001b[0m",
            "\u001b[0;31mValueError\u001b[0m                                Traceback (most recent call last)",
            "\u001b[0;32m<ipython-input-16-6413e86fdc72>\u001b[0m in \u001b[0;36m<module>\u001b[0;34m()\u001b[0m\n\u001b[0;32m----> 1\u001b[0;31m \u001b[0mpredicted_values\u001b[0m \u001b[0;34m=\u001b[0m \u001b[0mmodel_transf1\u001b[0m\u001b[0;34m.\u001b[0m\u001b[0mpredict\u001b[0m\u001b[0;34m(\u001b[0m\u001b[0mX_test_tokens\u001b[0m\u001b[0;34m)\u001b[0m\u001b[0;34m\u001b[0m\u001b[0;34m\u001b[0m\u001b[0m\n\u001b[0m",
            "\u001b[0;32m/usr/local/lib/python3.7/dist-packages/tensorflow/python/keras/engine/training.py\u001b[0m in \u001b[0;36mpredict\u001b[0;34m(self, x, batch_size, verbose, steps, callbacks, max_queue_size, workers, use_multiprocessing)\u001b[0m\n\u001b[1;32m   1627\u001b[0m           \u001b[0;32mfor\u001b[0m \u001b[0mstep\u001b[0m \u001b[0;32min\u001b[0m \u001b[0mdata_handler\u001b[0m\u001b[0;34m.\u001b[0m\u001b[0msteps\u001b[0m\u001b[0;34m(\u001b[0m\u001b[0;34m)\u001b[0m\u001b[0;34m:\u001b[0m\u001b[0;34m\u001b[0m\u001b[0;34m\u001b[0m\u001b[0m\n\u001b[1;32m   1628\u001b[0m             \u001b[0mcallbacks\u001b[0m\u001b[0;34m.\u001b[0m\u001b[0mon_predict_batch_begin\u001b[0m\u001b[0;34m(\u001b[0m\u001b[0mstep\u001b[0m\u001b[0;34m)\u001b[0m\u001b[0;34m\u001b[0m\u001b[0;34m\u001b[0m\u001b[0m\n\u001b[0;32m-> 1629\u001b[0;31m             \u001b[0mtmp_batch_outputs\u001b[0m \u001b[0;34m=\u001b[0m \u001b[0mself\u001b[0m\u001b[0;34m.\u001b[0m\u001b[0mpredict_function\u001b[0m\u001b[0;34m(\u001b[0m\u001b[0miterator\u001b[0m\u001b[0;34m)\u001b[0m\u001b[0;34m\u001b[0m\u001b[0;34m\u001b[0m\u001b[0m\n\u001b[0m\u001b[1;32m   1630\u001b[0m             \u001b[0;32mif\u001b[0m \u001b[0mdata_handler\u001b[0m\u001b[0;34m.\u001b[0m\u001b[0mshould_sync\u001b[0m\u001b[0;34m:\u001b[0m\u001b[0;34m\u001b[0m\u001b[0;34m\u001b[0m\u001b[0m\n\u001b[1;32m   1631\u001b[0m               \u001b[0mcontext\u001b[0m\u001b[0;34m.\u001b[0m\u001b[0masync_wait\u001b[0m\u001b[0;34m(\u001b[0m\u001b[0;34m)\u001b[0m\u001b[0;34m\u001b[0m\u001b[0;34m\u001b[0m\u001b[0m\n",
            "\u001b[0;32m/usr/local/lib/python3.7/dist-packages/tensorflow/python/eager/def_function.py\u001b[0m in \u001b[0;36m__call__\u001b[0;34m(self, *args, **kwds)\u001b[0m\n\u001b[1;32m    826\u001b[0m     \u001b[0mtracing_count\u001b[0m \u001b[0;34m=\u001b[0m \u001b[0mself\u001b[0m\u001b[0;34m.\u001b[0m\u001b[0mexperimental_get_tracing_count\u001b[0m\u001b[0;34m(\u001b[0m\u001b[0;34m)\u001b[0m\u001b[0;34m\u001b[0m\u001b[0;34m\u001b[0m\u001b[0m\n\u001b[1;32m    827\u001b[0m     \u001b[0;32mwith\u001b[0m \u001b[0mtrace\u001b[0m\u001b[0;34m.\u001b[0m\u001b[0mTrace\u001b[0m\u001b[0;34m(\u001b[0m\u001b[0mself\u001b[0m\u001b[0;34m.\u001b[0m\u001b[0m_name\u001b[0m\u001b[0;34m)\u001b[0m \u001b[0;32mas\u001b[0m \u001b[0mtm\u001b[0m\u001b[0;34m:\u001b[0m\u001b[0;34m\u001b[0m\u001b[0;34m\u001b[0m\u001b[0m\n\u001b[0;32m--> 828\u001b[0;31m       \u001b[0mresult\u001b[0m \u001b[0;34m=\u001b[0m \u001b[0mself\u001b[0m\u001b[0;34m.\u001b[0m\u001b[0m_call\u001b[0m\u001b[0;34m(\u001b[0m\u001b[0;34m*\u001b[0m\u001b[0margs\u001b[0m\u001b[0;34m,\u001b[0m \u001b[0;34m**\u001b[0m\u001b[0mkwds\u001b[0m\u001b[0;34m)\u001b[0m\u001b[0;34m\u001b[0m\u001b[0;34m\u001b[0m\u001b[0m\n\u001b[0m\u001b[1;32m    829\u001b[0m       \u001b[0mcompiler\u001b[0m \u001b[0;34m=\u001b[0m \u001b[0;34m\"xla\"\u001b[0m \u001b[0;32mif\u001b[0m \u001b[0mself\u001b[0m\u001b[0;34m.\u001b[0m\u001b[0m_experimental_compile\u001b[0m \u001b[0;32melse\u001b[0m \u001b[0;34m\"nonXla\"\u001b[0m\u001b[0;34m\u001b[0m\u001b[0;34m\u001b[0m\u001b[0m\n\u001b[1;32m    830\u001b[0m       \u001b[0mnew_tracing_count\u001b[0m \u001b[0;34m=\u001b[0m \u001b[0mself\u001b[0m\u001b[0;34m.\u001b[0m\u001b[0mexperimental_get_tracing_count\u001b[0m\u001b[0;34m(\u001b[0m\u001b[0;34m)\u001b[0m\u001b[0;34m\u001b[0m\u001b[0;34m\u001b[0m\u001b[0m\n",
            "\u001b[0;32m/usr/local/lib/python3.7/dist-packages/tensorflow/python/eager/def_function.py\u001b[0m in \u001b[0;36m_call\u001b[0;34m(self, *args, **kwds)\u001b[0m\n\u001b[1;32m    869\u001b[0m       \u001b[0;31m# This is the first call of __call__, so we have to initialize.\u001b[0m\u001b[0;34m\u001b[0m\u001b[0;34m\u001b[0m\u001b[0;34m\u001b[0m\u001b[0m\n\u001b[1;32m    870\u001b[0m       \u001b[0minitializers\u001b[0m \u001b[0;34m=\u001b[0m \u001b[0;34m[\u001b[0m\u001b[0;34m]\u001b[0m\u001b[0;34m\u001b[0m\u001b[0;34m\u001b[0m\u001b[0m\n\u001b[0;32m--> 871\u001b[0;31m       \u001b[0mself\u001b[0m\u001b[0;34m.\u001b[0m\u001b[0m_initialize\u001b[0m\u001b[0;34m(\u001b[0m\u001b[0margs\u001b[0m\u001b[0;34m,\u001b[0m \u001b[0mkwds\u001b[0m\u001b[0;34m,\u001b[0m \u001b[0madd_initializers_to\u001b[0m\u001b[0;34m=\u001b[0m\u001b[0minitializers\u001b[0m\u001b[0;34m)\u001b[0m\u001b[0;34m\u001b[0m\u001b[0;34m\u001b[0m\u001b[0m\n\u001b[0m\u001b[1;32m    872\u001b[0m     \u001b[0;32mfinally\u001b[0m\u001b[0;34m:\u001b[0m\u001b[0;34m\u001b[0m\u001b[0;34m\u001b[0m\u001b[0m\n\u001b[1;32m    873\u001b[0m       \u001b[0;31m# At this point we know that the initialization is complete (or less\u001b[0m\u001b[0;34m\u001b[0m\u001b[0;34m\u001b[0m\u001b[0;34m\u001b[0m\u001b[0m\n",
            "\u001b[0;32m/usr/local/lib/python3.7/dist-packages/tensorflow/python/eager/def_function.py\u001b[0m in \u001b[0;36m_initialize\u001b[0;34m(self, args, kwds, add_initializers_to)\u001b[0m\n\u001b[1;32m    724\u001b[0m     self._concrete_stateful_fn = (\n\u001b[1;32m    725\u001b[0m         self._stateful_fn._get_concrete_function_internal_garbage_collected(  # pylint: disable=protected-access\n\u001b[0;32m--> 726\u001b[0;31m             *args, **kwds))\n\u001b[0m\u001b[1;32m    727\u001b[0m \u001b[0;34m\u001b[0m\u001b[0m\n\u001b[1;32m    728\u001b[0m     \u001b[0;32mdef\u001b[0m \u001b[0minvalid_creator_scope\u001b[0m\u001b[0;34m(\u001b[0m\u001b[0;34m*\u001b[0m\u001b[0munused_args\u001b[0m\u001b[0;34m,\u001b[0m \u001b[0;34m**\u001b[0m\u001b[0munused_kwds\u001b[0m\u001b[0;34m)\u001b[0m\u001b[0;34m:\u001b[0m\u001b[0;34m\u001b[0m\u001b[0;34m\u001b[0m\u001b[0m\n",
            "\u001b[0;32m/usr/local/lib/python3.7/dist-packages/tensorflow/python/eager/function.py\u001b[0m in \u001b[0;36m_get_concrete_function_internal_garbage_collected\u001b[0;34m(self, *args, **kwargs)\u001b[0m\n\u001b[1;32m   2967\u001b[0m       \u001b[0margs\u001b[0m\u001b[0;34m,\u001b[0m \u001b[0mkwargs\u001b[0m \u001b[0;34m=\u001b[0m \u001b[0;32mNone\u001b[0m\u001b[0;34m,\u001b[0m \u001b[0;32mNone\u001b[0m\u001b[0;34m\u001b[0m\u001b[0;34m\u001b[0m\u001b[0m\n\u001b[1;32m   2968\u001b[0m     \u001b[0;32mwith\u001b[0m \u001b[0mself\u001b[0m\u001b[0;34m.\u001b[0m\u001b[0m_lock\u001b[0m\u001b[0;34m:\u001b[0m\u001b[0;34m\u001b[0m\u001b[0;34m\u001b[0m\u001b[0m\n\u001b[0;32m-> 2969\u001b[0;31m       \u001b[0mgraph_function\u001b[0m\u001b[0;34m,\u001b[0m \u001b[0m_\u001b[0m \u001b[0;34m=\u001b[0m \u001b[0mself\u001b[0m\u001b[0;34m.\u001b[0m\u001b[0m_maybe_define_function\u001b[0m\u001b[0;34m(\u001b[0m\u001b[0margs\u001b[0m\u001b[0;34m,\u001b[0m \u001b[0mkwargs\u001b[0m\u001b[0;34m)\u001b[0m\u001b[0;34m\u001b[0m\u001b[0;34m\u001b[0m\u001b[0m\n\u001b[0m\u001b[1;32m   2970\u001b[0m     \u001b[0;32mreturn\u001b[0m \u001b[0mgraph_function\u001b[0m\u001b[0;34m\u001b[0m\u001b[0;34m\u001b[0m\u001b[0m\n\u001b[1;32m   2971\u001b[0m \u001b[0;34m\u001b[0m\u001b[0m\n",
            "\u001b[0;32m/usr/local/lib/python3.7/dist-packages/tensorflow/python/eager/function.py\u001b[0m in \u001b[0;36m_maybe_define_function\u001b[0;34m(self, args, kwargs)\u001b[0m\n\u001b[1;32m   3359\u001b[0m \u001b[0;34m\u001b[0m\u001b[0m\n\u001b[1;32m   3360\u001b[0m           \u001b[0mself\u001b[0m\u001b[0;34m.\u001b[0m\u001b[0m_function_cache\u001b[0m\u001b[0;34m.\u001b[0m\u001b[0mmissed\u001b[0m\u001b[0;34m.\u001b[0m\u001b[0madd\u001b[0m\u001b[0;34m(\u001b[0m\u001b[0mcall_context_key\u001b[0m\u001b[0;34m)\u001b[0m\u001b[0;34m\u001b[0m\u001b[0;34m\u001b[0m\u001b[0m\n\u001b[0;32m-> 3361\u001b[0;31m           \u001b[0mgraph_function\u001b[0m \u001b[0;34m=\u001b[0m \u001b[0mself\u001b[0m\u001b[0;34m.\u001b[0m\u001b[0m_create_graph_function\u001b[0m\u001b[0;34m(\u001b[0m\u001b[0margs\u001b[0m\u001b[0;34m,\u001b[0m \u001b[0mkwargs\u001b[0m\u001b[0;34m)\u001b[0m\u001b[0;34m\u001b[0m\u001b[0;34m\u001b[0m\u001b[0m\n\u001b[0m\u001b[1;32m   3362\u001b[0m           \u001b[0mself\u001b[0m\u001b[0;34m.\u001b[0m\u001b[0m_function_cache\u001b[0m\u001b[0;34m.\u001b[0m\u001b[0mprimary\u001b[0m\u001b[0;34m[\u001b[0m\u001b[0mcache_key\u001b[0m\u001b[0;34m]\u001b[0m \u001b[0;34m=\u001b[0m \u001b[0mgraph_function\u001b[0m\u001b[0;34m\u001b[0m\u001b[0;34m\u001b[0m\u001b[0m\n\u001b[1;32m   3363\u001b[0m \u001b[0;34m\u001b[0m\u001b[0m\n",
            "\u001b[0;32m/usr/local/lib/python3.7/dist-packages/tensorflow/python/eager/function.py\u001b[0m in \u001b[0;36m_create_graph_function\u001b[0;34m(self, args, kwargs, override_flat_arg_shapes)\u001b[0m\n\u001b[1;32m   3204\u001b[0m             \u001b[0marg_names\u001b[0m\u001b[0;34m=\u001b[0m\u001b[0marg_names\u001b[0m\u001b[0;34m,\u001b[0m\u001b[0;34m\u001b[0m\u001b[0;34m\u001b[0m\u001b[0m\n\u001b[1;32m   3205\u001b[0m             \u001b[0moverride_flat_arg_shapes\u001b[0m\u001b[0;34m=\u001b[0m\u001b[0moverride_flat_arg_shapes\u001b[0m\u001b[0;34m,\u001b[0m\u001b[0;34m\u001b[0m\u001b[0;34m\u001b[0m\u001b[0m\n\u001b[0;32m-> 3206\u001b[0;31m             capture_by_value=self._capture_by_value),\n\u001b[0m\u001b[1;32m   3207\u001b[0m         \u001b[0mself\u001b[0m\u001b[0;34m.\u001b[0m\u001b[0m_function_attributes\u001b[0m\u001b[0;34m,\u001b[0m\u001b[0;34m\u001b[0m\u001b[0;34m\u001b[0m\u001b[0m\n\u001b[1;32m   3208\u001b[0m         \u001b[0mfunction_spec\u001b[0m\u001b[0;34m=\u001b[0m\u001b[0mself\u001b[0m\u001b[0;34m.\u001b[0m\u001b[0mfunction_spec\u001b[0m\u001b[0;34m,\u001b[0m\u001b[0;34m\u001b[0m\u001b[0;34m\u001b[0m\u001b[0m\n",
            "\u001b[0;32m/usr/local/lib/python3.7/dist-packages/tensorflow/python/framework/func_graph.py\u001b[0m in \u001b[0;36mfunc_graph_from_py_func\u001b[0;34m(name, python_func, args, kwargs, signature, func_graph, autograph, autograph_options, add_control_dependencies, arg_names, op_return_value, collections, capture_by_value, override_flat_arg_shapes)\u001b[0m\n\u001b[1;32m    988\u001b[0m         \u001b[0m_\u001b[0m\u001b[0;34m,\u001b[0m \u001b[0moriginal_func\u001b[0m \u001b[0;34m=\u001b[0m \u001b[0mtf_decorator\u001b[0m\u001b[0;34m.\u001b[0m\u001b[0munwrap\u001b[0m\u001b[0;34m(\u001b[0m\u001b[0mpython_func\u001b[0m\u001b[0;34m)\u001b[0m\u001b[0;34m\u001b[0m\u001b[0;34m\u001b[0m\u001b[0m\n\u001b[1;32m    989\u001b[0m \u001b[0;34m\u001b[0m\u001b[0m\n\u001b[0;32m--> 990\u001b[0;31m       \u001b[0mfunc_outputs\u001b[0m \u001b[0;34m=\u001b[0m \u001b[0mpython_func\u001b[0m\u001b[0;34m(\u001b[0m\u001b[0;34m*\u001b[0m\u001b[0mfunc_args\u001b[0m\u001b[0;34m,\u001b[0m \u001b[0;34m**\u001b[0m\u001b[0mfunc_kwargs\u001b[0m\u001b[0;34m)\u001b[0m\u001b[0;34m\u001b[0m\u001b[0;34m\u001b[0m\u001b[0m\n\u001b[0m\u001b[1;32m    991\u001b[0m \u001b[0;34m\u001b[0m\u001b[0m\n\u001b[1;32m    992\u001b[0m       \u001b[0;31m# invariant: `func_outputs` contains only Tensors, CompositeTensors,\u001b[0m\u001b[0;34m\u001b[0m\u001b[0;34m\u001b[0m\u001b[0;34m\u001b[0m\u001b[0m\n",
            "\u001b[0;32m/usr/local/lib/python3.7/dist-packages/tensorflow/python/eager/def_function.py\u001b[0m in \u001b[0;36mwrapped_fn\u001b[0;34m(*args, **kwds)\u001b[0m\n\u001b[1;32m    632\u001b[0m             \u001b[0mxla_context\u001b[0m\u001b[0;34m.\u001b[0m\u001b[0mExit\u001b[0m\u001b[0;34m(\u001b[0m\u001b[0;34m)\u001b[0m\u001b[0;34m\u001b[0m\u001b[0;34m\u001b[0m\u001b[0m\n\u001b[1;32m    633\u001b[0m         \u001b[0;32melse\u001b[0m\u001b[0;34m:\u001b[0m\u001b[0;34m\u001b[0m\u001b[0;34m\u001b[0m\u001b[0m\n\u001b[0;32m--> 634\u001b[0;31m           \u001b[0mout\u001b[0m \u001b[0;34m=\u001b[0m \u001b[0mweak_wrapped_fn\u001b[0m\u001b[0;34m(\u001b[0m\u001b[0;34m)\u001b[0m\u001b[0;34m.\u001b[0m\u001b[0m__wrapped__\u001b[0m\u001b[0;34m(\u001b[0m\u001b[0;34m*\u001b[0m\u001b[0margs\u001b[0m\u001b[0;34m,\u001b[0m \u001b[0;34m**\u001b[0m\u001b[0mkwds\u001b[0m\u001b[0;34m)\u001b[0m\u001b[0;34m\u001b[0m\u001b[0;34m\u001b[0m\u001b[0m\n\u001b[0m\u001b[1;32m    635\u001b[0m         \u001b[0;32mreturn\u001b[0m \u001b[0mout\u001b[0m\u001b[0;34m\u001b[0m\u001b[0;34m\u001b[0m\u001b[0m\n\u001b[1;32m    636\u001b[0m \u001b[0;34m\u001b[0m\u001b[0m\n",
            "\u001b[0;32m/usr/local/lib/python3.7/dist-packages/tensorflow/python/framework/func_graph.py\u001b[0m in \u001b[0;36mwrapper\u001b[0;34m(*args, **kwargs)\u001b[0m\n\u001b[1;32m    975\u001b[0m           \u001b[0;32mexcept\u001b[0m \u001b[0mException\u001b[0m \u001b[0;32mas\u001b[0m \u001b[0me\u001b[0m\u001b[0;34m:\u001b[0m  \u001b[0;31m# pylint:disable=broad-except\u001b[0m\u001b[0;34m\u001b[0m\u001b[0;34m\u001b[0m\u001b[0m\n\u001b[1;32m    976\u001b[0m             \u001b[0;32mif\u001b[0m \u001b[0mhasattr\u001b[0m\u001b[0;34m(\u001b[0m\u001b[0me\u001b[0m\u001b[0;34m,\u001b[0m \u001b[0;34m\"ag_error_metadata\"\u001b[0m\u001b[0;34m)\u001b[0m\u001b[0;34m:\u001b[0m\u001b[0;34m\u001b[0m\u001b[0;34m\u001b[0m\u001b[0m\n\u001b[0;32m--> 977\u001b[0;31m               \u001b[0;32mraise\u001b[0m \u001b[0me\u001b[0m\u001b[0;34m.\u001b[0m\u001b[0mag_error_metadata\u001b[0m\u001b[0;34m.\u001b[0m\u001b[0mto_exception\u001b[0m\u001b[0;34m(\u001b[0m\u001b[0me\u001b[0m\u001b[0;34m)\u001b[0m\u001b[0;34m\u001b[0m\u001b[0;34m\u001b[0m\u001b[0m\n\u001b[0m\u001b[1;32m    978\u001b[0m             \u001b[0;32melse\u001b[0m\u001b[0;34m:\u001b[0m\u001b[0;34m\u001b[0m\u001b[0;34m\u001b[0m\u001b[0m\n\u001b[1;32m    979\u001b[0m               \u001b[0;32mraise\u001b[0m\u001b[0;34m\u001b[0m\u001b[0;34m\u001b[0m\u001b[0m\n",
            "\u001b[0;31mValueError\u001b[0m: in user code:\n\n    /usr/local/lib/python3.7/dist-packages/tensorflow/python/keras/engine/training.py:1478 predict_function  *\n        return step_function(self, iterator)\n    /usr/local/lib/python3.7/dist-packages/tensorflow/python/keras/engine/training.py:1468 step_function  **\n        outputs = model.distribute_strategy.run(run_step, args=(data,))\n    /usr/local/lib/python3.7/dist-packages/tensorflow/python/distribute/distribute_lib.py:1259 run\n        return self._extended.call_for_each_replica(fn, args=args, kwargs=kwargs)\n    /usr/local/lib/python3.7/dist-packages/tensorflow/python/distribute/distribute_lib.py:2730 call_for_each_replica\n        return self._call_for_each_replica(fn, args, kwargs)\n    /usr/local/lib/python3.7/dist-packages/tensorflow/python/distribute/distribute_lib.py:3417 _call_for_each_replica\n        return fn(*args, **kwargs)\n    /usr/local/lib/python3.7/dist-packages/tensorflow/python/keras/engine/training.py:1461 run_step  **\n        outputs = model.predict_step(data)\n    /usr/local/lib/python3.7/dist-packages/tensorflow/python/keras/engine/training.py:1434 predict_step\n        return self(x, training=False)\n    /usr/local/lib/python3.7/dist-packages/tensorflow/python/keras/engine/base_layer.py:998 __call__\n        input_spec.assert_input_compatibility(self.input_spec, inputs, self.name)\n    /usr/local/lib/python3.7/dist-packages/tensorflow/python/keras/engine/input_spec.py:259 assert_input_compatibility\n        ' but received input with shape ' + display_shape(x.shape))\n\n    ValueError: Input 0 of layer sequential_2 is incompatible with the layer: expected axis -1 of input shape to have value 5256 but received input with shape (None, 5000)\n"
          ]
        }
      ]
    },
    {
      "cell_type": "code",
      "metadata": {
        "colab": {
          "base_uri": "https://localhost:8080/"
        },
        "id": "k_wLvhVivdQ5",
        "outputId": "5094d6ab-fc62-4600-cac7-45f9ec1bd1d6"
      },
      "source": [
        "np.mean(((predicted_values > 0.5)*1).reshape(-1) == y_tgt_test)"
      ],
      "execution_count": null,
      "outputs": [
        {
          "output_type": "execute_result",
          "data": {
            "text/plain": [
              "0.9791327233989222"
            ]
          },
          "metadata": {
            "tags": []
          },
          "execution_count": 68
        }
      ]
    },
    {
      "cell_type": "code",
      "metadata": {
        "colab": {
          "base_uri": "https://localhost:8080/"
        },
        "id": "duHLxR8hvtvx",
        "outputId": "4a0bdd98-5e6a-4ef7-b979-48a0ba297cf3"
      },
      "source": [
        "y_aux1_test[21:40]"
      ],
      "execution_count": null,
      "outputs": [
        {
          "output_type": "execute_result",
          "data": {
            "text/plain": [
              "array([[0, 0, 0],\n",
              "       [0, 0, 0],\n",
              "       [1, 0, 0],\n",
              "       [0, 0, 0],\n",
              "       [0, 0, 0],\n",
              "       [0, 0, 0],\n",
              "       [0, 0, 0],\n",
              "       [0, 0, 0],\n",
              "       [1, 1, 1],\n",
              "       [1, 1, 1],\n",
              "       [0, 0, 0],\n",
              "       [0, 0, 0],\n",
              "       [0, 0, 0],\n",
              "       [0, 0, 0],\n",
              "       [0, 0, 0],\n",
              "       [0, 0, 0],\n",
              "       [0, 0, 0],\n",
              "       [0, 0, 0],\n",
              "       [0, 0, 0]], dtype=int64)"
            ]
          },
          "metadata": {
            "tags": []
          },
          "execution_count": 40
        }
      ]
    },
    {
      "cell_type": "code",
      "metadata": {
        "id": "aCSCKTzHvqhl"
      },
      "source": [
        ""
      ],
      "execution_count": null,
      "outputs": []
    },
    {
      "cell_type": "code",
      "metadata": {
        "colab": {
          "base_uri": "https://localhost:8080/",
          "height": 142
        },
        "id": "F7Z4uGkut3wA",
        "outputId": "026c01e4-d147-434b-dd54-73b02847cef9"
      },
      "source": [
        "pd.crosstab(y_tgt_test, \n",
        "            ((predicted_values>0.5)*1).reshape(-1))"
      ],
      "execution_count": null,
      "outputs": [
        {
          "output_type": "execute_result",
          "data": {
            "text/html": [
              "<div>\n",
              "<style scoped>\n",
              "    .dataframe tbody tr th:only-of-type {\n",
              "        vertical-align: middle;\n",
              "    }\n",
              "\n",
              "    .dataframe tbody tr th {\n",
              "        vertical-align: top;\n",
              "    }\n",
              "\n",
              "    .dataframe thead th {\n",
              "        text-align: right;\n",
              "    }\n",
              "</style>\n",
              "<table border=\"1\" class=\"dataframe\">\n",
              "  <thead>\n",
              "    <tr style=\"text-align: right;\">\n",
              "      <th>col_0</th>\n",
              "      <th>0</th>\n",
              "      <th>1</th>\n",
              "    </tr>\n",
              "    <tr>\n",
              "      <th>row_0</th>\n",
              "      <th></th>\n",
              "      <th></th>\n",
              "    </tr>\n",
              "  </thead>\n",
              "  <tbody>\n",
              "    <tr>\n",
              "      <th>0</th>\n",
              "      <td>15063</td>\n",
              "      <td>89</td>\n",
              "    </tr>\n",
              "    <tr>\n",
              "      <th>1</th>\n",
              "      <td>244</td>\n",
              "      <td>562</td>\n",
              "    </tr>\n",
              "  </tbody>\n",
              "</table>\n",
              "</div>"
            ],
            "text/plain": [
              "col_0      0    1\n",
              "row_0            \n",
              "0      15063   89\n",
              "1        244  562"
            ]
          },
          "metadata": {
            "tags": []
          },
          "execution_count": 66
        }
      ]
    },
    {
      "cell_type": "code",
      "metadata": {
        "colab": {
          "base_uri": "https://localhost:8080/"
        },
        "id": "ULwRa9fPuT8Q",
        "outputId": "08c928c8-a562-4997-bd57-2a97f1b569ae"
      },
      "source": [
        "(15063+562)/(14213+1038+177+530)"
      ],
      "execution_count": null,
      "outputs": [
        {
          "output_type": "execute_result",
          "data": {
            "text/plain": [
              "0.9791327233989222"
            ]
          },
          "metadata": {
            "tags": []
          },
          "execution_count": 67
        }
      ]
    },
    {
      "cell_type": "code",
      "metadata": {
        "id": "rSEAFsu-uTP7"
      },
      "source": [
        "(14993+491)/(14213+1038+177+530)"
      ],
      "execution_count": null,
      "outputs": []
    },
    {
      "cell_type": "code",
      "metadata": {
        "colab": {
          "base_uri": "https://localhost:8080/"
        },
        "id": "MOeD4gGWuhbL",
        "outputId": "bc4528e6-7c5f-4d30-83f8-c08be8a73086"
      },
      "source": [
        ""
      ],
      "execution_count": null,
      "outputs": [
        {
          "output_type": "execute_result",
          "data": {
            "text/plain": [
              "array([0, 0, 0, ..., 0, 0, 0])"
            ]
          },
          "metadata": {
            "tags": []
          },
          "execution_count": 24
        }
      ]
    },
    {
      "cell_type": "code",
      "metadata": {
        "colab": {
          "base_uri": "https://localhost:8080/"
        },
        "id": "f74D0zBQucoQ",
        "outputId": "7cd0f0dc-fc4f-4edd-8d12-e272726db31b"
      },
      "source": [
        "np.mean(((predicted_values > 0.5)*1).reshape(-1) == y_tgt_test)"
      ],
      "execution_count": null,
      "outputs": [
        {
          "output_type": "execute_result",
          "data": {
            "text/plain": [
              "0.9562601829803233"
            ]
          },
          "metadata": {
            "tags": []
          },
          "execution_count": 26
        }
      ]
    },
    {
      "cell_type": "code",
      "metadata": {
        "colab": {
          "base_uri": "https://localhost:8080/"
        },
        "id": "8vzNUS0Rt0zW",
        "outputId": "14e762fc-ce3e-406c-bcfd-2dd1e7be9e08"
      },
      "source": [
        "np.mean((predicted_values > 0.5)*1 == y_tgt_test)"
      ],
      "execution_count": null,
      "outputs": [
        {
          "output_type": "execute_result",
          "data": {
            "text/plain": [
              "0.8443108846271029"
            ]
          },
          "metadata": {
            "tags": []
          },
          "execution_count": 16
        }
      ]
    },
    {
      "cell_type": "code",
      "metadata": {
        "colab": {
          "base_uri": "https://localhost:8080/"
        },
        "id": "oSNd2r7MGJCg",
        "outputId": "283b5a83-9560-41b1-b594-d41cac376199"
      },
      "source": [
        "import keras\n",
        "model_Vanilla = keras.models.load_model('/content/drive/MyDrive/Transfer_learning/Toxic/model_Vanilla_0', compile=False)\n",
        "predicted_values = model_Vanilla.predict(X_test_tokens)\n",
        "np.mean(((predicted_values > 0.5)*1).reshape(-1) == y_tgt_test)"
      ],
      "execution_count": null,
      "outputs": [
        {
          "output_type": "execute_result",
          "data": {
            "text/plain": [
              "0.9578894598320592"
            ]
          },
          "metadata": {
            "tags": []
          },
          "execution_count": 29
        }
      ]
    },
    {
      "cell_type": "code",
      "metadata": {
        "id": "ikPM1PlDmPQ8"
      },
      "source": [
        "import keras\n",
        "model_Aux_ce2 = keras.models.load_model('/content/drive/MyDrive/Transfer_learning/Toxic/model_Aux_ce2_1', compile=False)"
      ],
      "execution_count": null,
      "outputs": []
    },
    {
      "cell_type": "code",
      "metadata": {
        "colab": {
          "base_uri": "https://localhost:8080/"
        },
        "id": "WWmUHB2chKNr",
        "outputId": "b3b9e67d-ab50-4da0-ccbf-08fde16ca745"
      },
      "source": [
        "model_Aux2.get_layer(index = -2).get_weights()[1]"
      ],
      "execution_count": null,
      "outputs": [
        {
          "output_type": "execute_result",
          "data": {
            "text/plain": [
              "(256,)"
            ]
          },
          "metadata": {
            "tags": []
          },
          "execution_count": 21
        }
      ]
    },
    {
      "cell_type": "code",
      "metadata": {
        "colab": {
          "base_uri": "https://localhost:8080/",
          "height": 297
        },
        "id": "LoHsoMD1qPlL",
        "outputId": "b907baef-ad07-49ee-cfd6-c81ba6fee644"
      },
      "source": [
        "pd.DataFrame(X_train_tokens[:,0:5]).describe()"
      ],
      "execution_count": null,
      "outputs": [
        {
          "output_type": "execute_result",
          "data": {
            "text/html": [
              "<div>\n",
              "<style scoped>\n",
              "    .dataframe tbody tr th:only-of-type {\n",
              "        vertical-align: middle;\n",
              "    }\n",
              "\n",
              "    .dataframe tbody tr th {\n",
              "        vertical-align: top;\n",
              "    }\n",
              "\n",
              "    .dataframe thead th {\n",
              "        text-align: right;\n",
              "    }\n",
              "</style>\n",
              "<table border=\"1\" class=\"dataframe\">\n",
              "  <thead>\n",
              "    <tr style=\"text-align: right;\">\n",
              "      <th></th>\n",
              "      <th>0</th>\n",
              "      <th>1</th>\n",
              "      <th>2</th>\n",
              "      <th>3</th>\n",
              "      <th>4</th>\n",
              "    </tr>\n",
              "  </thead>\n",
              "  <tbody>\n",
              "    <tr>\n",
              "      <th>count</th>\n",
              "      <td>143613.0</td>\n",
              "      <td>143613.000000</td>\n",
              "      <td>143613.000000</td>\n",
              "      <td>143613.000000</td>\n",
              "      <td>143613.000000</td>\n",
              "    </tr>\n",
              "    <tr>\n",
              "      <th>mean</th>\n",
              "      <td>0.0</td>\n",
              "      <td>1.246411</td>\n",
              "      <td>1.044594</td>\n",
              "      <td>0.916370</td>\n",
              "      <td>0.917893</td>\n",
              "    </tr>\n",
              "    <tr>\n",
              "      <th>std</th>\n",
              "      <td>0.0</td>\n",
              "      <td>1.112982</td>\n",
              "      <td>1.050798</td>\n",
              "      <td>1.129044</td>\n",
              "      <td>1.081726</td>\n",
              "    </tr>\n",
              "    <tr>\n",
              "      <th>min</th>\n",
              "      <td>0.0</td>\n",
              "      <td>0.000000</td>\n",
              "      <td>0.000000</td>\n",
              "      <td>0.000000</td>\n",
              "      <td>0.000000</td>\n",
              "    </tr>\n",
              "    <tr>\n",
              "      <th>25%</th>\n",
              "      <td>0.0</td>\n",
              "      <td>0.000000</td>\n",
              "      <td>0.000000</td>\n",
              "      <td>0.000000</td>\n",
              "      <td>0.000000</td>\n",
              "    </tr>\n",
              "    <tr>\n",
              "      <th>50%</th>\n",
              "      <td>0.0</td>\n",
              "      <td>0.913119</td>\n",
              "      <td>0.988007</td>\n",
              "      <td>0.000000</td>\n",
              "      <td>1.091583</td>\n",
              "    </tr>\n",
              "    <tr>\n",
              "      <th>75%</th>\n",
              "      <td>0.0</td>\n",
              "      <td>2.178971</td>\n",
              "      <td>1.672841</td>\n",
              "      <td>1.905578</td>\n",
              "      <td>1.848210</td>\n",
              "    </tr>\n",
              "    <tr>\n",
              "      <th>max</th>\n",
              "      <td>0.0</td>\n",
              "      <td>6.493616</td>\n",
              "      <td>6.339151</td>\n",
              "      <td>7.284314</td>\n",
              "      <td>7.060423</td>\n",
              "    </tr>\n",
              "  </tbody>\n",
              "</table>\n",
              "</div>"
            ],
            "text/plain": [
              "              0              1              2              3              4\n",
              "count  143613.0  143613.000000  143613.000000  143613.000000  143613.000000\n",
              "mean        0.0       1.246411       1.044594       0.916370       0.917893\n",
              "std         0.0       1.112982       1.050798       1.129044       1.081726\n",
              "min         0.0       0.000000       0.000000       0.000000       0.000000\n",
              "25%         0.0       0.000000       0.000000       0.000000       0.000000\n",
              "50%         0.0       0.913119       0.988007       0.000000       1.091583\n",
              "75%         0.0       2.178971       1.672841       1.905578       1.848210\n",
              "max         0.0       6.493616       6.339151       7.284314       7.060423"
            ]
          },
          "metadata": {
            "tags": []
          },
          "execution_count": 91
        }
      ]
    },
    {
      "cell_type": "code",
      "metadata": {
        "id": "9mzNGBFH1qX5"
      },
      "source": [
        ""
      ],
      "execution_count": null,
      "outputs": []
    },
    {
      "cell_type": "code",
      "metadata": {
        "colab": {
          "base_uri": "https://localhost:8080/"
        },
        "id": "tWM46I_AjTZW",
        "outputId": "79a8d058-080a-4efc-a7a2-40b6be269d0c"
      },
      "source": [
        "extraction1 = Model(inputs=model_Aux1.inputs, outputs=model_Aux1.layers[-2].output)\n",
        "extracted_features = extraction1.predict(X_test_tokens)\n",
        "extracted_features = scaler1.transform(extracted_features)\n",
        "predicted_values3 = model_transf1.predict(np.hstack((X_test_tokens, extracted_features)))\n",
        "np.mean(((predicted_values3 > 0.5)*1).reshape(-1) == y_tgt_test)"
      ],
      "execution_count": null,
      "outputs": [
        {
          "output_type": "execute_result",
          "data": {
            "text/plain": [
              "0.9538162677027197"
            ]
          },
          "metadata": {
            "tags": []
          },
          "execution_count": 27
        }
      ]
    },
    {
      "cell_type": "code",
      "metadata": {
        "colab": {
          "base_uri": "https://localhost:8080/"
        },
        "id": "_mmwOYW1opY_",
        "outputId": "08a0d232-5cf4-483b-8b78-6e2b4cbe83c3"
      },
      "source": [
        "np.hstack((X_test_tokens, extracted_features)).shape"
      ],
      "execution_count": null,
      "outputs": [
        {
          "output_type": "execute_result",
          "data": {
            "text/plain": [
              "(15958, 5256)"
            ]
          },
          "metadata": {
            "tags": []
          },
          "execution_count": 22
        }
      ]
    },
    {
      "cell_type": "code",
      "metadata": {
        "colab": {
          "base_uri": "https://localhost:8080/"
        },
        "id": "vhTKopmhcsg1",
        "outputId": "f42bf7f2-cc49-4b5d-ea74-6b99cc9f17cf"
      },
      "source": [
        "max_length"
      ],
      "execution_count": null,
      "outputs": [
        {
          "output_type": "execute_result",
          "data": {
            "text/plain": [
              "1411"
            ]
          },
          "metadata": {
            "tags": []
          },
          "execution_count": 52
        }
      ]
    },
    {
      "cell_type": "markdown",
      "metadata": {
        "id": "s3PhDClwjwQ0"
      },
      "source": [
        "# Evaluation"
      ]
    },
    {
      "cell_type": "code",
      "metadata": {
        "id": "MFX_Lg-_8uZC",
        "colab": {
          "base_uri": "https://localhost:8080/"
        },
        "outputId": "54289ba8-4c5a-478f-8446-0e25fa56a5ca"
      },
      "source": [
        "import keras \n",
        "from keras.models import Sequential, Model, Input\n",
        "from sklearn import metrics\n",
        "from tensorflow.python.keras.preprocessing.text import Tokenizer\n",
        "from tensorflow.python.keras.preprocessing.sequence import pad_sequences\n",
        "\n",
        "scores = {}\n",
        "\n",
        "for fold_no in np.arange(1):\n",
        "  X_train, X_test, y_aux1_train, y_aux1_test = split_data(X, y_aux_agg, fold_no)\n",
        "  X_train, X_test, y_tgt_train, y_tgt_test = split_data(X, y_tgt, fold_no)\n",
        "  y_aux1_train = np.array(y_aux1_train, dtype='float32')\n",
        "\n",
        "  vocab_size = 5000\n",
        "\n",
        "  tokenizer_obj = Tokenizer(num_words = vocab_size)\n",
        "  tokenizer_obj.fit_on_texts(X_train)\n",
        "\n",
        "  max_length = max([len(s.split()) for s in X])\n",
        "\n",
        "  X_train_tokens = tokenizer_obj.texts_to_matrix(X_train, mode='tfidf')\n",
        "  X_test_tokens = tokenizer_obj.texts_to_matrix(X_test, mode='tfidf')\n",
        "\n",
        "  # model_Vanilla = keras.models.load_model('/content/drive/MyDrive/Transfer_learning/Toxic_SGD/model_Vanilla_'+str(fold_no))\n",
        "  # model_linear = keras.models.load_model('/content/drive/MyDrive/Transfer_learning/Toxic_SGD/model_Vanilla_linear_'+str(fold_no))\n",
        "  # model_joint = keras.models.load_model('/content/drive/MyDrive/Transfer_learning/Toxic_SGD/model_Vanilla_joint_'+str(fold_no))\n",
        "  model_Aux1 = keras.models.load_model('/content/drive/MyDrive/Transfer_learning/Toxic_SGD3/model_Aux1_'+str(fold_no), compile=False)\n",
        "  model_transf1 = keras.models.load_model('/content/drive/MyDrive/Transfer_learning/Toxic_SGD3/model_transf1_'+str(fold_no))\n",
        "  model_transf_linear1 = keras.models.load_model('/content/drive/MyDrive/Transfer_learning/Toxic_SGD3/model_transf_linear1_'+str(fold_no))\n",
        "  # model_Aux_ce1 = keras.models.load_model('/content/drive/MyDrive/Transfer_learning/Toxic_SGD/model_Vanilla_joint_'+str(fold_no), compile=False)\n",
        "  # model_transf_ce1 = keras.models.load_model('/content/drive/MyDrive/Transfer_learning/Toxic_SGD/model_transf_ce1_revised_'+str(fold_no))\n",
        "  # model_transf_ce_linear1 = keras.models.load_model('/content/drive/MyDrive/Transfer_learning/Toxic_SGD/model_transf_ce_linear1_revised_'+str(fold_no))\n",
        "\n",
        "\n",
        "  # predicted_linear = model_linear.predict(X_test_tokens)\n",
        "  # predicted_Vanilla = model_Vanilla.predict(X_test_tokens)\n",
        "  # predicted_joint = model_joint.predict(X_test_tokens)[:,0]\n",
        "  \n",
        "  extraction = Model(inputs=model_Aux1.inputs, outputs=model_Aux1.layers[-2].output)\n",
        "  predicted_extract = extraction.predict(X_test_tokens)\n",
        "  predicted_transf_linear = model_transf_linear1.predict(np.hstack((X_test_tokens, predicted_extract)))\n",
        "  predicted_transf = model_transf1.predict(np.hstack((X_test_tokens, predicted_extract)))\n",
        "  # extraction_ce = Model(inputs=model_Aux_ce1.inputs, outputs=model_Aux_ce1.layers[-2].output)\n",
        "  # predicted_extract_ce = extraction_ce.predict(X_test_tokens)\n",
        "  # predicted_transf_ce_linear = model_transf_ce_linear1.predict(np.hstack((X_test_tokens, predicted_extract_ce)))\n",
        "  # predicted_transf_ce = model_transf_ce1.predict(np.hstack((X_test_tokens, predicted_extract_ce)))\n",
        "  \n",
        "  # auc_linear = metrics.roc_auc_score(y_tgt_test, (predicted_linear).reshape(-1))\n",
        "  # auc_Vanilla = metrics.roc_auc_score(y_tgt_test, (predicted_Vanilla).reshape(-1))\n",
        "  # auc_joint = metrics.roc_auc_score(y_tgt_test, (predicted_joint).reshape(-1))\n",
        "  auc_transf = metrics.roc_auc_score(y_tgt_test, (predicted_transf).reshape(-1))\n",
        "  auc_transf_linear = metrics.roc_auc_score(y_tgt_test, (predicted_transf_linear).reshape(-1))\n",
        "  # auc_transf_ce = metrics.roc_auc_score(y_tgt_test, (predicted_transf_ce).reshape(-1))\n",
        "  # auc_transf_ce_linear = metrics.roc_auc_score(y_tgt_test, (predicted_transf_ce_linear).reshape(-1))\n",
        "\n",
        "  # acc_linear = np.mean(((predicted_linear > 0.5) *1).reshape(-1) == y_tgt_test)\n",
        "  # acc_Vanilla = np.mean(((predicted_Vanilla > 0.5) *1).reshape(-1) == y_tgt_test)\n",
        "  # acc_joint = np.mean(((predicted_joint > 0.5) *1).reshape(-1) == y_tgt_test)\n",
        "  acc_transf_linear = np.mean(((predicted_transf_linear > 0.5) *1).reshape(-1) == y_tgt_test)\n",
        "  acc_transf = np.mean(((predicted_transf > 0.5) *1).reshape(-1) == y_tgt_test)\n",
        "  # acc_transf_ce_linear = np.mean(((predicted_transf_ce_linear > 0.5) *1).reshape(-1) == y_tgt_test)\n",
        "  # acc_transf_ce = np.mean(((predicted_transf_ce > 0.5) *1).reshape(-1) == y_tgt_test)\n",
        "\n",
        "  # f1_linear = metrics.f1_score(y_tgt_test, ((predicted_linear>0.5) *1).reshape(-1))\n",
        "  # f1_Vanilla = metrics.f1_score(y_tgt_test, ((predicted_Vanilla>0.5) *1).reshape(-1))\n",
        "  # f1_joint = metrics.f1_score(y_tgt_test, ((predicted_joint>0.5) *1).reshape(-1))\n",
        "  f1_transf_linear = metrics.f1_score(y_tgt_test, ((predicted_transf_linear>0.5)*1).reshape(-1))\n",
        "  f1_transf = metrics.f1_score(y_tgt_test, ((predicted_transf>0.5)*1).reshape(-1))\n",
        "  # f1_transf_ce_linear = metrics.f1_score(y_tgt_test, ((predicted_transf_ce_linear>0.5)*1).reshape(-1))\n",
        "  # f1_transf_ce = metrics.f1_score(y_tgt_test, ((predicted_transf_ce>0.5)*1).reshape(-1))\n",
        "\n",
        "  scores[fold_no] = np.array([auc_transf_linear, auc_transf,\n",
        "                              acc_transf_linear, acc_transf, \n",
        "                              f1_transf_linear, f1_transf])\n",
        "  \n",
        "\n",
        "  # scores[fold_no] = np.array([auc_linear, auc_Vanilla, auc_joint, auc_transf_ce_linear, auc_transf_linear, auc_transf_ce, auc_transf,  \n",
        "  #                             acc_linear, acc_Vanilla, acc_joint, acc_transf_ce_linear, acc_transf_linear, acc_transf_ce, acc_transf,  \n",
        "  #                             f1_linear, f1_Vanilla, f1_joint, f1_transf_ce_linear, f1_transf_linear, f1_transf_ce, f1_transf])\n",
        "  # del X_train, X_test, y_aux1_train, y_aux1_test, y_tgt_train, y_tgt_test, tokenizer_obj, X_train_tokens, X_test_tokens\n",
        "\n",
        "scores_final = np.vstack(scores.values())\n",
        "\n",
        "scores_final = pd.DataFrame(scores_final, columns = ['auc_Proposed2', 'auc_Proposed4',\n",
        "                                                     'acc_Proposed2', 'acc_Proposed4',\n",
        "                                                     'f1_Proposed2', 'f1_Proposed4'])\n",
        "\n",
        "# scores_final = pd.DataFrame(scores_final, columns = ['auc_Baseline1','auc_Baseline2', 'auc_Baseline3', 'auc_Proposed1', 'auc_Proposed2', 'auc_Proposed3', 'auc_Proposed4',\n",
        "#                                                      'acc_Baseline1','acc_Baseline2', 'acc_Baseline3', 'acc_Proposed1', 'acc_Proposed2','acc_Proposed3', 'acc_Proposed4',\n",
        "#                                                      'f1_Baseline1','f1_Baseline2', 'f1_Baseline3', 'f1_Proposed1','f1_Proposed2','f1_Proposed3', 'f1_Proposed4'])\n",
        "# scores_final.to_csv('/content/drive/MyDrive/Transfer_learning/Toxic_SGD/scores_final.csv')\n",
        "# scores_final.to_csv('/content/drive/MyDrive/Transfer_learning/Toxic_SGD2/scores_final_revised.csv')"
      ],
      "execution_count": null,
      "outputs": [
        {
          "output_type": "stream",
          "text": [
            "/usr/local/lib/python3.7/dist-packages/ipykernel_launcher.py:82: FutureWarning: arrays to stack must be passed as a \"sequence\" type such as list or tuple. Support for non-sequence iterables such as generators is deprecated as of NumPy 1.16 and will raise an error in the future.\n"
          ],
          "name": "stderr"
        }
      ]
    },
    {
      "cell_type": "code",
      "metadata": {
        "colab": {
          "base_uri": "https://localhost:8080/",
          "height": 80
        },
        "id": "8KfJqRO4YqMM",
        "outputId": "bf952b22-ae48-4848-bfab-64ae08f95afb"
      },
      "source": [
        "scores_final"
      ],
      "execution_count": null,
      "outputs": [
        {
          "output_type": "execute_result",
          "data": {
            "text/html": [
              "<div>\n",
              "<style scoped>\n",
              "    .dataframe tbody tr th:only-of-type {\n",
              "        vertical-align: middle;\n",
              "    }\n",
              "\n",
              "    .dataframe tbody tr th {\n",
              "        vertical-align: top;\n",
              "    }\n",
              "\n",
              "    .dataframe thead th {\n",
              "        text-align: right;\n",
              "    }\n",
              "</style>\n",
              "<table border=\"1\" class=\"dataframe\">\n",
              "  <thead>\n",
              "    <tr style=\"text-align: right;\">\n",
              "      <th></th>\n",
              "      <th>auc_Proposed2</th>\n",
              "      <th>auc_Proposed4</th>\n",
              "      <th>acc_Proposed2</th>\n",
              "      <th>acc_Proposed4</th>\n",
              "      <th>f1_Proposed2</th>\n",
              "      <th>f1_Proposed4</th>\n",
              "    </tr>\n",
              "  </thead>\n",
              "  <tbody>\n",
              "    <tr>\n",
              "      <th>0</th>\n",
              "      <td>0.95886</td>\n",
              "      <td>0.958068</td>\n",
              "      <td>0.956761</td>\n",
              "      <td>0.956574</td>\n",
              "      <td>0.739229</td>\n",
              "      <td>0.743997</td>\n",
              "    </tr>\n",
              "  </tbody>\n",
              "</table>\n",
              "</div>"
            ],
            "text/plain": [
              "   auc_Proposed2  auc_Proposed4  ...  f1_Proposed2  f1_Proposed4\n",
              "0        0.95886       0.958068  ...      0.739229      0.743997\n",
              "\n",
              "[1 rows x 6 columns]"
            ]
          },
          "metadata": {
            "tags": []
          },
          "execution_count": 25
        }
      ]
    },
    {
      "cell_type": "code",
      "metadata": {
        "colab": {
          "base_uri": "https://localhost:8080/",
          "height": 80
        },
        "id": "ABkcVwu3SSm5",
        "outputId": "384a5573-53ad-45c2-858c-20293c36ac5e"
      },
      "source": [
        "scores_final"
      ],
      "execution_count": null,
      "outputs": [
        {
          "output_type": "execute_result",
          "data": {
            "text/html": [
              "<div>\n",
              "<style scoped>\n",
              "    .dataframe tbody tr th:only-of-type {\n",
              "        vertical-align: middle;\n",
              "    }\n",
              "\n",
              "    .dataframe tbody tr th {\n",
              "        vertical-align: top;\n",
              "    }\n",
              "\n",
              "    .dataframe thead th {\n",
              "        text-align: right;\n",
              "    }\n",
              "</style>\n",
              "<table border=\"1\" class=\"dataframe\">\n",
              "  <thead>\n",
              "    <tr style=\"text-align: right;\">\n",
              "      <th></th>\n",
              "      <th>auc_Proposed2</th>\n",
              "      <th>auc_Proposed4</th>\n",
              "      <th>acc_Proposed2</th>\n",
              "      <th>acc_Proposed4</th>\n",
              "      <th>f1_Proposed2</th>\n",
              "      <th>f1_Proposed4</th>\n",
              "    </tr>\n",
              "  </thead>\n",
              "  <tbody>\n",
              "    <tr>\n",
              "      <th>0</th>\n",
              "      <td>0.958291</td>\n",
              "      <td>0.957172</td>\n",
              "      <td>0.958328</td>\n",
              "      <td>0.958892</td>\n",
              "      <td>0.757211</td>\n",
              "      <td>0.765882</td>\n",
              "    </tr>\n",
              "  </tbody>\n",
              "</table>\n",
              "</div>"
            ],
            "text/plain": [
              "   auc_Proposed2  auc_Proposed4  ...  f1_Proposed2  f1_Proposed4\n",
              "0       0.958291       0.957172  ...      0.757211      0.765882\n",
              "\n",
              "[1 rows x 6 columns]"
            ]
          },
          "metadata": {
            "tags": []
          },
          "execution_count": 22
        }
      ]
    },
    {
      "cell_type": "code",
      "metadata": {
        "colab": {
          "base_uri": "https://localhost:8080/"
        },
        "id": "fPr3b2eVqyyK",
        "outputId": "f9fb7513-08db-438b-8c8a-cc436edcd1d0"
      },
      "source": [
        "np.mean(scores_final, axis=0)"
      ],
      "execution_count": null,
      "outputs": [
        {
          "output_type": "execute_result",
          "data": {
            "text/plain": [
              "auc_Proposed3    0.958451\n",
              "auc_Proposed4    0.961254\n",
              "acc_Proposed3    0.958207\n",
              "acc_Proposed4    0.958790\n",
              "f1_Proposed3     0.765647\n",
              "f1_Proposed4     0.770609\n",
              "dtype: float64"
            ]
          },
          "metadata": {
            "tags": []
          },
          "execution_count": 22
        }
      ]
    },
    {
      "cell_type": "code",
      "metadata": {
        "colab": {
          "base_uri": "https://localhost:8080/"
        },
        "id": "vJmdyYzqJruc",
        "outputId": "3f43b8bf-56d3-488f-c11b-b50b18eb071f"
      },
      "source": [
        "scores_final"
      ],
      "execution_count": null,
      "outputs": [
        {
          "output_type": "execute_result",
          "data": {
            "text/plain": [
              "array([[0.95481227, 0.94723025, 0.95051352, 0.95461274, 0.94982207,\n",
              "        0.95788946, 0.95381627, 0.95745081, 0.95644818, 0.95456824,\n",
              "        0.75275938, 0.7291437 , 0.75064267, 0.74363703, 0.73817263],\n",
              "       [0.95965249, 0.95846067, 0.95489745, 0.95310128, 0.95322425,\n",
              "        0.95882685, 0.95826283, 0.95782415, 0.95744814, 0.95563076,\n",
              "        0.76710386, 0.76923077, 0.76591304, 0.76066267, 0.75484765],\n",
              "       [0.95381839, 0.95418712, 0.95280688, 0.9512541 , 0.95349389,\n",
              "        0.95776148, 0.95801216, 0.9571348 , 0.95600677, 0.95732281,\n",
              "        0.74888227, 0.75421864, 0.75342466, 0.74095941, 0.75263349],\n",
              "       [0.95621471, 0.95110088, 0.94812901, 0.9516515 , 0.95483011,\n",
              "        0.95726014, 0.95506674, 0.95481607, 0.95481607, 0.95575609,\n",
              "        0.74852507, 0.73898799, 0.73848386, 0.73867343, 0.74438812],\n",
              "       [0.95675294, 0.95534823, 0.95726956, 0.95639186, 0.95615949,\n",
              "        0.95901485, 0.9595162 , 0.95644545, 0.95694679, 0.95625744,\n",
              "        0.76096491, 0.76319648, 0.74625776, 0.74990899, 0.74691806],\n",
              "       [0.9568767 , 0.95298569, 0.95497521, 0.95827194, 0.95433269,\n",
              "        0.95487874, 0.95444006, 0.95675879, 0.95494141, 0.95575609,\n",
              "        0.74358974, 0.73914604, 0.75479744, 0.744401  , 0.74785714],\n",
              "       [0.94842533, 0.94576613, 0.94789375, 0.94466146, 0.9448312 ,\n",
              "        0.9571348 , 0.95512941, 0.95469073, 0.95418938, 0.95500407,\n",
              "        0.75744681, 0.74591909, 0.74443266, 0.74068819, 0.74628975],\n",
              "       [0.95258448, 0.95142173, 0.95699564, 0.94781733, 0.94822137,\n",
              "        0.95851351, 0.95682146, 0.95826283, 0.95694679, 0.95487874,\n",
              "        0.76049204, 0.74863189, 0.76298932, 0.74990899, 0.74267334],\n",
              "       [0.95363997, 0.95299927, 0.95521535, 0.95416825, 0.95577825,\n",
              "        0.95876418, 0.95694679, 0.95675879, 0.95751081, 0.95519208,\n",
              "        0.7596786 , 0.74954429, 0.75286533, 0.75452571, 0.74600355],\n",
              "       [0.95365084, 0.94853914, 0.95433436, 0.95238492, 0.95497161,\n",
              "        0.95769882, 0.95744814, 0.95719747, 0.95820016, 0.95776148,\n",
              "        0.75884244, 0.76366168, 0.76292954, 0.76653833, 0.76806607]])"
            ]
          },
          "metadata": {
            "tags": []
          },
          "execution_count": 27
        }
      ]
    },
    {
      "cell_type": "code",
      "metadata": {
        "colab": {
          "base_uri": "https://localhost:8080/"
        },
        "id": "MLOe3ShuDKTV",
        "outputId": "528fd67a-388b-4a16-cf20-034c3cb362f9"
      },
      "source": [
        "scores"
      ],
      "execution_count": null,
      "outputs": [
        {
          "output_type": "execute_result",
          "data": {
            "text/plain": [
              "{0: array([0.95481227, 0.94723025, 0.95051352, 0.95461274, 0.94982207,\n",
              "        0.95788946, 0.95381627, 0.95745081, 0.95644818, 0.95456824,\n",
              "        0.75275938, 0.7291437 , 0.75064267, 0.74363703, 0.73817263])}"
            ]
          },
          "metadata": {
            "tags": []
          },
          "execution_count": 25
        }
      ]
    }
  ]
}